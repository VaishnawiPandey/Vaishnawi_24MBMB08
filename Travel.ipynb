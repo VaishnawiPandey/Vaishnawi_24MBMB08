{
 "cells": [
  {
   "cell_type": "code",
   "execution_count": 0,
   "metadata": {
    "application/vnd.databricks.v1+cell": {
     "cellMetadata": {
      "byteLimit": 2048000,
      "implicitDf": true,
      "rowLimit": 10000
     },
     "inputWidgets": {},
     "nuid": "980e471f-41ca-41c0-a7bf-3c9fdcac9104",
     "showTitle": false,
     "tableResultSettingsMap": {},
     "title": ""
    }
   },
   "outputs": [
    {
     "output_type": "display_data",
     "data": {
      "text/html": [
       "<style scoped>\n",
       "  .table-result-container {\n",
       "    max-height: 300px;\n",
       "    overflow: auto;\n",
       "  }\n",
       "  table, th, td {\n",
       "    border: 1px solid black;\n",
       "    border-collapse: collapse;\n",
       "  }\n",
       "  th, td {\n",
       "    padding: 5px;\n",
       "  }\n",
       "  th {\n",
       "    text-align: left;\n",
       "  }\n",
       "</style><div class='table-result-container'><table class='table-result'><thead style='background-color: white'><tr><th>customer_id</th><th>customer_name</th><th>customer_city</th><th>hotel_id</th><th>hotel_name</th><th>hotel_city</th><th>booking_date</th><th>nights</th><th>price_per_night</th><th>total_amount</th></tr></thead><tbody><tr><td>C001</td><td>Neha</td><td>Bangalore</td><td>H03</td><td>Hotel Grand</td><td>Mumbai</td><td>2023-05-26</td><td>2</td><td>6329</td><td>12658</td></tr><tr><td>C002</td><td>Neha</td><td>Bangalore</td><td>H01</td><td>Hotel Grand</td><td>Delhi</td><td>2023-11-29</td><td>5</td><td>4568</td><td>22840</td></tr><tr><td>C003</td><td>Amit</td><td>Hyderabad</td><td>H03</td><td>Sunshine Inn</td><td>Chennai</td><td>2023-08-18</td><td>5</td><td>5809</td><td>29045</td></tr><tr><td>C004</td><td>Sunil</td><td>Pune</td><td>H01</td><td>Sunshine Inn</td><td>Chennai</td><td>2023-03-07</td><td>4</td><td>4086</td><td>16344</td></tr><tr><td>C005</td><td>Manoj</td><td>Mumbai</td><td>H03</td><td>Sunshine Inn</td><td>Pune</td><td>2023-08-12</td><td>1</td><td>2136</td><td>2136</td></tr><tr><td>C006</td><td>Ravi</td><td>Pune</td><td>H05</td><td>Sunshine Inn</td><td>Delhi</td><td>2023-11-02</td><td>1</td><td>6470</td><td>6470</td></tr><tr><td>C007</td><td>Kiran</td><td>Chennai</td><td>H02</td><td>City Palace</td><td>Delhi</td><td>2023-09-08</td><td>6</td><td>2676</td><td>16056</td></tr><tr><td>C008</td><td>Amit</td><td>Hyderabad</td><td>H01</td><td>City Palace</td><td>Bangalore</td><td>2023-11-08</td><td>2</td><td>7001</td><td>14002</td></tr><tr><td>C009</td><td>Anita</td><td>Pune</td><td>H05</td><td>Sunshine Inn</td><td>Mumbai</td><td>2023-11-12</td><td>5</td><td>7963</td><td>39815</td></tr><tr><td>C010</td><td>Sunil</td><td>Delhi</td><td>H05</td><td>Sunshine Inn</td><td>Mumbai</td><td>2023-04-07</td><td>6</td><td>5646</td><td>33876</td></tr><tr><td>C011</td><td>Kiran</td><td>Hyderabad</td><td>H05</td><td>Comfort Suites</td><td>Kolkata</td><td>2023-06-15</td><td>1</td><td>7275</td><td>7275</td></tr><tr><td>C012</td><td>Kiran</td><td>Chennai</td><td>H06</td><td>Sea View Resort</td><td>Chennai</td><td>2023-05-30</td><td>2</td><td>7657</td><td>15314</td></tr><tr><td>C013</td><td>Neha</td><td>Hyderabad</td><td>H04</td><td>Sea View Resort</td><td>Kolkata</td><td>2023-10-14</td><td>4</td><td>2388</td><td>9552</td></tr><tr><td>C014</td><td>Priya</td><td>Bangalore</td><td>H04</td><td>Sea View Resort</td><td>Chennai</td><td>2023-04-12</td><td>6</td><td>6307</td><td>37842</td></tr><tr><td>C015</td><td>Anita</td><td>Hyderabad</td><td>H04</td><td>Comfort Suites</td><td>Delhi</td><td>2023-08-18</td><td>5</td><td>6503</td><td>32515</td></tr><tr><td>C016</td><td>Anita</td><td>Mumbai</td><td>H06</td><td>Hotel Grand</td><td>Mumbai</td><td>2023-09-07</td><td>3</td><td>5099</td><td>15297</td></tr><tr><td>C017</td><td>Kiran</td><td>Mumbai</td><td>H03</td><td>City Palace</td><td>Delhi</td><td>2023-12-17</td><td>7</td><td>5223</td><td>36561</td></tr><tr><td>C018</td><td>Neha</td><td>Pune</td><td>H03</td><td>Royal Stay</td><td>Delhi</td><td>2023-09-23</td><td>2</td><td>6791</td><td>13582</td></tr><tr><td>C019</td><td>Sneha</td><td>Bangalore</td><td>H05</td><td>Royal Stay</td><td>Hyderabad</td><td>2023-12-02</td><td>4</td><td>2052</td><td>8208</td></tr><tr><td>C020</td><td>Sneha</td><td>Chennai</td><td>H02</td><td>Comfort Suites</td><td>Pune</td><td>2023-05-01</td><td>2</td><td>3131</td><td>6262</td></tr><tr><td>C021</td><td>Amit</td><td>Chennai</td><td>H04</td><td>Royal Stay</td><td>Kolkata</td><td>2023-06-29</td><td>1</td><td>7285</td><td>7285</td></tr><tr><td>C022</td><td>Amit</td><td>Bangalore</td><td>H02</td><td>Comfort Suites</td><td>Kolkata</td><td>2023-12-31</td><td>6</td><td>7735</td><td>46410</td></tr><tr><td>C023</td><td>Anita</td><td>Chennai</td><td>H06</td><td>Hotel Grand</td><td>Pune</td><td>2023-05-27</td><td>7</td><td>4764</td><td>33348</td></tr><tr><td>C024</td><td>Kiran</td><td>Hyderabad</td><td>H03</td><td>Hotel Grand</td><td>Delhi</td><td>2023-07-24</td><td>4</td><td>2230</td><td>8920</td></tr><tr><td>C025</td><td>Sneha</td><td>Bangalore</td><td>H01</td><td>Comfort Suites</td><td>Delhi</td><td>2023-10-27</td><td>6</td><td>7940</td><td>47640</td></tr><tr><td>C026</td><td>Manoj</td><td>Delhi</td><td>H03</td><td>Hotel Grand</td><td>Delhi</td><td>2023-07-09</td><td>2</td><td>2982</td><td>5964</td></tr><tr><td>C027</td><td>Priya</td><td>Delhi</td><td>H05</td><td>Sunshine Inn</td><td>Mumbai</td><td>2023-04-25</td><td>7</td><td>6133</td><td>42931</td></tr><tr><td>C028</td><td>Priya</td><td>Hyderabad</td><td>H05</td><td>Hotel Grand</td><td>Bangalore</td><td>2023-03-22</td><td>4</td><td>6068</td><td>24272</td></tr><tr><td>C029</td><td>Ravi</td><td>Mumbai</td><td>H03</td><td>City Palace</td><td>Mumbai</td><td>2023-07-21</td><td>7</td><td>4946</td><td>34622</td></tr><tr><td>C030</td><td>Manoj</td><td>Pune</td><td>H02</td><td>Comfort Suites</td><td>Kolkata</td><td>2023-03-20</td><td>7</td><td>4138</td><td>28966</td></tr><tr><td>C031</td><td>Priya</td><td>Kolkata</td><td>H06</td><td>City Palace</td><td>Chennai</td><td>2023-09-10</td><td>1</td><td>7428</td><td>7428</td></tr><tr><td>C032</td><td>Neha</td><td>Kolkata</td><td>H03</td><td>Royal Stay</td><td>Mumbai</td><td>2023-12-10</td><td>3</td><td>4984</td><td>14952</td></tr><tr><td>C033</td><td>Ravi</td><td>Chennai</td><td>H01</td><td>Royal Stay</td><td>Bangalore</td><td>2023-04-11</td><td>3</td><td>5625</td><td>16875</td></tr><tr><td>C034</td><td>Priya</td><td>Hyderabad</td><td>H01</td><td>City Palace</td><td>Pune</td><td>2023-06-16</td><td>6</td><td>4840</td><td>29040</td></tr><tr><td>C035</td><td>Manoj</td><td>Kolkata</td><td>H04</td><td>City Palace</td><td>Delhi</td><td>2023-01-25</td><td>5</td><td>5336</td><td>26680</td></tr><tr><td>C036</td><td>Priya</td><td>Mumbai</td><td>H02</td><td>Hotel Grand</td><td>Bangalore</td><td>2023-11-05</td><td>2</td><td>4536</td><td>9072</td></tr><tr><td>C037</td><td>Amit</td><td>Pune</td><td>H03</td><td>Comfort Suites</td><td>Chennai</td><td>2023-10-13</td><td>3</td><td>6070</td><td>18210</td></tr><tr><td>C038</td><td>Manoj</td><td>Hyderabad</td><td>H04</td><td>Sea View Resort</td><td>Bangalore</td><td>2023-11-28</td><td>5</td><td>3404</td><td>17020</td></tr><tr><td>C039</td><td>Neha</td><td>Hyderabad</td><td>H06</td><td>City Palace</td><td>Delhi</td><td>2023-10-08</td><td>5</td><td>6059</td><td>30295</td></tr><tr><td>C040</td><td>Amit</td><td>Delhi</td><td>H02</td><td>City Palace</td><td>Mumbai</td><td>2023-10-16</td><td>7</td><td>4546</td><td>31822</td></tr><tr><td>C041</td><td>Kiran</td><td>Kolkata</td><td>H06</td><td>Royal Stay</td><td>Hyderabad</td><td>2023-06-26</td><td>1</td><td>5105</td><td>5105</td></tr><tr><td>C042</td><td>Neha</td><td>Bangalore</td><td>H05</td><td>Sea View Resort</td><td>Mumbai</td><td>2023-12-28</td><td>2</td><td>4702</td><td>9404</td></tr><tr><td>C043</td><td>Sneha</td><td>Pune</td><td>H06</td><td>City Palace</td><td>Delhi</td><td>2023-11-10</td><td>1</td><td>3645</td><td>3645</td></tr><tr><td>C044</td><td>Rohit</td><td>Delhi</td><td>H06</td><td>Sunshine Inn</td><td>Hyderabad</td><td>2023-10-25</td><td>7</td><td>6025</td><td>42175</td></tr><tr><td>C045</td><td>Amit</td><td>Bangalore</td><td>H03</td><td>Comfort Suites</td><td>Kolkata</td><td>2023-10-01</td><td>4</td><td>2451</td><td>9804</td></tr><tr><td>C046</td><td>Ravi</td><td>Delhi</td><td>H01</td><td>Hotel Grand</td><td>Delhi</td><td>2023-03-12</td><td>1</td><td>2978</td><td>2978</td></tr><tr><td>C047</td><td>Ravi</td><td>Delhi</td><td>H01</td><td>Sunshine Inn</td><td>Delhi</td><td>2023-02-14</td><td>7</td><td>4573</td><td>32011</td></tr><tr><td>C048</td><td>Sneha</td><td>Kolkata</td><td>H05</td><td>Royal Stay</td><td>Kolkata</td><td>2023-01-14</td><td>5</td><td>6956</td><td>34780</td></tr><tr><td>C049</td><td>Ravi</td><td>Chennai</td><td>H05</td><td>Hotel Grand</td><td>Kolkata</td><td>2023-10-21</td><td>1</td><td>7794</td><td>7794</td></tr><tr><td>C050</td><td>Manoj</td><td>Delhi</td><td>H04</td><td>City Palace</td><td>Mumbai</td><td>2023-04-22</td><td>4</td><td>4077</td><td>16308</td></tr><tr><td>C051</td><td>Amit</td><td>Bangalore</td><td>H02</td><td>Hotel Grand</td><td>Mumbai</td><td>2023-08-10</td><td>6</td><td>7317</td><td>43902</td></tr><tr><td>C052</td><td>Anita</td><td>Pune</td><td>H01</td><td>Hotel Grand</td><td>Kolkata</td><td>2023-08-22</td><td>3</td><td>5207</td><td>15621</td></tr><tr><td>C053</td><td>Sneha</td><td>Kolkata</td><td>H06</td><td>Royal Stay</td><td>Delhi</td><td>2023-09-16</td><td>6</td><td>3762</td><td>22572</td></tr><tr><td>C054</td><td>Rohit</td><td>Bangalore</td><td>H06</td><td>Royal Stay</td><td>Mumbai</td><td>2023-10-24</td><td>1</td><td>2694</td><td>2694</td></tr><tr><td>C055</td><td>Manoj</td><td>Chennai</td><td>H06</td><td>Royal Stay</td><td>Mumbai</td><td>2023-06-24</td><td>6</td><td>5695</td><td>34170</td></tr><tr><td>C056</td><td>Manoj</td><td>Chennai</td><td>H05</td><td>City Palace</td><td>Chennai</td><td>2023-09-10</td><td>6</td><td>3183</td><td>19098</td></tr><tr><td>C057</td><td>Ravi</td><td>Mumbai</td><td>H06</td><td>Comfort Suites</td><td>Chennai</td><td>2023-05-17</td><td>1</td><td>6093</td><td>6093</td></tr><tr><td>C058</td><td>Amit</td><td>Delhi</td><td>H03</td><td>Sea View Resort</td><td>Hyderabad</td><td>2023-11-03</td><td>2</td><td>7220</td><td>14440</td></tr><tr><td>C059</td><td>Manoj</td><td>Chennai</td><td>H02</td><td>Sea View Resort</td><td>Bangalore</td><td>2023-11-02</td><td>3</td><td>7951</td><td>23853</td></tr><tr><td>C060</td><td>Priya</td><td>Hyderabad</td><td>H06</td><td>Hotel Grand</td><td>Kolkata</td><td>2023-03-13</td><td>2</td><td>7414</td><td>14828</td></tr><tr><td>C061</td><td>Priya</td><td>Kolkata</td><td>H01</td><td>Hotel Grand</td><td>Pune</td><td>2023-01-01</td><td>5</td><td>6290</td><td>31450</td></tr><tr><td>C062</td><td>Manoj</td><td>Chennai</td><td>H03</td><td>Hotel Grand</td><td>Mumbai</td><td>2023-03-28</td><td>5</td><td>6919</td><td>34595</td></tr><tr><td>C063</td><td>Rohit</td><td>Pune</td><td>H04</td><td>Comfort Suites</td><td>Kolkata</td><td>2023-11-07</td><td>2</td><td>4049</td><td>8098</td></tr><tr><td>C064</td><td>Kiran</td><td>Pune</td><td>H04</td><td>Sea View Resort</td><td>Bangalore</td><td>2023-04-26</td><td>7</td><td>7886</td><td>55202</td></tr><tr><td>C065</td><td>Ravi</td><td>Chennai</td><td>H02</td><td>Hotel Grand</td><td>Pune</td><td>2023-10-30</td><td>6</td><td>7964</td><td>47784</td></tr><tr><td>C066</td><td>Sunil</td><td>Chennai</td><td>H01</td><td>Sunshine Inn</td><td>Pune</td><td>2023-03-11</td><td>3</td><td>3537</td><td>10611</td></tr><tr><td>C067</td><td>Amit</td><td>Delhi</td><td>H02</td><td>Comfort Suites</td><td>Kolkata</td><td>2023-05-01</td><td>1</td><td>2713</td><td>2713</td></tr><tr><td>C068</td><td>Anita</td><td>Bangalore</td><td>H03</td><td>Sunshine Inn</td><td>Chennai</td><td>2023-12-16</td><td>1</td><td>5238</td><td>5238</td></tr><tr><td>C069</td><td>Kiran</td><td>Bangalore</td><td>H03</td><td>Sunshine Inn</td><td>Delhi</td><td>2023-03-17</td><td>5</td><td>3136</td><td>15680</td></tr><tr><td>C070</td><td>Sunil</td><td>Mumbai</td><td>H06</td><td>Sunshine Inn</td><td>Pune</td><td>2023-05-05</td><td>7</td><td>2195</td><td>15365</td></tr></tbody></table></div>"
      ]
     },
     "metadata": {
      "application/vnd.databricks.v1+output": {
       "addedWidgets": {},
       "aggData": [],
       "aggError": "",
       "aggOverflow": false,
       "aggSchema": [],
       "aggSeriesLimitReached": false,
       "aggType": "",
       "arguments": {},
       "columnCustomDisplayInfos": {},
       "data": [
        [
         "C001",
         "Neha",
         "Bangalore",
         "H03",
         "Hotel Grand",
         "Mumbai",
         "2023-05-26",
         2,
         6329,
         12658
        ],
        [
         "C002",
         "Neha",
         "Bangalore",
         "H01",
         "Hotel Grand",
         "Delhi",
         "2023-11-29",
         5,
         4568,
         22840
        ],
        [
         "C003",
         "Amit",
         "Hyderabad",
         "H03",
         "Sunshine Inn",
         "Chennai",
         "2023-08-18",
         5,
         5809,
         29045
        ],
        [
         "C004",
         "Sunil",
         "Pune",
         "H01",
         "Sunshine Inn",
         "Chennai",
         "2023-03-07",
         4,
         4086,
         16344
        ],
        [
         "C005",
         "Manoj",
         "Mumbai",
         "H03",
         "Sunshine Inn",
         "Pune",
         "2023-08-12",
         1,
         2136,
         2136
        ],
        [
         "C006",
         "Ravi",
         "Pune",
         "H05",
         "Sunshine Inn",
         "Delhi",
         "2023-11-02",
         1,
         6470,
         6470
        ],
        [
         "C007",
         "Kiran",
         "Chennai",
         "H02",
         "City Palace",
         "Delhi",
         "2023-09-08",
         6,
         2676,
         16056
        ],
        [
         "C008",
         "Amit",
         "Hyderabad",
         "H01",
         "City Palace",
         "Bangalore",
         "2023-11-08",
         2,
         7001,
         14002
        ],
        [
         "C009",
         "Anita",
         "Pune",
         "H05",
         "Sunshine Inn",
         "Mumbai",
         "2023-11-12",
         5,
         7963,
         39815
        ],
        [
         "C010",
         "Sunil",
         "Delhi",
         "H05",
         "Sunshine Inn",
         "Mumbai",
         "2023-04-07",
         6,
         5646,
         33876
        ],
        [
         "C011",
         "Kiran",
         "Hyderabad",
         "H05",
         "Comfort Suites",
         "Kolkata",
         "2023-06-15",
         1,
         7275,
         7275
        ],
        [
         "C012",
         "Kiran",
         "Chennai",
         "H06",
         "Sea View Resort",
         "Chennai",
         "2023-05-30",
         2,
         7657,
         15314
        ],
        [
         "C013",
         "Neha",
         "Hyderabad",
         "H04",
         "Sea View Resort",
         "Kolkata",
         "2023-10-14",
         4,
         2388,
         9552
        ],
        [
         "C014",
         "Priya",
         "Bangalore",
         "H04",
         "Sea View Resort",
         "Chennai",
         "2023-04-12",
         6,
         6307,
         37842
        ],
        [
         "C015",
         "Anita",
         "Hyderabad",
         "H04",
         "Comfort Suites",
         "Delhi",
         "2023-08-18",
         5,
         6503,
         32515
        ],
        [
         "C016",
         "Anita",
         "Mumbai",
         "H06",
         "Hotel Grand",
         "Mumbai",
         "2023-09-07",
         3,
         5099,
         15297
        ],
        [
         "C017",
         "Kiran",
         "Mumbai",
         "H03",
         "City Palace",
         "Delhi",
         "2023-12-17",
         7,
         5223,
         36561
        ],
        [
         "C018",
         "Neha",
         "Pune",
         "H03",
         "Royal Stay",
         "Delhi",
         "2023-09-23",
         2,
         6791,
         13582
        ],
        [
         "C019",
         "Sneha",
         "Bangalore",
         "H05",
         "Royal Stay",
         "Hyderabad",
         "2023-12-02",
         4,
         2052,
         8208
        ],
        [
         "C020",
         "Sneha",
         "Chennai",
         "H02",
         "Comfort Suites",
         "Pune",
         "2023-05-01",
         2,
         3131,
         6262
        ],
        [
         "C021",
         "Amit",
         "Chennai",
         "H04",
         "Royal Stay",
         "Kolkata",
         "2023-06-29",
         1,
         7285,
         7285
        ],
        [
         "C022",
         "Amit",
         "Bangalore",
         "H02",
         "Comfort Suites",
         "Kolkata",
         "2023-12-31",
         6,
         7735,
         46410
        ],
        [
         "C023",
         "Anita",
         "Chennai",
         "H06",
         "Hotel Grand",
         "Pune",
         "2023-05-27",
         7,
         4764,
         33348
        ],
        [
         "C024",
         "Kiran",
         "Hyderabad",
         "H03",
         "Hotel Grand",
         "Delhi",
         "2023-07-24",
         4,
         2230,
         8920
        ],
        [
         "C025",
         "Sneha",
         "Bangalore",
         "H01",
         "Comfort Suites",
         "Delhi",
         "2023-10-27",
         6,
         7940,
         47640
        ],
        [
         "C026",
         "Manoj",
         "Delhi",
         "H03",
         "Hotel Grand",
         "Delhi",
         "2023-07-09",
         2,
         2982,
         5964
        ],
        [
         "C027",
         "Priya",
         "Delhi",
         "H05",
         "Sunshine Inn",
         "Mumbai",
         "2023-04-25",
         7,
         6133,
         42931
        ],
        [
         "C028",
         "Priya",
         "Hyderabad",
         "H05",
         "Hotel Grand",
         "Bangalore",
         "2023-03-22",
         4,
         6068,
         24272
        ],
        [
         "C029",
         "Ravi",
         "Mumbai",
         "H03",
         "City Palace",
         "Mumbai",
         "2023-07-21",
         7,
         4946,
         34622
        ],
        [
         "C030",
         "Manoj",
         "Pune",
         "H02",
         "Comfort Suites",
         "Kolkata",
         "2023-03-20",
         7,
         4138,
         28966
        ],
        [
         "C031",
         "Priya",
         "Kolkata",
         "H06",
         "City Palace",
         "Chennai",
         "2023-09-10",
         1,
         7428,
         7428
        ],
        [
         "C032",
         "Neha",
         "Kolkata",
         "H03",
         "Royal Stay",
         "Mumbai",
         "2023-12-10",
         3,
         4984,
         14952
        ],
        [
         "C033",
         "Ravi",
         "Chennai",
         "H01",
         "Royal Stay",
         "Bangalore",
         "2023-04-11",
         3,
         5625,
         16875
        ],
        [
         "C034",
         "Priya",
         "Hyderabad",
         "H01",
         "City Palace",
         "Pune",
         "2023-06-16",
         6,
         4840,
         29040
        ],
        [
         "C035",
         "Manoj",
         "Kolkata",
         "H04",
         "City Palace",
         "Delhi",
         "2023-01-25",
         5,
         5336,
         26680
        ],
        [
         "C036",
         "Priya",
         "Mumbai",
         "H02",
         "Hotel Grand",
         "Bangalore",
         "2023-11-05",
         2,
         4536,
         9072
        ],
        [
         "C037",
         "Amit",
         "Pune",
         "H03",
         "Comfort Suites",
         "Chennai",
         "2023-10-13",
         3,
         6070,
         18210
        ],
        [
         "C038",
         "Manoj",
         "Hyderabad",
         "H04",
         "Sea View Resort",
         "Bangalore",
         "2023-11-28",
         5,
         3404,
         17020
        ],
        [
         "C039",
         "Neha",
         "Hyderabad",
         "H06",
         "City Palace",
         "Delhi",
         "2023-10-08",
         5,
         6059,
         30295
        ],
        [
         "C040",
         "Amit",
         "Delhi",
         "H02",
         "City Palace",
         "Mumbai",
         "2023-10-16",
         7,
         4546,
         31822
        ],
        [
         "C041",
         "Kiran",
         "Kolkata",
         "H06",
         "Royal Stay",
         "Hyderabad",
         "2023-06-26",
         1,
         5105,
         5105
        ],
        [
         "C042",
         "Neha",
         "Bangalore",
         "H05",
         "Sea View Resort",
         "Mumbai",
         "2023-12-28",
         2,
         4702,
         9404
        ],
        [
         "C043",
         "Sneha",
         "Pune",
         "H06",
         "City Palace",
         "Delhi",
         "2023-11-10",
         1,
         3645,
         3645
        ],
        [
         "C044",
         "Rohit",
         "Delhi",
         "H06",
         "Sunshine Inn",
         "Hyderabad",
         "2023-10-25",
         7,
         6025,
         42175
        ],
        [
         "C045",
         "Amit",
         "Bangalore",
         "H03",
         "Comfort Suites",
         "Kolkata",
         "2023-10-01",
         4,
         2451,
         9804
        ],
        [
         "C046",
         "Ravi",
         "Delhi",
         "H01",
         "Hotel Grand",
         "Delhi",
         "2023-03-12",
         1,
         2978,
         2978
        ],
        [
         "C047",
         "Ravi",
         "Delhi",
         "H01",
         "Sunshine Inn",
         "Delhi",
         "2023-02-14",
         7,
         4573,
         32011
        ],
        [
         "C048",
         "Sneha",
         "Kolkata",
         "H05",
         "Royal Stay",
         "Kolkata",
         "2023-01-14",
         5,
         6956,
         34780
        ],
        [
         "C049",
         "Ravi",
         "Chennai",
         "H05",
         "Hotel Grand",
         "Kolkata",
         "2023-10-21",
         1,
         7794,
         7794
        ],
        [
         "C050",
         "Manoj",
         "Delhi",
         "H04",
         "City Palace",
         "Mumbai",
         "2023-04-22",
         4,
         4077,
         16308
        ],
        [
         "C051",
         "Amit",
         "Bangalore",
         "H02",
         "Hotel Grand",
         "Mumbai",
         "2023-08-10",
         6,
         7317,
         43902
        ],
        [
         "C052",
         "Anita",
         "Pune",
         "H01",
         "Hotel Grand",
         "Kolkata",
         "2023-08-22",
         3,
         5207,
         15621
        ],
        [
         "C053",
         "Sneha",
         "Kolkata",
         "H06",
         "Royal Stay",
         "Delhi",
         "2023-09-16",
         6,
         3762,
         22572
        ],
        [
         "C054",
         "Rohit",
         "Bangalore",
         "H06",
         "Royal Stay",
         "Mumbai",
         "2023-10-24",
         1,
         2694,
         2694
        ],
        [
         "C055",
         "Manoj",
         "Chennai",
         "H06",
         "Royal Stay",
         "Mumbai",
         "2023-06-24",
         6,
         5695,
         34170
        ],
        [
         "C056",
         "Manoj",
         "Chennai",
         "H05",
         "City Palace",
         "Chennai",
         "2023-09-10",
         6,
         3183,
         19098
        ],
        [
         "C057",
         "Ravi",
         "Mumbai",
         "H06",
         "Comfort Suites",
         "Chennai",
         "2023-05-17",
         1,
         6093,
         6093
        ],
        [
         "C058",
         "Amit",
         "Delhi",
         "H03",
         "Sea View Resort",
         "Hyderabad",
         "2023-11-03",
         2,
         7220,
         14440
        ],
        [
         "C059",
         "Manoj",
         "Chennai",
         "H02",
         "Sea View Resort",
         "Bangalore",
         "2023-11-02",
         3,
         7951,
         23853
        ],
        [
         "C060",
         "Priya",
         "Hyderabad",
         "H06",
         "Hotel Grand",
         "Kolkata",
         "2023-03-13",
         2,
         7414,
         14828
        ],
        [
         "C061",
         "Priya",
         "Kolkata",
         "H01",
         "Hotel Grand",
         "Pune",
         "2023-01-01",
         5,
         6290,
         31450
        ],
        [
         "C062",
         "Manoj",
         "Chennai",
         "H03",
         "Hotel Grand",
         "Mumbai",
         "2023-03-28",
         5,
         6919,
         34595
        ],
        [
         "C063",
         "Rohit",
         "Pune",
         "H04",
         "Comfort Suites",
         "Kolkata",
         "2023-11-07",
         2,
         4049,
         8098
        ],
        [
         "C064",
         "Kiran",
         "Pune",
         "H04",
         "Sea View Resort",
         "Bangalore",
         "2023-04-26",
         7,
         7886,
         55202
        ],
        [
         "C065",
         "Ravi",
         "Chennai",
         "H02",
         "Hotel Grand",
         "Pune",
         "2023-10-30",
         6,
         7964,
         47784
        ],
        [
         "C066",
         "Sunil",
         "Chennai",
         "H01",
         "Sunshine Inn",
         "Pune",
         "2023-03-11",
         3,
         3537,
         10611
        ],
        [
         "C067",
         "Amit",
         "Delhi",
         "H02",
         "Comfort Suites",
         "Kolkata",
         "2023-05-01",
         1,
         2713,
         2713
        ],
        [
         "C068",
         "Anita",
         "Bangalore",
         "H03",
         "Sunshine Inn",
         "Chennai",
         "2023-12-16",
         1,
         5238,
         5238
        ],
        [
         "C069",
         "Kiran",
         "Bangalore",
         "H03",
         "Sunshine Inn",
         "Delhi",
         "2023-03-17",
         5,
         3136,
         15680
        ],
        [
         "C070",
         "Sunil",
         "Mumbai",
         "H06",
         "Sunshine Inn",
         "Pune",
         "2023-05-05",
         7,
         2195,
         15365
        ]
       ],
       "datasetInfos": [
        {
         "name": "_sqldf",
         "schema": {
          "fields": [
           {
            "metadata": {},
            "name": "customer_id",
            "nullable": true,
            "type": "string"
           },
           {
            "metadata": {},
            "name": "customer_name",
            "nullable": true,
            "type": "string"
           },
           {
            "metadata": {},
            "name": "customer_city",
            "nullable": true,
            "type": "string"
           },
           {
            "metadata": {},
            "name": "hotel_id",
            "nullable": true,
            "type": "string"
           },
           {
            "metadata": {},
            "name": "hotel_name",
            "nullable": true,
            "type": "string"
           },
           {
            "metadata": {},
            "name": "hotel_city",
            "nullable": true,
            "type": "string"
           },
           {
            "metadata": {
             "__detected_date_formats": "yyyy-M-d"
            },
            "name": "booking_date",
            "nullable": true,
            "type": "date"
           },
           {
            "metadata": {},
            "name": "nights",
            "nullable": true,
            "type": "integer"
           },
           {
            "metadata": {},
            "name": "price_per_night",
            "nullable": true,
            "type": "integer"
           },
           {
            "metadata": {},
            "name": "total_amount",
            "nullable": true,
            "type": "integer"
           }
          ],
          "type": "struct"
         },
         "tableIdentifier": null,
         "typeStr": "pyspark.sql.connect.dataframe.DataFrame"
        }
       ],
       "dbfsResultPath": null,
       "isJsonSchema": true,
       "metadata": {
        "createTempViewForImplicitDf": true,
        "dataframeName": "_sqldf",
        "executionCount": 2
       },
       "overflow": false,
       "plotOptions": {
        "customPlotOptions": {},
        "displayType": "table",
        "pivotAggregation": null,
        "pivotColumns": null,
        "xColumns": null,
        "yColumns": null
       },
       "removedWidgets": [],
       "schema": [
        {
         "metadata": "{}",
         "name": "customer_id",
         "type": "\"string\""
        },
        {
         "metadata": "{}",
         "name": "customer_name",
         "type": "\"string\""
        },
        {
         "metadata": "{}",
         "name": "customer_city",
         "type": "\"string\""
        },
        {
         "metadata": "{}",
         "name": "hotel_id",
         "type": "\"string\""
        },
        {
         "metadata": "{}",
         "name": "hotel_name",
         "type": "\"string\""
        },
        {
         "metadata": "{}",
         "name": "hotel_city",
         "type": "\"string\""
        },
        {
         "metadata": "{\"__detected_date_formats\": \"yyyy-M-d\"}",
         "name": "booking_date",
         "type": "\"date\""
        },
        {
         "metadata": "{}",
         "name": "nights",
         "type": "\"integer\""
        },
        {
         "metadata": "{}",
         "name": "price_per_night",
         "type": "\"integer\""
        },
        {
         "metadata": "{}",
         "name": "total_amount",
         "type": "\"integer\""
        }
       ],
       "type": "table"
      }
     },
     "output_type": "display_data"
    }
   ],
   "source": [
    "%sql\n",
    "SELECT * FROM `dlt_demo`.`default`.`bookings_dataset`;"
   ]
  },
  {
   "cell_type": "code",
   "execution_count": 0,
   "metadata": {
    "application/vnd.databricks.v1+cell": {
     "cellMetadata": {
      "byteLimit": 2048000,
      "implicitDf": true,
      "rowLimit": 10000
     },
     "inputWidgets": {},
     "nuid": "45ad65a4-434b-45d8-a4d5-f170b26ce5e8",
     "showTitle": false,
     "tableResultSettingsMap": {},
     "title": ""
    }
   },
   "outputs": [
    {
     "output_type": "display_data",
     "data": {
      "text/html": [
       "<style scoped>\n",
       "  .table-result-container {\n",
       "    max-height: 300px;\n",
       "    overflow: auto;\n",
       "  }\n",
       "  table, th, td {\n",
       "    border: 1px solid black;\n",
       "    border-collapse: collapse;\n",
       "  }\n",
       "  th, td {\n",
       "    padding: 5px;\n",
       "  }\n",
       "  th {\n",
       "    text-align: left;\n",
       "  }\n",
       "</style><div class='table-result-container'><table class='table-result'><thead style='background-color: white'><tr><th>customer_id</th><th>customer_name</th><th>customer_city</th><th>hotel_id</th><th>hotel_name</th><th>hotel_city</th><th>booking_date</th><th>nights</th><th>price_per_night</th><th>total_amount</th></tr></thead><tbody><tr><td>C001</td><td>Neha</td><td>Bangalore</td><td>H03</td><td>Hotel Grand</td><td>Mumbai</td><td>2023-05-26</td><td>2</td><td>6329</td><td>12658</td></tr><tr><td>C002</td><td>Neha</td><td>Bangalore</td><td>H01</td><td>Hotel Grand</td><td>Delhi</td><td>2023-11-29</td><td>5</td><td>4568</td><td>22840</td></tr><tr><td>C003</td><td>Amit</td><td>Hyderabad</td><td>H03</td><td>Sunshine Inn</td><td>Chennai</td><td>2023-08-18</td><td>5</td><td>5809</td><td>29045</td></tr><tr><td>C004</td><td>Sunil</td><td>Pune</td><td>H01</td><td>Sunshine Inn</td><td>Chennai</td><td>2023-03-07</td><td>4</td><td>4086</td><td>16344</td></tr><tr><td>C005</td><td>Manoj</td><td>Mumbai</td><td>H03</td><td>Sunshine Inn</td><td>Pune</td><td>2023-08-12</td><td>1</td><td>2136</td><td>2136</td></tr><tr><td>C006</td><td>Ravi</td><td>Pune</td><td>H05</td><td>Sunshine Inn</td><td>Delhi</td><td>2023-11-02</td><td>1</td><td>6470</td><td>6470</td></tr><tr><td>C007</td><td>Kiran</td><td>Chennai</td><td>H02</td><td>City Palace</td><td>Delhi</td><td>2023-09-08</td><td>6</td><td>2676</td><td>16056</td></tr><tr><td>C008</td><td>Amit</td><td>Hyderabad</td><td>H01</td><td>City Palace</td><td>Bangalore</td><td>2023-11-08</td><td>2</td><td>7001</td><td>14002</td></tr><tr><td>C009</td><td>Anita</td><td>Pune</td><td>H05</td><td>Sunshine Inn</td><td>Mumbai</td><td>2023-11-12</td><td>5</td><td>7963</td><td>39815</td></tr><tr><td>C010</td><td>Sunil</td><td>Delhi</td><td>H05</td><td>Sunshine Inn</td><td>Mumbai</td><td>2023-04-07</td><td>6</td><td>5646</td><td>33876</td></tr><tr><td>C011</td><td>Kiran</td><td>Hyderabad</td><td>H05</td><td>Comfort Suites</td><td>Kolkata</td><td>2023-06-15</td><td>1</td><td>7275</td><td>7275</td></tr><tr><td>C012</td><td>Kiran</td><td>Chennai</td><td>H06</td><td>Sea View Resort</td><td>Chennai</td><td>2023-05-30</td><td>2</td><td>7657</td><td>15314</td></tr><tr><td>C013</td><td>Neha</td><td>Hyderabad</td><td>H04</td><td>Sea View Resort</td><td>Kolkata</td><td>2023-10-14</td><td>4</td><td>2388</td><td>9552</td></tr><tr><td>C014</td><td>Priya</td><td>Bangalore</td><td>H04</td><td>Sea View Resort</td><td>Chennai</td><td>2023-04-12</td><td>6</td><td>6307</td><td>37842</td></tr><tr><td>C015</td><td>Anita</td><td>Hyderabad</td><td>H04</td><td>Comfort Suites</td><td>Delhi</td><td>2023-08-18</td><td>5</td><td>6503</td><td>32515</td></tr><tr><td>C016</td><td>Anita</td><td>Mumbai</td><td>H06</td><td>Hotel Grand</td><td>Mumbai</td><td>2023-09-07</td><td>3</td><td>5099</td><td>15297</td></tr><tr><td>C017</td><td>Kiran</td><td>Mumbai</td><td>H03</td><td>City Palace</td><td>Delhi</td><td>2023-12-17</td><td>7</td><td>5223</td><td>36561</td></tr><tr><td>C018</td><td>Neha</td><td>Pune</td><td>H03</td><td>Royal Stay</td><td>Delhi</td><td>2023-09-23</td><td>2</td><td>6791</td><td>13582</td></tr><tr><td>C019</td><td>Sneha</td><td>Bangalore</td><td>H05</td><td>Royal Stay</td><td>Hyderabad</td><td>2023-12-02</td><td>4</td><td>2052</td><td>8208</td></tr><tr><td>C020</td><td>Sneha</td><td>Chennai</td><td>H02</td><td>Comfort Suites</td><td>Pune</td><td>2023-05-01</td><td>2</td><td>3131</td><td>6262</td></tr></tbody></table></div>"
      ]
     },
     "metadata": {
      "application/vnd.databricks.v1+output": {
       "addedWidgets": {},
       "aggData": [],
       "aggError": "",
       "aggOverflow": false,
       "aggSchema": [],
       "aggSeriesLimitReached": false,
       "aggType": "",
       "arguments": {},
       "columnCustomDisplayInfos": {},
       "data": [
        [
         "C001",
         "Neha",
         "Bangalore",
         "H03",
         "Hotel Grand",
         "Mumbai",
         "2023-05-26",
         2,
         6329,
         12658
        ],
        [
         "C002",
         "Neha",
         "Bangalore",
         "H01",
         "Hotel Grand",
         "Delhi",
         "2023-11-29",
         5,
         4568,
         22840
        ],
        [
         "C003",
         "Amit",
         "Hyderabad",
         "H03",
         "Sunshine Inn",
         "Chennai",
         "2023-08-18",
         5,
         5809,
         29045
        ],
        [
         "C004",
         "Sunil",
         "Pune",
         "H01",
         "Sunshine Inn",
         "Chennai",
         "2023-03-07",
         4,
         4086,
         16344
        ],
        [
         "C005",
         "Manoj",
         "Mumbai",
         "H03",
         "Sunshine Inn",
         "Pune",
         "2023-08-12",
         1,
         2136,
         2136
        ],
        [
         "C006",
         "Ravi",
         "Pune",
         "H05",
         "Sunshine Inn",
         "Delhi",
         "2023-11-02",
         1,
         6470,
         6470
        ],
        [
         "C007",
         "Kiran",
         "Chennai",
         "H02",
         "City Palace",
         "Delhi",
         "2023-09-08",
         6,
         2676,
         16056
        ],
        [
         "C008",
         "Amit",
         "Hyderabad",
         "H01",
         "City Palace",
         "Bangalore",
         "2023-11-08",
         2,
         7001,
         14002
        ],
        [
         "C009",
         "Anita",
         "Pune",
         "H05",
         "Sunshine Inn",
         "Mumbai",
         "2023-11-12",
         5,
         7963,
         39815
        ],
        [
         "C010",
         "Sunil",
         "Delhi",
         "H05",
         "Sunshine Inn",
         "Mumbai",
         "2023-04-07",
         6,
         5646,
         33876
        ],
        [
         "C011",
         "Kiran",
         "Hyderabad",
         "H05",
         "Comfort Suites",
         "Kolkata",
         "2023-06-15",
         1,
         7275,
         7275
        ],
        [
         "C012",
         "Kiran",
         "Chennai",
         "H06",
         "Sea View Resort",
         "Chennai",
         "2023-05-30",
         2,
         7657,
         15314
        ],
        [
         "C013",
         "Neha",
         "Hyderabad",
         "H04",
         "Sea View Resort",
         "Kolkata",
         "2023-10-14",
         4,
         2388,
         9552
        ],
        [
         "C014",
         "Priya",
         "Bangalore",
         "H04",
         "Sea View Resort",
         "Chennai",
         "2023-04-12",
         6,
         6307,
         37842
        ],
        [
         "C015",
         "Anita",
         "Hyderabad",
         "H04",
         "Comfort Suites",
         "Delhi",
         "2023-08-18",
         5,
         6503,
         32515
        ],
        [
         "C016",
         "Anita",
         "Mumbai",
         "H06",
         "Hotel Grand",
         "Mumbai",
         "2023-09-07",
         3,
         5099,
         15297
        ],
        [
         "C017",
         "Kiran",
         "Mumbai",
         "H03",
         "City Palace",
         "Delhi",
         "2023-12-17",
         7,
         5223,
         36561
        ],
        [
         "C018",
         "Neha",
         "Pune",
         "H03",
         "Royal Stay",
         "Delhi",
         "2023-09-23",
         2,
         6791,
         13582
        ],
        [
         "C019",
         "Sneha",
         "Bangalore",
         "H05",
         "Royal Stay",
         "Hyderabad",
         "2023-12-02",
         4,
         2052,
         8208
        ],
        [
         "C020",
         "Sneha",
         "Chennai",
         "H02",
         "Comfort Suites",
         "Pune",
         "2023-05-01",
         2,
         3131,
         6262
        ]
       ],
       "datasetInfos": [
        {
         "name": "_sqldf",
         "schema": {
          "fields": [
           {
            "metadata": {},
            "name": "customer_id",
            "nullable": true,
            "type": "string"
           },
           {
            "metadata": {},
            "name": "customer_name",
            "nullable": true,
            "type": "string"
           },
           {
            "metadata": {},
            "name": "customer_city",
            "nullable": true,
            "type": "string"
           },
           {
            "metadata": {},
            "name": "hotel_id",
            "nullable": true,
            "type": "string"
           },
           {
            "metadata": {},
            "name": "hotel_name",
            "nullable": true,
            "type": "string"
           },
           {
            "metadata": {},
            "name": "hotel_city",
            "nullable": true,
            "type": "string"
           },
           {
            "metadata": {
             "__detected_date_formats": "yyyy-M-d"
            },
            "name": "booking_date",
            "nullable": true,
            "type": "date"
           },
           {
            "metadata": {},
            "name": "nights",
            "nullable": true,
            "type": "integer"
           },
           {
            "metadata": {},
            "name": "price_per_night",
            "nullable": true,
            "type": "integer"
           },
           {
            "metadata": {},
            "name": "total_amount",
            "nullable": true,
            "type": "integer"
           }
          ],
          "type": "struct"
         },
         "tableIdentifier": null,
         "typeStr": "pyspark.sql.connect.dataframe.DataFrame"
        }
       ],
       "dbfsResultPath": null,
       "isJsonSchema": true,
       "metadata": {
        "createTempViewForImplicitDf": true,
        "dataframeName": "_sqldf",
        "executionCount": 5
       },
       "overflow": false,
       "plotOptions": {
        "customPlotOptions": {},
        "displayType": "table",
        "pivotAggregation": null,
        "pivotColumns": null,
        "xColumns": null,
        "yColumns": null
       },
       "removedWidgets": [],
       "schema": [
        {
         "metadata": "{}",
         "name": "customer_id",
         "type": "\"string\""
        },
        {
         "metadata": "{}",
         "name": "customer_name",
         "type": "\"string\""
        },
        {
         "metadata": "{}",
         "name": "customer_city",
         "type": "\"string\""
        },
        {
         "metadata": "{}",
         "name": "hotel_id",
         "type": "\"string\""
        },
        {
         "metadata": "{}",
         "name": "hotel_name",
         "type": "\"string\""
        },
        {
         "metadata": "{}",
         "name": "hotel_city",
         "type": "\"string\""
        },
        {
         "metadata": "{\"__detected_date_formats\": \"yyyy-M-d\"}",
         "name": "booking_date",
         "type": "\"date\""
        },
        {
         "metadata": "{}",
         "name": "nights",
         "type": "\"integer\""
        },
        {
         "metadata": "{}",
         "name": "price_per_night",
         "type": "\"integer\""
        },
        {
         "metadata": "{}",
         "name": "total_amount",
         "type": "\"integer\""
        }
       ],
       "type": "table"
      }
     },
     "output_type": "display_data"
    },
    {
     "output_type": "display_data",
     "data": {
      "text/plain": [
       "Databricks visualization. Run in Databricks to view."
      ]
     },
     "metadata": {
      "application/vnd.databricks.v1.subcommand+json": {
       "baseErrorDetails": null,
       "bindings": {},
       "collapsed": false,
       "command": "%sql WITH q AS (SELECT * FROM dlt_demo.default.bookings_dataset LIMIT 20) SELECT `customer_id`,`hotel_city` FROM q GROUP BY `customer_id`,`hotel_city`",
       "commandTitle": "Visualization 1",
       "commandType": "auto",
       "commandVersion": 0,
       "commentThread": [],
       "commentsVisible": false,
       "contentSha256Hex": null,
       "customPlotOptions": {
        "redashChart": [
         {
          "key": "type",
          "value": "CHART"
         },
         {
          "key": "options",
          "value": {
           "alignYAxesAtZero": true,
           "coefficient": 1,
           "columnConfigurationMap": {
            "series": {
             "column": "hotel_city",
             "id": "column_5c5eb624411"
            },
            "x": {
             "column": "customer_id",
             "id": "column_5c5eb624410"
            },
            "y": []
           },
           "dateTimeFormat": "DD/MM/YYYY HH:mm",
           "direction": {
            "type": "clockwise"
           },
           "error_y": {
            "type": "data",
            "visible": true
           },
           "globalSeriesType": "column",
           "isAggregationOn": true,
           "legend": {
            "enabled": true,
            "placement": "auto",
            "traceorder": "normal"
           },
           "missingValuesAsZero": true,
           "numberFormat": "0,0.[00000]",
           "percentFormat": "0[.]00%",
           "series": {
            "error_y": {
             "type": "data",
             "visible": true
            },
            "stacking": null
           },
           "seriesOptions": {},
           "showDataLabels": false,
           "sizemode": "diameter",
           "sortX": true,
           "sortY": true,
           "swappedAxes": false,
           "textFormat": "",
           "useAggregationsUi": true,
           "valuesOptions": {},
           "version": 2,
           "xAxis": {
            "labels": {
             "enabled": true
            },
            "type": "-"
           },
           "yAxis": [
            {
             "type": "-"
            },
            {
             "opposite": true,
             "type": "-"
            }
           ]
          }
         }
        ]
       },
       "datasetPreviewNameToCmdIdMap": {},
       "diffDeletes": [],
       "diffInserts": [],
       "displayType": "redashChart",
       "error": null,
       "errorDetails": null,
       "errorSummary": null,
       "errorTraceType": null,
       "finishTime": 0,
       "globalVars": {},
       "guid": "",
       "height": "auto",
       "hideCommandCode": false,
       "hideCommandResult": false,
       "iPythonMetadata": null,
       "inputWidgets": {},
       "isLockedInExamMode": false,
       "latestUser": "a user",
       "latestUserId": null,
       "listResultMetadata": null,
       "metadata": {},
       "nuid": "d78047bb-6d35-438c-80fe-2ed0ebd71de3",
       "origId": 0,
       "parentHierarchy": [],
       "pivotAggregation": null,
       "pivotColumns": null,
       "position": 3.0,
       "resultDbfsErrorMessage": null,
       "resultDbfsStatus": "INLINED_IN_TREE",
       "results": null,
       "showCommandTitle": false,
       "startTime": 0,
       "state": "input",
       "streamStates": {},
       "subcommandOptions": {
        "queryPlan": {
         "groups": [
          {
           "column": "customer_id",
           "type": "column"
          },
          {
           "column": "hotel_city",
           "type": "column"
          }
         ],
         "selects": [
          {
           "column": "customer_id",
           "type": "column"
          },
          {
           "column": "hotel_city",
           "type": "column"
          }
         ]
        }
       },
       "submitTime": 0,
       "subtype": "tableResultSubCmd.visualization",
       "tableResultIndex": 0,
       "tableResultSettingsMap": {},
       "useConsistentColors": false,
       "version": "CommandV1",
       "width": "auto",
       "workflows": [],
       "xColumns": null,
       "yColumns": null
      }
     },
     "output_type": "display_data"
    }
   ],
   "source": [
    "%sql\n",
    "-- Preview Data\n",
    "SELECT * FROM dlt_demo.default.bookings_dataset LIMIT 20;"
   ]
  },
  {
   "cell_type": "code",
   "execution_count": 0,
   "metadata": {
    "application/vnd.databricks.v1+cell": {
     "cellMetadata": {
      "byteLimit": 2048000,
      "implicitDf": true,
      "rowLimit": 10000
     },
     "inputWidgets": {},
     "nuid": "0665cb8e-1fd2-4cae-be1c-0cd9f9c2a372",
     "showTitle": false,
     "tableResultSettingsMap": {},
     "title": ""
    }
   },
   "outputs": [
    {
     "output_type": "display_data",
     "data": {
      "text/html": [
       "<style scoped>\n",
       "  .table-result-container {\n",
       "    max-height: 300px;\n",
       "    overflow: auto;\n",
       "  }\n",
       "  table, th, td {\n",
       "    border: 1px solid black;\n",
       "    border-collapse: collapse;\n",
       "  }\n",
       "  th, td {\n",
       "    padding: 5px;\n",
       "  }\n",
       "  th {\n",
       "    text-align: left;\n",
       "  }\n",
       "</style><div class='table-result-container'><table class='table-result'><thead style='background-color: white'><tr><th>month_name</th><th>hotel_city</th><th>total_revenue</th></tr></thead><tbody><tr><td>April</td><td>Mumbai</td><td>93115</td></tr><tr><td>April</td><td>Bangalore</td><td>72077</td></tr><tr><td>April</td><td>Chennai</td><td>37842</td></tr><tr><td>August</td><td>Mumbai</td><td>43902</td></tr><tr><td>August</td><td>Delhi</td><td>32515</td></tr><tr><td>August</td><td>Chennai</td><td>29045</td></tr><tr><td>August</td><td>Kolkata</td><td>15621</td></tr><tr><td>August</td><td>Pune</td><td>2136</td></tr><tr><td>December</td><td>Kolkata</td><td>46410</td></tr><tr><td>December</td><td>Delhi</td><td>36561</td></tr><tr><td>December</td><td>Mumbai</td><td>24356</td></tr><tr><td>December</td><td>Hyderabad</td><td>8208</td></tr><tr><td>December</td><td>Chennai</td><td>5238</td></tr><tr><td>February</td><td>Delhi</td><td>32011</td></tr><tr><td>January</td><td>Kolkata</td><td>34780</td></tr><tr><td>January</td><td>Pune</td><td>31450</td></tr><tr><td>January</td><td>Delhi</td><td>26680</td></tr><tr><td>July</td><td>Mumbai</td><td>34622</td></tr><tr><td>July</td><td>Delhi</td><td>14884</td></tr><tr><td>June</td><td>Mumbai</td><td>34170</td></tr><tr><td>June</td><td>Pune</td><td>29040</td></tr><tr><td>June</td><td>Kolkata</td><td>14560</td></tr><tr><td>June</td><td>Hyderabad</td><td>5105</td></tr><tr><td>March</td><td>Kolkata</td><td>43794</td></tr><tr><td>March</td><td>Mumbai</td><td>34595</td></tr><tr><td>March</td><td>Bangalore</td><td>24272</td></tr><tr><td>March</td><td>Delhi</td><td>18658</td></tr><tr><td>March</td><td>Chennai</td><td>16344</td></tr><tr><td>March</td><td>Pune</td><td>10611</td></tr><tr><td>May</td><td>Pune</td><td>54975</td></tr><tr><td>May</td><td>Chennai</td><td>21407</td></tr><tr><td>May</td><td>Mumbai</td><td>12658</td></tr><tr><td>May</td><td>Kolkata</td><td>2713</td></tr><tr><td>November</td><td>Bangalore</td><td>63947</td></tr><tr><td>November</td><td>Mumbai</td><td>39815</td></tr><tr><td>November</td><td>Delhi</td><td>32955</td></tr><tr><td>November</td><td>Hyderabad</td><td>14440</td></tr><tr><td>November</td><td>Kolkata</td><td>8098</td></tr><tr><td>October</td><td>Delhi</td><td>77935</td></tr><tr><td>October</td><td>Pune</td><td>47784</td></tr><tr><td>October</td><td>Hyderabad</td><td>42175</td></tr><tr><td>October</td><td>Mumbai</td><td>34516</td></tr><tr><td>October</td><td>Kolkata</td><td>27150</td></tr><tr><td>October</td><td>Chennai</td><td>18210</td></tr><tr><td>September</td><td>Delhi</td><td>52210</td></tr><tr><td>September</td><td>Chennai</td><td>26526</td></tr><tr><td>September</td><td>Mumbai</td><td>15297</td></tr></tbody></table></div>"
      ]
     },
     "metadata": {
      "application/vnd.databricks.v1+output": {
       "addedWidgets": {},
       "aggData": [],
       "aggError": "",
       "aggOverflow": false,
       "aggSchema": [],
       "aggSeriesLimitReached": false,
       "aggType": "",
       "arguments": {},
       "columnCustomDisplayInfos": {},
       "data": [
        [
         "April",
         "Mumbai",
         93115
        ],
        [
         "April",
         "Bangalore",
         72077
        ],
        [
         "April",
         "Chennai",
         37842
        ],
        [
         "August",
         "Mumbai",
         43902
        ],
        [
         "August",
         "Delhi",
         32515
        ],
        [
         "August",
         "Chennai",
         29045
        ],
        [
         "August",
         "Kolkata",
         15621
        ],
        [
         "August",
         "Pune",
         2136
        ],
        [
         "December",
         "Kolkata",
         46410
        ],
        [
         "December",
         "Delhi",
         36561
        ],
        [
         "December",
         "Mumbai",
         24356
        ],
        [
         "December",
         "Hyderabad",
         8208
        ],
        [
         "December",
         "Chennai",
         5238
        ],
        [
         "February",
         "Delhi",
         32011
        ],
        [
         "January",
         "Kolkata",
         34780
        ],
        [
         "January",
         "Pune",
         31450
        ],
        [
         "January",
         "Delhi",
         26680
        ],
        [
         "July",
         "Mumbai",
         34622
        ],
        [
         "July",
         "Delhi",
         14884
        ],
        [
         "June",
         "Mumbai",
         34170
        ],
        [
         "June",
         "Pune",
         29040
        ],
        [
         "June",
         "Kolkata",
         14560
        ],
        [
         "June",
         "Hyderabad",
         5105
        ],
        [
         "March",
         "Kolkata",
         43794
        ],
        [
         "March",
         "Mumbai",
         34595
        ],
        [
         "March",
         "Bangalore",
         24272
        ],
        [
         "March",
         "Delhi",
         18658
        ],
        [
         "March",
         "Chennai",
         16344
        ],
        [
         "March",
         "Pune",
         10611
        ],
        [
         "May",
         "Pune",
         54975
        ],
        [
         "May",
         "Chennai",
         21407
        ],
        [
         "May",
         "Mumbai",
         12658
        ],
        [
         "May",
         "Kolkata",
         2713
        ],
        [
         "November",
         "Bangalore",
         63947
        ],
        [
         "November",
         "Mumbai",
         39815
        ],
        [
         "November",
         "Delhi",
         32955
        ],
        [
         "November",
         "Hyderabad",
         14440
        ],
        [
         "November",
         "Kolkata",
         8098
        ],
        [
         "October",
         "Delhi",
         77935
        ],
        [
         "October",
         "Pune",
         47784
        ],
        [
         "October",
         "Hyderabad",
         42175
        ],
        [
         "October",
         "Mumbai",
         34516
        ],
        [
         "October",
         "Kolkata",
         27150
        ],
        [
         "October",
         "Chennai",
         18210
        ],
        [
         "September",
         "Delhi",
         52210
        ],
        [
         "September",
         "Chennai",
         26526
        ],
        [
         "September",
         "Mumbai",
         15297
        ]
       ],
       "datasetInfos": [
        {
         "name": "_sqldf",
         "schema": {
          "fields": [
           {
            "metadata": {},
            "name": "month_name",
            "nullable": true,
            "type": "string"
           },
           {
            "metadata": {},
            "name": "hotel_city",
            "nullable": true,
            "type": "string"
           },
           {
            "metadata": {},
            "name": "total_revenue",
            "nullable": true,
            "type": "long"
           }
          ],
          "type": "struct"
         },
         "tableIdentifier": null,
         "typeStr": "pyspark.sql.connect.dataframe.DataFrame"
        }
       ],
       "dbfsResultPath": null,
       "isJsonSchema": true,
       "metadata": {
        "createTempViewForImplicitDf": true,
        "dataframeName": "_sqldf",
        "executionCount": 47
       },
       "overflow": false,
       "plotOptions": {
        "customPlotOptions": {},
        "displayType": "table",
        "pivotAggregation": null,
        "pivotColumns": null,
        "xColumns": null,
        "yColumns": null
       },
       "removedWidgets": [],
       "schema": [
        {
         "metadata": "{}",
         "name": "month_name",
         "type": "\"string\""
        },
        {
         "metadata": "{}",
         "name": "hotel_city",
         "type": "\"string\""
        },
        {
         "metadata": "{}",
         "name": "total_revenue",
         "type": "\"long\""
        }
       ],
       "type": "table"
      }
     },
     "output_type": "display_data"
    },
    {
     "output_type": "display_data",
     "data": {
      "text/plain": [
       "Databricks visualization. Run in Databricks to view."
      ]
     },
     "metadata": {
      "application/vnd.databricks.v1.subcommand+json": {
       "baseErrorDetails": null,
       "bindings": {},
       "collapsed": false,
       "command": "%sql WITH q AS (SELECT \n    DATE_FORMAT(TO_DATE(booking_date, 'dd-MM-yyyy'), 'MMMM') AS month_name,\n    hotel_city,\n    SUM(total_amount) AS total_revenue\nFROM dlt_demo.default.bookings_dataset\nGROUP BY \n    DATE_FORMAT(TO_DATE(booking_date, 'dd-MM-yyyy'), 'MMMM'),\n    hotel_city\nORDER BY month_name, total_revenue DESC) SELECT `month_name`,`hotel_city`,SUM(`total_revenue`) `column_5c5eb624434` FROM q GROUP BY `hotel_city`,`month_name`",
       "commandTitle": "Visualization 1",
       "commandType": "auto",
       "commandVersion": 0,
       "commentThread": [],
       "commentsVisible": false,
       "contentSha256Hex": null,
       "customPlotOptions": {
        "redashChart": [
         {
          "key": "type",
          "value": "CHART"
         },
         {
          "key": "options",
          "value": {
           "alignYAxesAtZero": true,
           "coefficient": 1,
           "columnConfigurationMap": {
            "series": {
             "column": "hotel_city",
             "id": "column_5c5eb624433"
            },
            "x": {
             "column": "month_name",
             "id": "column_5c5eb624432"
            },
            "y": [
             {
              "column": "total_revenue",
              "id": "column_5c5eb624434",
              "transform": "SUM"
             }
            ]
           },
           "dateTimeFormat": "DD/MM/YYYY HH:mm",
           "direction": {
            "type": "counterclockwise"
           },
           "error_y": {
            "type": "data",
            "visible": true
           },
           "globalSeriesType": "column",
           "legend": {
            "traceorder": "normal"
           },
           "missingValuesAsZero": true,
           "numberFormat": "0,0.[00000]",
           "percentFormat": "0[.]00%",
           "series": {
            "error_y": {
             "type": "data",
             "visible": true
            },
            "stacking": "stack"
           },
           "seriesOptions": {
            "column_5c5eb624434": {
             "name": "total_revenue",
             "type": "column",
             "yAxis": 0
            }
           },
           "showDataLabels": false,
           "sizemode": "diameter",
           "sortX": true,
           "sortY": true,
           "swappedAxes": false,
           "textFormat": "",
           "useAggregationsUi": true,
           "valuesOptions": {},
           "version": 2,
           "xAxis": {
            "labels": {
             "enabled": true
            },
            "type": "-"
           },
           "yAxis": [
            {
             "type": "-"
            },
            {
             "opposite": true,
             "type": "-"
            }
           ]
          }
         }
        ]
       },
       "datasetPreviewNameToCmdIdMap": {},
       "diffDeletes": [],
       "diffInserts": [],
       "displayType": "redashChart",
       "error": null,
       "errorDetails": null,
       "errorSummary": null,
       "errorTraceType": null,
       "finishTime": 0,
       "globalVars": {},
       "guid": "",
       "height": "auto",
       "hideCommandCode": false,
       "hideCommandResult": false,
       "iPythonMetadata": null,
       "inputWidgets": {},
       "isLockedInExamMode": false,
       "latestUser": "a user",
       "latestUserId": null,
       "listResultMetadata": null,
       "metadata": {},
       "nuid": "f7d86b43-b58d-4cda-b88e-1266d12b8155",
       "origId": 0,
       "parentHierarchy": [],
       "pivotAggregation": null,
       "pivotColumns": null,
       "position": 3.5,
       "resultDbfsErrorMessage": null,
       "resultDbfsStatus": "INLINED_IN_TREE",
       "results": null,
       "showCommandTitle": false,
       "startTime": 0,
       "state": "input",
       "streamStates": {},
       "subcommandOptions": {
        "queryPlan": {
         "groups": [
          {
           "column": "month_name",
           "type": "column"
          },
          {
           "column": "hotel_city",
           "type": "column"
          }
         ],
         "selects": [
          {
           "column": "month_name",
           "type": "column"
          },
          {
           "column": "hotel_city",
           "type": "column"
          },
          {
           "alias": "column_5c5eb624434",
           "args": [
            {
             "column": "total_revenue",
             "type": "column"
            }
           ],
           "function": "SUM",
           "type": "function"
          }
         ]
        }
       },
       "submitTime": 0,
       "subtype": "tableResultSubCmd.visualization",
       "tableResultIndex": 0,
       "tableResultSettingsMap": {},
       "useConsistentColors": false,
       "version": "CommandV1",
       "width": "auto",
       "workflows": [],
       "xColumns": null,
       "yColumns": null
      }
     },
     "output_type": "display_data"
    }
   ],
   "source": [
    "\n",
    "%sql\n",
    "-- Seasonal Trends: Total Revenue per Month and Location\n",
    "SELECT \n",
    "    DATE_FORMAT(TO_DATE(booking_date, 'dd-MM-yyyy'), 'MMMM') AS month_name,\n",
    "    hotel_city,\n",
    "    SUM(total_amount) AS total_revenue\n",
    "FROM dlt_demo.default.bookings_dataset\n",
    "GROUP BY \n",
    "    DATE_FORMAT(TO_DATE(booking_date, 'dd-MM-yyyy'), 'MMMM'),\n",
    "    hotel_city\n",
    "ORDER BY month_name, total_revenue DESC;\n"
   ]
  },
  {
   "cell_type": "code",
   "execution_count": 0,
   "metadata": {
    "application/vnd.databricks.v1+cell": {
     "cellMetadata": {
      "byteLimit": 2048000,
      "implicitDf": true,
      "rowLimit": 10000
     },
     "inputWidgets": {},
     "nuid": "b83752bf-c604-4fdd-b14c-d8c1d910c04a",
     "showTitle": false,
     "tableResultSettingsMap": {},
     "title": ""
    }
   },
   "outputs": [
    {
     "output_type": "display_data",
     "data": {
      "text/plain": [
       "\u001B[0;31m---------------------------------------------------------------------------\u001B[0m\n",
       "\u001B[0;31mAnalysisException\u001B[0m                         Traceback (most recent call last)\n",
       "File \u001B[0;32m<command-5283314428433290>, line 1\u001B[0m\n",
       "\u001B[0;32m----> 1\u001B[0m get_ipython()\u001B[38;5;241m.\u001B[39mrun_cell_magic(\u001B[38;5;124m'\u001B[39m\u001B[38;5;124msql\u001B[39m\u001B[38;5;124m'\u001B[39m, \u001B[38;5;124m'\u001B[39m\u001B[38;5;124m'\u001B[39m, \u001B[38;5;124m\"\u001B[39m\u001B[38;5;124m-- Hotels with Highest Cancellation Rates\u001B[39m\u001B[38;5;130;01m\\n\u001B[39;00m\u001B[38;5;124mSELECT \u001B[39m\u001B[38;5;130;01m\\n\u001B[39;00m\u001B[38;5;124m    hotel_name,\u001B[39m\u001B[38;5;130;01m\\n\u001B[39;00m\u001B[38;5;124m    COUNT(CASE WHEN status = \u001B[39m\u001B[38;5;124m'\u001B[39m\u001B[38;5;124mCancelled\u001B[39m\u001B[38;5;124m'\u001B[39m\u001B[38;5;124m THEN 1 END) AS cancelled_count,\u001B[39m\u001B[38;5;130;01m\\n\u001B[39;00m\u001B[38;5;124m    COUNT(*) AS total_bookings,\u001B[39m\u001B[38;5;130;01m\\n\u001B[39;00m\u001B[38;5;124m    (COUNT(CASE WHEN status = \u001B[39m\u001B[38;5;124m'\u001B[39m\u001B[38;5;124mCancelled\u001B[39m\u001B[38;5;124m'\u001B[39m\u001B[38;5;124m THEN 1 END) * 100.0 / COUNT(*)) AS cancellation_rate\u001B[39m\u001B[38;5;130;01m\\n\u001B[39;00m\u001B[38;5;124mFROM dlt_demo.default.bookings_dataset\u001B[39m\u001B[38;5;130;01m\\n\u001B[39;00m\u001B[38;5;124mGROUP BY hotel_name\u001B[39m\u001B[38;5;130;01m\\n\u001B[39;00m\u001B[38;5;124mORDER BY cancellation_rate DESC;\u001B[39m\u001B[38;5;130;01m\\n\u001B[39;00m\u001B[38;5;124m\"\u001B[39m)\n",
       "\n",
       "File \u001B[0;32m/databricks/python/lib/python3.11/site-packages/IPython/core/interactiveshell.py:2541\u001B[0m, in \u001B[0;36mInteractiveShell.run_cell_magic\u001B[0;34m(self, magic_name, line, cell)\u001B[0m\n",
       "\u001B[1;32m   2539\u001B[0m \u001B[38;5;28;01mwith\u001B[39;00m \u001B[38;5;28mself\u001B[39m\u001B[38;5;241m.\u001B[39mbuiltin_trap:\n",
       "\u001B[1;32m   2540\u001B[0m     args \u001B[38;5;241m=\u001B[39m (magic_arg_s, cell)\n",
       "\u001B[0;32m-> 2541\u001B[0m     result \u001B[38;5;241m=\u001B[39m fn(\u001B[38;5;241m*\u001B[39margs, \u001B[38;5;241m*\u001B[39m\u001B[38;5;241m*\u001B[39mkwargs)\n",
       "\u001B[1;32m   2543\u001B[0m \u001B[38;5;66;03m# The code below prevents the output from being displayed\u001B[39;00m\n",
       "\u001B[1;32m   2544\u001B[0m \u001B[38;5;66;03m# when using magics with decorator @output_can_be_silenced\u001B[39;00m\n",
       "\u001B[1;32m   2545\u001B[0m \u001B[38;5;66;03m# when the last Python token in the expression is a ';'.\u001B[39;00m\n",
       "\u001B[1;32m   2546\u001B[0m \u001B[38;5;28;01mif\u001B[39;00m \u001B[38;5;28mgetattr\u001B[39m(fn, magic\u001B[38;5;241m.\u001B[39mMAGIC_OUTPUT_CAN_BE_SILENCED, \u001B[38;5;28;01mFalse\u001B[39;00m):\n",
       "\n",
       "File \u001B[0;32m/databricks/python_shell/lib/dbruntime/sql_magic/sql_magic.py:147\u001B[0m, in \u001B[0;36mSqlMagic.sql\u001B[0;34m(self, line, cell)\u001B[0m\n",
       "\u001B[1;32m    143\u001B[0m     \u001B[38;5;28;01mraise\u001B[39;00m \u001B[38;5;167;01mException\u001B[39;00m(\n",
       "\u001B[1;32m    144\u001B[0m         \u001B[38;5;124m\"\u001B[39m\u001B[38;5;124mCannot run \u001B[39m\u001B[38;5;132;01m%s\u001B[39;00m\u001B[38;5;124mql command because spark connect initialization failed and no stacktrace was available.\u001B[39m\u001B[38;5;124m\"\u001B[39m\n",
       "\u001B[1;32m    145\u001B[0m     )\n",
       "\u001B[1;32m    146\u001B[0m \u001B[38;5;28;01mif\u001B[39;00m \u001B[38;5;28mself\u001B[39m\u001B[38;5;241m.\u001B[39muse_py4j:\n",
       "\u001B[0;32m--> 147\u001B[0m     \u001B[38;5;28;01mreturn\u001B[39;00m \u001B[38;5;28mself\u001B[39m\u001B[38;5;241m.\u001B[39mexecute_via_py4j(cell)\n",
       "\u001B[1;32m    149\u001B[0m \u001B[38;5;28;01mreturn\u001B[39;00m \u001B[38;5;28mself\u001B[39m\u001B[38;5;241m.\u001B[39mexecute_via_sql_comm_handler(cell)\n",
       "\n",
       "File \u001B[0;32m/databricks/python_shell/lib/dbruntime/sql_magic/sql_magic.py:231\u001B[0m, in \u001B[0;36mSqlMagic.execute_via_py4j\u001B[0;34m(self, cell)\u001B[0m\n",
       "\u001B[1;32m    228\u001B[0m \u001B[38;5;28;01mexcept\u001B[39;00m \u001B[38;5;167;01mBaseException\u001B[39;00m \u001B[38;5;28;01mas\u001B[39;00m e:\n",
       "\u001B[1;32m    229\u001B[0m     \u001B[38;5;28mself\u001B[39m\u001B[38;5;241m.\u001B[39mdriver_activity_logger\u001B[38;5;241m.\u001B[39mlogExecuteCommandEvent(\u001B[38;5;124m\"\u001B[39m\u001B[38;5;124mSQL_MAGIC_PY4J_FAILED\u001B[39m\u001B[38;5;124m\"\u001B[39m,\n",
       "\u001B[1;32m    230\u001B[0m                                                        json\u001B[38;5;241m.\u001B[39mdumps(get_debug_info(e)))\n",
       "\u001B[0;32m--> 231\u001B[0m     \u001B[38;5;28;01mraise\u001B[39;00m e\n",
       "\u001B[1;32m    232\u001B[0m \u001B[38;5;28mself\u001B[39m\u001B[38;5;241m.\u001B[39mdriver_activity_logger\u001B[38;5;241m.\u001B[39mlogExecuteCommandEvent(\u001B[38;5;124m\"\u001B[39m\u001B[38;5;124mSQL_MAGIC_PY4J_SUCCEEDED\u001B[39m\u001B[38;5;124m\"\u001B[39m)\n",
       "\u001B[1;32m    233\u001B[0m \u001B[38;5;28;01mreturn\u001B[39;00m result\n",
       "\n",
       "File \u001B[0;32m/databricks/python_shell/lib/dbruntime/sql_magic/sql_magic.py:227\u001B[0m, in \u001B[0;36mSqlMagic.execute_via_py4j\u001B[0;34m(self, cell)\u001B[0m\n",
       "\u001B[1;32m    225\u001B[0m         \u001B[38;5;28mprint\u001B[39m(\u001B[38;5;124mf\u001B[39m\u001B[38;5;124m\"\u001B[39m\u001B[38;5;124mExecuting subquery: \u001B[39m\u001B[38;5;132;01m{\u001B[39;00mquery_text\u001B[38;5;132;01m}\u001B[39;00m\u001B[38;5;124m.\u001B[39m\u001B[38;5;124m\"\u001B[39m, file\u001B[38;5;241m=\u001B[39msys\u001B[38;5;241m.\u001B[39m__stdout__)  \u001B[38;5;66;03m# type: ignore\u001B[39;00m\n",
       "\u001B[1;32m    226\u001B[0m         sql_directive \u001B[38;5;241m=\u001B[39m \u001B[38;5;28mself\u001B[39m\u001B[38;5;241m.\u001B[39mentry_point\u001B[38;5;241m.\u001B[39mgetSqlDirective(query_text)\n",
       "\u001B[0;32m--> 227\u001B[0m         result \u001B[38;5;241m=\u001B[39m \u001B[38;5;28mself\u001B[39m\u001B[38;5;241m.\u001B[39mhandle_sql_directive(sql_directive, i \u001B[38;5;241m==\u001B[39m number_of_sub_queries \u001B[38;5;241m-\u001B[39m \u001B[38;5;241m1\u001B[39m)\n",
       "\u001B[1;32m    228\u001B[0m \u001B[38;5;28;01mexcept\u001B[39;00m \u001B[38;5;167;01mBaseException\u001B[39;00m \u001B[38;5;28;01mas\u001B[39;00m e:\n",
       "\u001B[1;32m    229\u001B[0m     \u001B[38;5;28mself\u001B[39m\u001B[38;5;241m.\u001B[39mdriver_activity_logger\u001B[38;5;241m.\u001B[39mlogExecuteCommandEvent(\u001B[38;5;124m\"\u001B[39m\u001B[38;5;124mSQL_MAGIC_PY4J_FAILED\u001B[39m\u001B[38;5;124m\"\u001B[39m,\n",
       "\u001B[1;32m    230\u001B[0m                                                        json\u001B[38;5;241m.\u001B[39mdumps(get_debug_info(e)))\n",
       "\n",
       "File \u001B[0;32m/databricks/python_shell/lib/dbruntime/sql_magic/sql_magic.py:249\u001B[0m, in \u001B[0;36mSqlMagic.handle_sql_directive\u001B[0;34m(self, sql_directive, is_last_query)\u001B[0m\n",
       "\u001B[1;32m    247\u001B[0m     df \u001B[38;5;241m=\u001B[39m \u001B[38;5;28mself\u001B[39m\u001B[38;5;241m.\u001B[39mget_query_request_result(\u001B[38;5;124mf\u001B[39m\u001B[38;5;124m\"\u001B[39m\u001B[38;5;124mSELECT * FROM \u001B[39m\u001B[38;5;132;01m{\u001B[39;00mtable_name\u001B[38;5;132;01m}\u001B[39;00m\u001B[38;5;124m\"\u001B[39m)\n",
       "\u001B[1;32m    248\u001B[0m \u001B[38;5;28;01melif\u001B[39;00m directive_name \u001B[38;5;241m==\u001B[39m \u001B[38;5;124m\"\u001B[39m\u001B[38;5;124mNoDirective\u001B[39m\u001B[38;5;124m\"\u001B[39m:\n",
       "\u001B[0;32m--> 249\u001B[0m     df \u001B[38;5;241m=\u001B[39m \u001B[38;5;28mself\u001B[39m\u001B[38;5;241m.\u001B[39mget_query_request_result(sql_directive\u001B[38;5;241m.\u001B[39msql())\n",
       "\u001B[1;32m    250\u001B[0m     \u001B[38;5;28;01mif\u001B[39;00m df \u001B[38;5;129;01mis\u001B[39;00m \u001B[38;5;28;01mNone\u001B[39;00m \u001B[38;5;129;01mor\u001B[39;00m \u001B[38;5;28mlen\u001B[39m(df\u001B[38;5;241m.\u001B[39mschema) \u001B[38;5;241m==\u001B[39m \u001B[38;5;241m0\u001B[39m:\n",
       "\u001B[1;32m    251\u001B[0m         \u001B[38;5;66;03m# E.g. \"create or replace temp view abc as select 1\" gets us here and we should not return a result in this case.\u001B[39;00m\n",
       "\u001B[1;32m    252\u001B[0m         \u001B[38;5;28;01mreturn\u001B[39;00m \u001B[38;5;28;01mNone\u001B[39;00m\n",
       "\n",
       "File \u001B[0;32m/databricks/python_shell/lib/dbruntime/sql_magic/sql_magic.py:124\u001B[0m, in \u001B[0;36mSqlMagic.get_query_request_result\u001B[0;34m(self, query)\u001B[0m\n",
       "\u001B[1;32m    122\u001B[0m \u001B[38;5;28;01mif\u001B[39;00m \u001B[38;5;28mlen\u001B[39m(widget_bindings \u001B[38;5;241m:=\u001B[39m \u001B[38;5;28mself\u001B[39m\u001B[38;5;241m.\u001B[39mdbutils\u001B[38;5;241m.\u001B[39mwidgets\u001B[38;5;241m.\u001B[39mgetAll()) \u001B[38;5;241m>\u001B[39m \u001B[38;5;241m0\u001B[39m:\n",
       "\u001B[1;32m    123\u001B[0m     \u001B[38;5;28mself\u001B[39m\u001B[38;5;241m.\u001B[39mdriver_activity_logger\u001B[38;5;241m.\u001B[39mlogExecuteCommandEvent(\u001B[38;5;124m\"\u001B[39m\u001B[38;5;124mPARAM_SYNTAX_USAGE\u001B[39m\u001B[38;5;124m\"\u001B[39m)\n",
       "\u001B[0;32m--> 124\u001B[0m df \u001B[38;5;241m=\u001B[39m \u001B[38;5;28mself\u001B[39m\u001B[38;5;241m.\u001B[39masserting_spark\u001B[38;5;241m.\u001B[39msql(query, widget_bindings)\n",
       "\u001B[1;32m    125\u001B[0m \u001B[38;5;28;01mreturn\u001B[39;00m df\n",
       "\n",
       "File \u001B[0;32m/databricks/python/lib/python3.11/site-packages/pyspark/sql/connect/session.py:736\u001B[0m, in \u001B[0;36mSparkSession.sql\u001B[0;34m(self, sqlQuery, args, **kwargs)\u001B[0m\n",
       "\u001B[1;32m    733\u001B[0m         _views\u001B[38;5;241m.\u001B[39mappend(SubqueryAlias(df\u001B[38;5;241m.\u001B[39m_plan, name))\n",
       "\u001B[1;32m    735\u001B[0m cmd \u001B[38;5;241m=\u001B[39m SQL(sqlQuery, _args, _named_args, _views)\n",
       "\u001B[0;32m--> 736\u001B[0m data, properties, ei \u001B[38;5;241m=\u001B[39m \u001B[38;5;28mself\u001B[39m\u001B[38;5;241m.\u001B[39mclient\u001B[38;5;241m.\u001B[39mexecute_command(cmd\u001B[38;5;241m.\u001B[39mcommand(\u001B[38;5;28mself\u001B[39m\u001B[38;5;241m.\u001B[39m_client))\n",
       "\u001B[1;32m    737\u001B[0m \u001B[38;5;28;01mif\u001B[39;00m \u001B[38;5;124m\"\u001B[39m\u001B[38;5;124msql_command_result\u001B[39m\u001B[38;5;124m\"\u001B[39m \u001B[38;5;129;01min\u001B[39;00m properties:\n",
       "\u001B[1;32m    738\u001B[0m     df \u001B[38;5;241m=\u001B[39m DataFrame(CachedRelation(properties[\u001B[38;5;124m\"\u001B[39m\u001B[38;5;124msql_command_result\u001B[39m\u001B[38;5;124m\"\u001B[39m]), \u001B[38;5;28mself\u001B[39m)\n",
       "\n",
       "File \u001B[0;32m/databricks/python/lib/python3.11/site-packages/pyspark/sql/connect/client/core.py:1303\u001B[0m, in \u001B[0;36mSparkConnectClient.execute_command\u001B[0;34m(self, command, observations, extra_request_metadata)\u001B[0m\n",
       "\u001B[1;32m   1301\u001B[0m     req\u001B[38;5;241m.\u001B[39muser_context\u001B[38;5;241m.\u001B[39muser_id \u001B[38;5;241m=\u001B[39m \u001B[38;5;28mself\u001B[39m\u001B[38;5;241m.\u001B[39m_user_id\n",
       "\u001B[1;32m   1302\u001B[0m req\u001B[38;5;241m.\u001B[39mplan\u001B[38;5;241m.\u001B[39mcommand\u001B[38;5;241m.\u001B[39mCopyFrom(command)\n",
       "\u001B[0;32m-> 1303\u001B[0m data, _, metrics, observed_metrics, properties \u001B[38;5;241m=\u001B[39m \u001B[38;5;28mself\u001B[39m\u001B[38;5;241m.\u001B[39m_execute_and_fetch(\n",
       "\u001B[1;32m   1304\u001B[0m     req, observations \u001B[38;5;129;01mor\u001B[39;00m {}, extra_request_metadata\n",
       "\u001B[1;32m   1305\u001B[0m )\n",
       "\u001B[1;32m   1306\u001B[0m \u001B[38;5;66;03m# Create a query execution object.\u001B[39;00m\n",
       "\u001B[1;32m   1307\u001B[0m ei \u001B[38;5;241m=\u001B[39m ExecutionInfo(metrics, observed_metrics)\n",
       "\n",
       "File \u001B[0;32m/databricks/python/lib/python3.11/site-packages/pyspark/sql/connect/client/core.py:1761\u001B[0m, in \u001B[0;36mSparkConnectClient._execute_and_fetch\u001B[0;34m(self, req, observations, extra_request_metadata, self_destruct)\u001B[0m\n",
       "\u001B[1;32m   1758\u001B[0m properties: Dict[\u001B[38;5;28mstr\u001B[39m, Any] \u001B[38;5;241m=\u001B[39m {}\n",
       "\u001B[1;32m   1760\u001B[0m \u001B[38;5;28;01mwith\u001B[39;00m Progress(handlers\u001B[38;5;241m=\u001B[39m\u001B[38;5;28mself\u001B[39m\u001B[38;5;241m.\u001B[39m_progress_handlers, operation_id\u001B[38;5;241m=\u001B[39mreq\u001B[38;5;241m.\u001B[39moperation_id) \u001B[38;5;28;01mas\u001B[39;00m progress:\n",
       "\u001B[0;32m-> 1761\u001B[0m     \u001B[38;5;28;01mfor\u001B[39;00m response \u001B[38;5;129;01min\u001B[39;00m \u001B[38;5;28mself\u001B[39m\u001B[38;5;241m.\u001B[39m_execute_and_fetch_as_iterator(\n",
       "\u001B[1;32m   1762\u001B[0m         req, observations, extra_request_metadata \u001B[38;5;129;01mor\u001B[39;00m [], progress\u001B[38;5;241m=\u001B[39mprogress\n",
       "\u001B[1;32m   1763\u001B[0m     ):\n",
       "\u001B[1;32m   1764\u001B[0m         \u001B[38;5;28;01mif\u001B[39;00m \u001B[38;5;28misinstance\u001B[39m(response, StructType):\n",
       "\u001B[1;32m   1765\u001B[0m             schema \u001B[38;5;241m=\u001B[39m response\n",
       "\n",
       "File \u001B[0;32m/databricks/python/lib/python3.11/site-packages/pyspark/sql/connect/client/core.py:1737\u001B[0m, in \u001B[0;36mSparkConnectClient._execute_and_fetch_as_iterator\u001B[0;34m(self, req, observations, extra_request_metadata, progress)\u001B[0m\n",
       "\u001B[1;32m   1735\u001B[0m     \u001B[38;5;28;01mraise\u001B[39;00m kb\n",
       "\u001B[1;32m   1736\u001B[0m \u001B[38;5;28;01mexcept\u001B[39;00m \u001B[38;5;167;01mException\u001B[39;00m \u001B[38;5;28;01mas\u001B[39;00m error:\n",
       "\u001B[0;32m-> 1737\u001B[0m     \u001B[38;5;28mself\u001B[39m\u001B[38;5;241m.\u001B[39m_handle_error(error)\n",
       "\n",
       "File \u001B[0;32m/databricks/python/lib/python3.11/site-packages/pyspark/sql/connect/client/core.py:2053\u001B[0m, in \u001B[0;36mSparkConnectClient._handle_error\u001B[0;34m(self, error)\u001B[0m\n",
       "\u001B[1;32m   2051\u001B[0m \u001B[38;5;28mself\u001B[39m\u001B[38;5;241m.\u001B[39mthread_local\u001B[38;5;241m.\u001B[39minside_error_handling \u001B[38;5;241m=\u001B[39m \u001B[38;5;28;01mTrue\u001B[39;00m\n",
       "\u001B[1;32m   2052\u001B[0m \u001B[38;5;28;01mif\u001B[39;00m \u001B[38;5;28misinstance\u001B[39m(error, grpc\u001B[38;5;241m.\u001B[39mRpcError):\n",
       "\u001B[0;32m-> 2053\u001B[0m     \u001B[38;5;28mself\u001B[39m\u001B[38;5;241m.\u001B[39m_handle_rpc_error(error)\n",
       "\u001B[1;32m   2054\u001B[0m \u001B[38;5;28;01melif\u001B[39;00m \u001B[38;5;28misinstance\u001B[39m(error, \u001B[38;5;167;01mValueError\u001B[39;00m):\n",
       "\u001B[1;32m   2055\u001B[0m     \u001B[38;5;28;01mif\u001B[39;00m \u001B[38;5;124m\"\u001B[39m\u001B[38;5;124mCannot invoke RPC\u001B[39m\u001B[38;5;124m\"\u001B[39m \u001B[38;5;129;01min\u001B[39;00m \u001B[38;5;28mstr\u001B[39m(error) \u001B[38;5;129;01mand\u001B[39;00m \u001B[38;5;124m\"\u001B[39m\u001B[38;5;124mclosed\u001B[39m\u001B[38;5;124m\"\u001B[39m \u001B[38;5;129;01min\u001B[39;00m \u001B[38;5;28mstr\u001B[39m(error):\n",
       "\n",
       "File \u001B[0;32m/databricks/python/lib/python3.11/site-packages/pyspark/sql/connect/client/core.py:2132\u001B[0m, in \u001B[0;36mSparkConnectClient._handle_rpc_error\u001B[0;34m(self, rpc_error)\u001B[0m\n",
       "\u001B[1;32m   2128\u001B[0m             d\u001B[38;5;241m.\u001B[39mUnpack(info)\n",
       "\u001B[1;32m   2130\u001B[0m             \u001B[38;5;28mself\u001B[39m\u001B[38;5;241m.\u001B[39m_handle_rpc_error_with_error_info(status, info)  \u001B[38;5;66;03m# EDGE\u001B[39;00m\n",
       "\u001B[0;32m-> 2132\u001B[0m             \u001B[38;5;28;01mraise\u001B[39;00m convert_exception(\n",
       "\u001B[1;32m   2133\u001B[0m                 info,\n",
       "\u001B[1;32m   2134\u001B[0m                 status\u001B[38;5;241m.\u001B[39mmessage,\n",
       "\u001B[1;32m   2135\u001B[0m                 \u001B[38;5;28mself\u001B[39m\u001B[38;5;241m.\u001B[39m_fetch_enriched_error(info),\n",
       "\u001B[1;32m   2136\u001B[0m                 \u001B[38;5;28mself\u001B[39m\u001B[38;5;241m.\u001B[39m_display_server_stack_trace(),\n",
       "\u001B[1;32m   2137\u001B[0m             ) \u001B[38;5;28;01mfrom\u001B[39;00m \u001B[38;5;28;01mNone\u001B[39;00m\n",
       "\u001B[1;32m   2139\u001B[0m     \u001B[38;5;28;01mraise\u001B[39;00m SparkConnectGrpcException(\n",
       "\u001B[1;32m   2140\u001B[0m         message\u001B[38;5;241m=\u001B[39mstatus\u001B[38;5;241m.\u001B[39mmessage,\n",
       "\u001B[1;32m   2141\u001B[0m         sql_state\u001B[38;5;241m=\u001B[39mSparkConnectGrpcException\u001B[38;5;241m.\u001B[39mCLIENT_UNEXPECTED_MISSING_SQL_STATE,  \u001B[38;5;66;03m# EDGE\u001B[39;00m\n",
       "\u001B[1;32m   2142\u001B[0m     ) \u001B[38;5;28;01mfrom\u001B[39;00m \u001B[38;5;28;01mNone\u001B[39;00m\n",
       "\u001B[1;32m   2143\u001B[0m \u001B[38;5;28;01melse\u001B[39;00m:\n",
       "\n",
       "\u001B[0;31mAnalysisException\u001B[0m: [UNRESOLVED_COLUMN.WITH_SUGGESTION] A column, variable, or function parameter with name `status` cannot be resolved. Did you mean one of the following? [`nights`, `hotel_id`, `hotel_city`, `hotel_name`, `customer_id`]. SQLSTATE: 42703; line 4 pos 20;\n",
       "'Sort ['cancellation_rate DESC NULLS LAST], true\n",
       "+- 'Aggregate [hotel_name#12684], [hotel_name#12684, 'COUNT(CASE WHEN ('status = Cancelled) THEN 1 END) AS cancelled_count#12667, count(1) AS total_bookings#12668L, (('COUNT(CASE WHEN ('status = Cancelled) THEN 1 END) * 100.0) / count(1)) AS cancellation_rate#12669]\n",
       "   +- SubqueryAlias dlt_demo.default.bookings_dataset\n",
       "      +- Relation dlt_demo.default.bookings_dataset[customer_id#12680,customer_name#12681,customer_city#12682,hotel_id#12683,hotel_name#12684,hotel_city#12685,booking_date#12686,nights#12687,price_per_night#12688,total_amount#12689] parquet\n",
       "\n",
       "\n",
       "JVM stacktrace:\n",
       "org.apache.spark.sql.catalyst.ExtendedAnalysisException\n",
       "\tat org.apache.spark.sql.errors.QueryCompilationErrors$.unresolvedAttributeError(QueryCompilationErrors.scala:593)\n",
       "\tat org.apache.spark.sql.catalyst.analysis.CheckAnalysis.org$apache$spark$sql$catalyst$analysis$CheckAnalysis$$failUnresolvedAttribute(CheckAnalysis.scala:190)\n",
       "\tat org.apache.spark.sql.catalyst.analysis.CheckAnalysis.$anonfun$checkAnalysis0$10(CheckAnalysis.scala:491)\n",
       "\tat org.apache.spark.sql.catalyst.analysis.CheckAnalysis.$anonfun$checkAnalysis0$10$adapted(CheckAnalysis.scala:476)\n",
       "\tat org.apache.spark.sql.catalyst.trees.TreeNode.foreachUp(TreeNode.scala:311)\n",
       "\tat org.apache.spark.sql.catalyst.trees.TreeNode.$anonfun$foreachUp$1(TreeNode.scala:310)\n",
       "\tat org.apache.spark.sql.catalyst.trees.TreeNode.$anonfun$foreachUp$1$adapted(TreeNode.scala:310)\n",
       "\tat scala.collection.immutable.Vector.foreach(Vector.scala:2125)\n",
       "\tat org.apache.spark.sql.catalyst.trees.TreeNode.foreachUp(TreeNode.scala:310)\n",
       "\tat org.apache.spark.sql.catalyst.trees.TreeNode.$anonfun$foreachUp$1(TreeNode.scala:310)\n",
       "\tat org.apache.spark.sql.catalyst.trees.TreeNode.$anonfun$foreachUp$1$adapted(TreeNode.scala:310)\n",
       "\tat scala.collection.immutable.List.foreach(List.scala:334)\n",
       "\tat org.apache.spark.sql.catalyst.trees.TreeNode.foreachUp(TreeNode.scala:310)\n",
       "\tat org.apache.spark.sql.catalyst.trees.TreeNode.$anonfun$foreachUp$1(TreeNode.scala:310)\n",
       "\tat org.apache.spark.sql.catalyst.trees.TreeNode.$anonfun$foreachUp$1$adapted(TreeNode.scala:310)\n",
       "\tat scala.collection.immutable.List.foreach(List.scala:334)\n",
       "\tat org.apache.spark.sql.catalyst.trees.TreeNode.foreachUp(TreeNode.scala:310)\n",
       "\tat org.apache.spark.sql.catalyst.trees.TreeNode.$anonfun$foreachUp$1(TreeNode.scala:310)\n",
       "\tat org.apache.spark.sql.catalyst.trees.TreeNode.$anonfun$foreachUp$1$adapted(TreeNode.scala:310)\n",
       "\tat scala.collection.immutable.Vector.foreach(Vector.scala:2125)\n",
       "\tat org.apache.spark.sql.catalyst.trees.TreeNode.foreachUp(TreeNode.scala:310)\n",
       "\tat org.apache.spark.sql.catalyst.analysis.CheckAnalysis.$anonfun$checkAnalysis0$9(CheckAnalysis.scala:476)\n",
       "\tat org.apache.spark.sql.catalyst.analysis.CheckAnalysis.$anonfun$checkAnalysis0$9$adapted(CheckAnalysis.scala:476)\n",
       "\tat scala.collection.immutable.List.foreach(List.scala:334)\n",
       "\tat org.apache.spark.sql.catalyst.analysis.CheckAnalysis.$anonfun$checkAnalysis0$2(CheckAnalysis.scala:476)\n",
       "\tat org.apache.spark.sql.catalyst.analysis.CheckAnalysis.$anonfun$checkAnalysis0$2$adapted(CheckAnalysis.scala:318)\n",
       "\tat org.apache.spark.sql.catalyst.trees.TreeNode.foreachUp(TreeNode.scala:311)\n",
       "\tat org.apache.spark.sql.catalyst.trees.TreeNode.$anonfun$foreachUp$1(TreeNode.scala:310)\n",
       "\tat org.apache.spark.sql.catalyst.trees.TreeNode.$anonfun$foreachUp$1$adapted(TreeNode.scala:310)\n",
       "\tat scala.collection.immutable.Vector.foreach(Vector.scala:2125)\n",
       "\tat org.apache.spark.sql.catalyst.trees.TreeNode.foreachUp(TreeNode.scala:310)\n",
       "\tat org.apache.spark.sql.catalyst.analysis.CheckAnalysis.checkAnalysis0(CheckAnalysis.scala:318)\n",
       "\tat org.apache.spark.sql.catalyst.analysis.CheckAnalysis.checkAnalysis0$(CheckAnalysis.scala:289)\n",
       "\tat org.apache.spark.sql.catalyst.analysis.Analyzer.checkAnalysis0(Analyzer.scala:499)\n",
       "\tat org.apache.spark.sql.catalyst.analysis.CheckAnalysis.$anonfun$checkAnalysis$1(CheckAnalysis.scala:274)\n",
       "\tat scala.runtime.java8.JFunction0$mcV$sp.apply(JFunction0$mcV$sp.scala:18)\n",
       "\tat com.databricks.spark.util.FrameProfiler$.$anonfun$record$1(FrameProfiler.scala:95)\n",
       "\tat com.databricks.spark.util.FrameProfilerExporter$.maybeExportFrameProfiler(FrameProfilerExporter.scala:153)\n",
       "\tat com.databricks.spark.util.FrameProfiler$.record(FrameProfiler.scala:86)\n",
       "\tat org.apache.spark.sql.catalyst.analysis.CheckAnalysis.checkAnalysis(CheckAnalysis.scala:261)\n",
       "\tat org.apache.spark.sql.catalyst.analysis.CheckAnalysis.checkAnalysis$(CheckAnalysis.scala:261)\n",
       "\tat org.apache.spark.sql.catalyst.analysis.Analyzer.checkAnalysis(Analyzer.scala:499)\n",
       "\tat org.apache.spark.sql.catalyst.analysis.resolver.HybridAnalyzer.$anonfun$resolveInFixedPoint$1(HybridAnalyzer.scala:390)\n",
       "\tat scala.runtime.java8.JFunction0$mcV$sp.apply(JFunction0$mcV$sp.scala:18)\n",
       "\tat org.apache.spark.sql.catalyst.QueryPlanningTracker$.withTracker(QueryPlanningTracker.scala:248)\n",
       "\tat org.apache.spark.sql.catalyst.analysis.resolver.HybridAnalyzer.resolveInFixedPoint(HybridAnalyzer.scala:390)\n",
       "\tat org.apache.spark.sql.catalyst.analysis.resolver.HybridAnalyzer.$anonfun$apply$1(HybridAnalyzer.scala:98)\n",
       "\tat org.apache.spark.sql.catalyst.analysis.resolver.HybridAnalyzer.withTrackedAnalyzerBridgeState(HybridAnalyzer.scala:135)\n",
       "\tat org.apache.spark.sql.catalyst.analysis.resolver.HybridAnalyzer.apply(HybridAnalyzer.scala:91)\n",
       "\tat org.apache.spark.sql.catalyst.analysis.Analyzer.$anonfun$executeAndCheck$2(Analyzer.scala:555)\n",
       "\tat org.apache.spark.sql.catalyst.plans.logical.AnalysisHelper$.markInAnalyzer(AnalysisHelper.scala:425)\n",
       "\tat org.apache.spark.sql.catalyst.analysis.Analyzer.$anonfun$executeAndCheck$1(Analyzer.scala:555)\n",
       "\tat com.databricks.sql.unity.SAMSnapshotHelper$.visitPlansDuringAnalysis(SAMSnapshotHelper.scala:41)\n",
       "\tat org.apache.spark.sql.catalyst.analysis.Analyzer.executeAndCheck(Analyzer.scala:548)\n",
       "\tat org.apache.spark.sql.execution.QueryExecution.$anonfun$lazyAnalyzed$3(QueryExecution.scala:327)\n",
       "\tat com.databricks.spark.util.FrameProfiler$.$anonfun$record$1(FrameProfiler.scala:95)\n",
       "\tat com.databricks.spark.util.FrameProfilerExporter$.maybeExportFrameProfiler(FrameProfilerExporter.scala:153)\n",
       "\tat com.databricks.spark.util.FrameProfiler$.record(FrameProfiler.scala:86)\n",
       "\tat org.apache.spark.sql.catalyst.QueryPlanningTracker.measurePhase(QueryPlanningTracker.scala:646)\n",
       "\tat org.apache.spark.sql.execution.QueryExecution.$anonfun$executePhase$7(QueryExecution.scala:810)\n",
       "\tat org.apache.spark.sql.execution.SQLExecution$.$anonfun$withExecutionPhase$1(SQLExecution.scala:155)\n",
       "\tat com.databricks.logging.AttributionContext$.$anonfun$withValue$1(AttributionContext.scala:291)\n",
       "\tat scala.util.DynamicVariable.withValue(DynamicVariable.scala:59)\n",
       "\tat com.databricks.logging.AttributionContext$.withValue(AttributionContext.scala:287)\n",
       "\tat com.databricks.util.TracingSpanUtils$.$anonfun$withTracing$4(TracingSpanUtils.scala:235)\n",
       "\tat com.databricks.util.TracingSpanUtils$.withTracing(TracingSpanUtils.scala:129)\n",
       "\tat com.databricks.util.TracingSpanUtils$.withTracing(TracingSpanUtils.scala:233)\n",
       "\tat com.databricks.tracing.TracingUtils$.withTracing(TracingUtils.scala:296)\n",
       "\tat com.databricks.spark.util.DatabricksTracingHelper.withSpan(DatabricksSparkTracingHelper.scala:61)\n",
       "\tat com.databricks.spark.util.DBRTracing$.withSpan(DBRTracing.scala:47)\n",
       "\tat org.apache.spark.sql.execution.SQLExecution$.withExecutionPhase(SQLExecution.scala:136)\n",
       "\tat org.apache.spark.sql.execution.QueryExecution.$anonfun$executePhase$6(QueryExecution.scala:810)\n",
       "\tat org.apache.spark.sql.execution.QueryExecution$.withInternalError(QueryExecution.scala:1449)\n",
       "\tat org.apache.spark.sql.execution.QueryExecution.$anonfun$executePhase$4(QueryExecution.scala:803)\n",
       "\tat com.databricks.util.LexicalThreadLocal$Handle.runWith(LexicalThreadLocal.scala:63)\n",
       "\tat org.apache.spark.sql.execution.QueryExecution.$anonfun$executePhase$3(QueryExecution.scala:800)\n",
       "\tat com.databricks.util.LexicalThreadLocal$Handle.runWith(LexicalThreadLocal.scala:63)\n",
       "\tat org.apache.spark.sql.execution.QueryExecution.$anonfun$executePhase$2(QueryExecution.scala:800)\n",
       "\tat org.apache.spark.sql.execution.QueryExecution.withQueryExecutionId(QueryExecution.scala:789)\n",
       "\tat org.apache.spark.sql.execution.QueryExecution.$anonfun$executePhase$1(QueryExecution.scala:799)\n",
       "\tat org.apache.spark.sql.SparkSession.withActive(SparkSession.scala:860)\n",
       "\tat org.apache.spark.sql.execution.QueryExecution.executePhase(QueryExecution.scala:798)\n",
       "\tat org.apache.spark.sql.execution.QueryExecution.$anonfun$lazyAnalyzed$2(QueryExecution.scala:309)\n",
       "\tat com.databricks.sql.util.MemoryTrackerHelper.withMemoryTracking(MemoryTrackerHelper.scala:111)\n",
       "\tat org.apache.spark.sql.execution.QueryExecution.$anonfun$lazyAnalyzed$1(QueryExecution.scala:308)\n",
       "\tat scala.util.Try$.apply(Try.scala:217)\n",
       "\tat org.apache.spark.util.Utils$.doTryWithCallerStacktrace(Utils.scala:1686)\n",
       "\tat org.apache.spark.util.LazyTry.tryT$lzycompute(LazyTry.scala:60)\n",
       "\tat org.apache.spark.util.LazyTry.tryT(LazyTry.scala:59)\n",
       "\tat org.apache.spark.util.LazyTry.get(LazyTry.scala:75)\n",
       "\tat org.apache.spark.sql.execution.QueryExecution.analyzed(QueryExecution.scala:369)\n",
       "\tat org.apache.spark.sql.execution.QueryExecution.assertAnalyzed(QueryExecution.scala:288)\n",
       "\tat org.apache.spark.sql.classic.Dataset$.$anonfun$ofRows$3(Dataset.scala:154)\n",
       "\tat org.apache.spark.sql.SparkSession.withActive(SparkSession.scala:860)\n",
       "\tat org.apache.spark.sql.classic.SparkSession.$anonfun$withActiveAndFrameProfiler$1(SparkSession.scala:1071)\n",
       "\tat com.databricks.spark.util.FrameProfiler$.$anonfun$record$1(FrameProfiler.scala:95)\n",
       "\tat com.databricks.spark.util.FrameProfilerExporter$.maybeExportFrameProfiler(FrameProfilerExporter.scala:153)\n",
       "\tat com.databricks.spark.util.FrameProfiler$.record(FrameProfiler.scala:86)\n",
       "\tat org.apache.spark.sql.classic.SparkSession.withActiveAndFrameProfiler(SparkSession.scala:1071)\n",
       "\tat org.apache.spark.sql.classic.Dataset$.ofRows(Dataset.scala:146)\n",
       "\tat org.apache.spark.sql.classic.SparkSession.$anonfun$sql$4(SparkSession.scala:850)\n",
       "\tat org.apache.spark.sql.SparkSession.withActive(SparkSession.scala:860)\n",
       "\tat org.apache.spark.sql.classic.SparkSession.sql(SparkSession.scala:813)\n",
       "\tat org.apache.spark.sql.connect.planner.SparkConnectPlanner.executeSQL(SparkConnectPlanner.scala:3500)\n",
       "\tat org.apache.spark.sql.connect.planner.SparkConnectPlanner.handleSqlCommand(SparkConnectPlanner.scala:3330)\n",
       "\tat org.apache.spark.sql.connect.planner.SparkConnectPlanner.process(SparkConnectPlanner.scala:3207)\n",
       "\tat org.apache.spark.sql.connect.execution.ExecuteThreadRunner.handleCommand(ExecuteThreadRunner.scala:385)\n",
       "\tat org.apache.spark.util.Utils$.getTryWithCallerStacktrace(Utils.scala:1747)\n",
       "\tat org.apache.spark.util.LazyTry.get(LazyTry.scala:75)\n",
       "\tat org.apache.spark.sql.execution.QueryExecution.executedPlan(QueryExecution.scala:734)\n",
       "\tat com.databricks.spark.sqlgateway.history.SqlGatewayHistorySparkListener.$anonfun$onSqlStart$12(SqlGatewayHistorySparkListener.scala:719)\n",
       "\tat scala.Option.map(Option.scala:242)\n",
       "\tat com.databricks.spark.sqlgateway.history.SqlGatewayHistorySparkListener.$anonfun$onSqlStart$11(SqlGatewayHistorySparkListener.scala:719)\n",
       "\tat scala.Option.foreach(Option.scala:437)\n",
       "\tat com.databricks.spark.sqlgateway.history.SqlGatewayHistorySparkListener.$anonfun$onSqlStart$1(SqlGatewayHistorySparkListener.scala:716)\n",
       "\tat scala.runtime.java8.JFunction0$mcV$sp.apply(JFunction0$mcV$sp.scala:18)\n",
       "\tat com.databricks.spark.util.FrameProfiler$.$anonfun$record$1(FrameProfiler.scala:95)\n",
       "\tat com.databricks.spark.util.FrameProfilerExporter$.maybeExportFrameProfiler(FrameProfilerExporter.scala:153)\n",
       "\tat com.databricks.spark.util.FrameProfiler$.record(FrameProfiler.scala:86)\n",
       "\tat com.databricks.spark.sqlgateway.history.SqlGatewayHistorySparkListener.com$databricks$spark$sqlgateway$history$SqlGatewayHistorySparkListener$$onSqlStart(SqlGatewayHistorySparkListener.scala:661)\n",
       "\tat com.databricks.spark.sqlgateway.history.SqlGatewayHistorySparkListener$$anonfun$onOtherEventDefault$1.applyOrElse(SqlGatewayHistorySparkListener.scala:236)\n",
       "\tat com.databricks.spark.sqlgateway.history.SqlGatewayHistorySparkListener$$anonfun$onOtherEventDefault$1.applyOrElse(SqlGatewayHistorySparkListener.scala:224)\n",
       "\tat scala.runtime.AbstractPartialFunction.apply(AbstractPartialFunction.scala:35)\n",
       "\tat com.databricks.spark.sqlgateway.history.utils.RuntimeVersionBridge$$anonfun$onOtherEvent$1.applyOrElse(RuntimeVersionBridge.scala:209)\n",
       "\tat com.databricks.spark.sqlgateway.history.utils.RuntimeVersionBridge$$anonfun$onOtherEvent$1.applyOrElse(RuntimeVersionBridge.scala:209)\n",
       "\tat com.databricks.spark.sqlgateway.history.SqlGatewayHistorySparkListener.$anonfun$onOtherEvent$1(SqlGatewayHistorySparkListener.scala:202)\n",
       "\tat scala.runtime.java8.JFunction0$mcV$sp.apply(JFunction0$mcV$sp.scala:18)\n",
       "\tat com.databricks.spark.util.FrameProfiler$.$anonfun$record$1(FrameProfiler.scala:95)\n",
       "\tat com.databricks.spark.util.FrameProfilerExporter$.maybeExportFrameProfiler(FrameProfilerExporter.scala:153)\n",
       "\tat com.databricks.spark.util.FrameProfiler$.record(FrameProfiler.scala:86)\n",
       "\tat com.databricks.spark.sqlgateway.history.SqlGatewayHistorySparkListener.onOtherEvent(SqlGatewayHistorySparkListener.scala:202)\n",
       "\tat org.apache.spark.scheduler.SparkListenerBus.doPostEvent(SparkListenerBus.scala:108)\n",
       "\tat org.apache.spark.scheduler.SparkListenerBus.doPostEvent$(SparkListenerBus.scala:28)\n",
       "\tat org.apache.spark.scheduler.AsyncEventQueue.doPostEvent(AsyncEventQueue.scala:46)\n",
       "\tat org.apache.spark.scheduler.AsyncEventQueue.doPostEvent(AsyncEventQueue.scala:46)\n",
       "\tat org.apache.spark.util.ListenerBus.postToAll(ListenerBus.scala:208)\n",
       "\tat org.apache.spark.util.ListenerBus.postToAll$(ListenerBus.scala:172)\n",
       "\tat org.apache.spark.scheduler.AsyncEventQueue.super$postToAll(AsyncEventQueue.scala:130)\n",
       "\tat org.apache.spark.scheduler.AsyncEventQueue.$anonfun$dispatch$1(AsyncEventQueue.scala:130)\n",
       "\tat scala.runtime.java8.JFunction0$mcJ$sp.apply(JFunction0$mcJ$sp.scala:17)\n",
       "\tat scala.util.DynamicVariable.withValue(DynamicVariable.scala:59)\n",
       "\tat org.apache.spark.scheduler.AsyncEventQueue.org$apache$spark$scheduler$AsyncEventQueue$$dispatch(AsyncEventQueue.scala:116)\n",
       "\tat org.apache.spark.scheduler.AsyncEventQueue$$anon$2.$anonfun$run$1(AsyncEventQueue.scala:112)\n",
       "\tat org.apache.spark.util.Utils$.tryOrStopSparkContext(Utils.scala:1574)\n",
       "\tat org.apache.spark.scheduler.AsyncEventQueue$$anon$2.run(AsyncEventQueue.scala:112)"
      ]
     },
     "metadata": {
      "application/vnd.databricks.v1+output": {
       "addedWidgets": {},
       "arguments": {},
       "datasetInfos": [],
       "jupyterProps": {
        "ename": "AnalysisException",
        "evalue": "[UNRESOLVED_COLUMN.WITH_SUGGESTION] A column, variable, or function parameter with name `status` cannot be resolved. Did you mean one of the following? [`nights`, `hotel_id`, `hotel_city`, `hotel_name`, `customer_id`]. SQLSTATE: 42703; line 4 pos 20;\n'Sort ['cancellation_rate DESC NULLS LAST], true\n+- 'Aggregate [hotel_name#12684], [hotel_name#12684, 'COUNT(CASE WHEN ('status = Cancelled) THEN 1 END) AS cancelled_count#12667, count(1) AS total_bookings#12668L, (('COUNT(CASE WHEN ('status = Cancelled) THEN 1 END) * 100.0) / count(1)) AS cancellation_rate#12669]\n   +- SubqueryAlias dlt_demo.default.bookings_dataset\n      +- Relation dlt_demo.default.bookings_dataset[customer_id#12680,customer_name#12681,customer_city#12682,hotel_id#12683,hotel_name#12684,hotel_city#12685,booking_date#12686,nights#12687,price_per_night#12688,total_amount#12689] parquet\n\n\nJVM stacktrace:\norg.apache.spark.sql.catalyst.ExtendedAnalysisException\n\tat org.apache.spark.sql.errors.QueryCompilationErrors$.unresolvedAttributeError(QueryCompilationErrors.scala:593)\n\tat org.apache.spark.sql.catalyst.analysis.CheckAnalysis.org$apache$spark$sql$catalyst$analysis$CheckAnalysis$$failUnresolvedAttribute(CheckAnalysis.scala:190)\n\tat org.apache.spark.sql.catalyst.analysis.CheckAnalysis.$anonfun$checkAnalysis0$10(CheckAnalysis.scala:491)\n\tat org.apache.spark.sql.catalyst.analysis.CheckAnalysis.$anonfun$checkAnalysis0$10$adapted(CheckAnalysis.scala:476)\n\tat org.apache.spark.sql.catalyst.trees.TreeNode.foreachUp(TreeNode.scala:311)\n\tat org.apache.spark.sql.catalyst.trees.TreeNode.$anonfun$foreachUp$1(TreeNode.scala:310)\n\tat org.apache.spark.sql.catalyst.trees.TreeNode.$anonfun$foreachUp$1$adapted(TreeNode.scala:310)\n\tat scala.collection.immutable.Vector.foreach(Vector.scala:2125)\n\tat org.apache.spark.sql.catalyst.trees.TreeNode.foreachUp(TreeNode.scala:310)\n\tat org.apache.spark.sql.catalyst.trees.TreeNode.$anonfun$foreachUp$1(TreeNode.scala:310)\n\tat org.apache.spark.sql.catalyst.trees.TreeNode.$anonfun$foreachUp$1$adapted(TreeNode.scala:310)\n\tat scala.collection.immutable.List.foreach(List.scala:334)\n\tat org.apache.spark.sql.catalyst.trees.TreeNode.foreachUp(TreeNode.scala:310)\n\tat org.apache.spark.sql.catalyst.trees.TreeNode.$anonfun$foreachUp$1(TreeNode.scala:310)\n\tat org.apache.spark.sql.catalyst.trees.TreeNode.$anonfun$foreachUp$1$adapted(TreeNode.scala:310)\n\tat scala.collection.immutable.List.foreach(List.scala:334)\n\tat org.apache.spark.sql.catalyst.trees.TreeNode.foreachUp(TreeNode.scala:310)\n\tat org.apache.spark.sql.catalyst.trees.TreeNode.$anonfun$foreachUp$1(TreeNode.scala:310)\n\tat org.apache.spark.sql.catalyst.trees.TreeNode.$anonfun$foreachUp$1$adapted(TreeNode.scala:310)\n\tat scala.collection.immutable.Vector.foreach(Vector.scala:2125)\n\tat org.apache.spark.sql.catalyst.trees.TreeNode.foreachUp(TreeNode.scala:310)\n\tat org.apache.spark.sql.catalyst.analysis.CheckAnalysis.$anonfun$checkAnalysis0$9(CheckAnalysis.scala:476)\n\tat org.apache.spark.sql.catalyst.analysis.CheckAnalysis.$anonfun$checkAnalysis0$9$adapted(CheckAnalysis.scala:476)\n\tat scala.collection.immutable.List.foreach(List.scala:334)\n\tat org.apache.spark.sql.catalyst.analysis.CheckAnalysis.$anonfun$checkAnalysis0$2(CheckAnalysis.scala:476)\n\tat org.apache.spark.sql.catalyst.analysis.CheckAnalysis.$anonfun$checkAnalysis0$2$adapted(CheckAnalysis.scala:318)\n\tat org.apache.spark.sql.catalyst.trees.TreeNode.foreachUp(TreeNode.scala:311)\n\tat org.apache.spark.sql.catalyst.trees.TreeNode.$anonfun$foreachUp$1(TreeNode.scala:310)\n\tat org.apache.spark.sql.catalyst.trees.TreeNode.$anonfun$foreachUp$1$adapted(TreeNode.scala:310)\n\tat scala.collection.immutable.Vector.foreach(Vector.scala:2125)\n\tat org.apache.spark.sql.catalyst.trees.TreeNode.foreachUp(TreeNode.scala:310)\n\tat org.apache.spark.sql.catalyst.analysis.CheckAnalysis.checkAnalysis0(CheckAnalysis.scala:318)\n\tat org.apache.spark.sql.catalyst.analysis.CheckAnalysis.checkAnalysis0$(CheckAnalysis.scala:289)\n\tat org.apache.spark.sql.catalyst.analysis.Analyzer.checkAnalysis0(Analyzer.scala:499)\n\tat org.apache.spark.sql.catalyst.analysis.CheckAnalysis.$anonfun$checkAnalysis$1(CheckAnalysis.scala:274)\n\tat scala.runtime.java8.JFunction0$mcV$sp.apply(JFunction0$mcV$sp.scala:18)\n\tat com.databricks.spark.util.FrameProfiler$.$anonfun$record$1(FrameProfiler.scala:95)\n\tat com.databricks.spark.util.FrameProfilerExporter$.maybeExportFrameProfiler(FrameProfilerExporter.scala:153)\n\tat com.databricks.spark.util.FrameProfiler$.record(FrameProfiler.scala:86)\n\tat org.apache.spark.sql.catalyst.analysis.CheckAnalysis.checkAnalysis(CheckAnalysis.scala:261)\n\tat org.apache.spark.sql.catalyst.analysis.CheckAnalysis.checkAnalysis$(CheckAnalysis.scala:261)\n\tat org.apache.spark.sql.catalyst.analysis.Analyzer.checkAnalysis(Analyzer.scala:499)\n\tat org.apache.spark.sql.catalyst.analysis.resolver.HybridAnalyzer.$anonfun$resolveInFixedPoint$1(HybridAnalyzer.scala:390)\n\tat scala.runtime.java8.JFunction0$mcV$sp.apply(JFunction0$mcV$sp.scala:18)\n\tat org.apache.spark.sql.catalyst.QueryPlanningTracker$.withTracker(QueryPlanningTracker.scala:248)\n\tat org.apache.spark.sql.catalyst.analysis.resolver.HybridAnalyzer.resolveInFixedPoint(HybridAnalyzer.scala:390)\n\tat org.apache.spark.sql.catalyst.analysis.resolver.HybridAnalyzer.$anonfun$apply$1(HybridAnalyzer.scala:98)\n\tat org.apache.spark.sql.catalyst.analysis.resolver.HybridAnalyzer.withTrackedAnalyzerBridgeState(HybridAnalyzer.scala:135)\n\tat org.apache.spark.sql.catalyst.analysis.resolver.HybridAnalyzer.apply(HybridAnalyzer.scala:91)\n\tat org.apache.spark.sql.catalyst.analysis.Analyzer.$anonfun$executeAndCheck$2(Analyzer.scala:555)\n\tat org.apache.spark.sql.catalyst.plans.logical.AnalysisHelper$.markInAnalyzer(AnalysisHelper.scala:425)\n\tat org.apache.spark.sql.catalyst.analysis.Analyzer.$anonfun$executeAndCheck$1(Analyzer.scala:555)\n\tat com.databricks.sql.unity.SAMSnapshotHelper$.visitPlansDuringAnalysis(SAMSnapshotHelper.scala:41)\n\tat org.apache.spark.sql.catalyst.analysis.Analyzer.executeAndCheck(Analyzer.scala:548)\n\tat org.apache.spark.sql.execution.QueryExecution.$anonfun$lazyAnalyzed$3(QueryExecution.scala:327)\n\tat com.databricks.spark.util.FrameProfiler$.$anonfun$record$1(FrameProfiler.scala:95)\n\tat com.databricks.spark.util.FrameProfilerExporter$.maybeExportFrameProfiler(FrameProfilerExporter.scala:153)\n\tat com.databricks.spark.util.FrameProfiler$.record(FrameProfiler.scala:86)\n\tat org.apache.spark.sql.catalyst.QueryPlanningTracker.measurePhase(QueryPlanningTracker.scala:646)\n\tat org.apache.spark.sql.execution.QueryExecution.$anonfun$executePhase$7(QueryExecution.scala:810)\n\tat org.apache.spark.sql.execution.SQLExecution$.$anonfun$withExecutionPhase$1(SQLExecution.scala:155)\n\tat com.databricks.logging.AttributionContext$.$anonfun$withValue$1(AttributionContext.scala:291)\n\tat scala.util.DynamicVariable.withValue(DynamicVariable.scala:59)\n\tat com.databricks.logging.AttributionContext$.withValue(AttributionContext.scala:287)\n\tat com.databricks.util.TracingSpanUtils$.$anonfun$withTracing$4(TracingSpanUtils.scala:235)\n\tat com.databricks.util.TracingSpanUtils$.withTracing(TracingSpanUtils.scala:129)\n\tat com.databricks.util.TracingSpanUtils$.withTracing(TracingSpanUtils.scala:233)\n\tat com.databricks.tracing.TracingUtils$.withTracing(TracingUtils.scala:296)\n\tat com.databricks.spark.util.DatabricksTracingHelper.withSpan(DatabricksSparkTracingHelper.scala:61)\n\tat com.databricks.spark.util.DBRTracing$.withSpan(DBRTracing.scala:47)\n\tat org.apache.spark.sql.execution.SQLExecution$.withExecutionPhase(SQLExecution.scala:136)\n\tat org.apache.spark.sql.execution.QueryExecution.$anonfun$executePhase$6(QueryExecution.scala:810)\n\tat org.apache.spark.sql.execution.QueryExecution$.withInternalError(QueryExecution.scala:1449)\n\tat org.apache.spark.sql.execution.QueryExecution.$anonfun$executePhase$4(QueryExecution.scala:803)\n\tat com.databricks.util.LexicalThreadLocal$Handle.runWith(LexicalThreadLocal.scala:63)\n\tat org.apache.spark.sql.execution.QueryExecution.$anonfun$executePhase$3(QueryExecution.scala:800)\n\tat com.databricks.util.LexicalThreadLocal$Handle.runWith(LexicalThreadLocal.scala:63)\n\tat org.apache.spark.sql.execution.QueryExecution.$anonfun$executePhase$2(QueryExecution.scala:800)\n\tat org.apache.spark.sql.execution.QueryExecution.withQueryExecutionId(QueryExecution.scala:789)\n\tat org.apache.spark.sql.execution.QueryExecution.$anonfun$executePhase$1(QueryExecution.scala:799)\n\tat org.apache.spark.sql.SparkSession.withActive(SparkSession.scala:860)\n\tat org.apache.spark.sql.execution.QueryExecution.executePhase(QueryExecution.scala:798)\n\tat org.apache.spark.sql.execution.QueryExecution.$anonfun$lazyAnalyzed$2(QueryExecution.scala:309)\n\tat com.databricks.sql.util.MemoryTrackerHelper.withMemoryTracking(MemoryTrackerHelper.scala:111)\n\tat org.apache.spark.sql.execution.QueryExecution.$anonfun$lazyAnalyzed$1(QueryExecution.scala:308)\n\tat scala.util.Try$.apply(Try.scala:217)\n\tat org.apache.spark.util.Utils$.doTryWithCallerStacktrace(Utils.scala:1686)\n\tat org.apache.spark.util.LazyTry.tryT$lzycompute(LazyTry.scala:60)\n\tat org.apache.spark.util.LazyTry.tryT(LazyTry.scala:59)\n\tat org.apache.spark.util.LazyTry.get(LazyTry.scala:75)\n\tat org.apache.spark.sql.execution.QueryExecution.analyzed(QueryExecution.scala:369)\n\tat org.apache.spark.sql.execution.QueryExecution.assertAnalyzed(QueryExecution.scala:288)\n\tat org.apache.spark.sql.classic.Dataset$.$anonfun$ofRows$3(Dataset.scala:154)\n\tat org.apache.spark.sql.SparkSession.withActive(SparkSession.scala:860)\n\tat org.apache.spark.sql.classic.SparkSession.$anonfun$withActiveAndFrameProfiler$1(SparkSession.scala:1071)\n\tat com.databricks.spark.util.FrameProfiler$.$anonfun$record$1(FrameProfiler.scala:95)\n\tat com.databricks.spark.util.FrameProfilerExporter$.maybeExportFrameProfiler(FrameProfilerExporter.scala:153)\n\tat com.databricks.spark.util.FrameProfiler$.record(FrameProfiler.scala:86)\n\tat org.apache.spark.sql.classic.SparkSession.withActiveAndFrameProfiler(SparkSession.scala:1071)\n\tat org.apache.spark.sql.classic.Dataset$.ofRows(Dataset.scala:146)\n\tat org.apache.spark.sql.classic.SparkSession.$anonfun$sql$4(SparkSession.scala:850)\n\tat org.apache.spark.sql.SparkSession.withActive(SparkSession.scala:860)\n\tat org.apache.spark.sql.classic.SparkSession.sql(SparkSession.scala:813)\n\tat org.apache.spark.sql.connect.planner.SparkConnectPlanner.executeSQL(SparkConnectPlanner.scala:3500)\n\tat org.apache.spark.sql.connect.planner.SparkConnectPlanner.handleSqlCommand(SparkConnectPlanner.scala:3330)\n\tat org.apache.spark.sql.connect.planner.SparkConnectPlanner.process(SparkConnectPlanner.scala:3207)\n\tat org.apache.spark.sql.connect.execution.ExecuteThreadRunner.handleCommand(ExecuteThreadRunner.scala:385)\n\tat org.apache.spark.util.Utils$.getTryWithCallerStacktrace(Utils.scala:1747)\n\tat org.apache.spark.util.LazyTry.get(LazyTry.scala:75)\n\tat org.apache.spark.sql.execution.QueryExecution.executedPlan(QueryExecution.scala:734)\n\tat com.databricks.spark.sqlgateway.history.SqlGatewayHistorySparkListener.$anonfun$onSqlStart$12(SqlGatewayHistorySparkListener.scala:719)\n\tat scala.Option.map(Option.scala:242)\n\tat com.databricks.spark.sqlgateway.history.SqlGatewayHistorySparkListener.$anonfun$onSqlStart$11(SqlGatewayHistorySparkListener.scala:719)\n\tat scala.Option.foreach(Option.scala:437)\n\tat com.databricks.spark.sqlgateway.history.SqlGatewayHistorySparkListener.$anonfun$onSqlStart$1(SqlGatewayHistorySparkListener.scala:716)\n\tat scala.runtime.java8.JFunction0$mcV$sp.apply(JFunction0$mcV$sp.scala:18)\n\tat com.databricks.spark.util.FrameProfiler$.$anonfun$record$1(FrameProfiler.scala:95)\n\tat com.databricks.spark.util.FrameProfilerExporter$.maybeExportFrameProfiler(FrameProfilerExporter.scala:153)\n\tat com.databricks.spark.util.FrameProfiler$.record(FrameProfiler.scala:86)\n\tat com.databricks.spark.sqlgateway.history.SqlGatewayHistorySparkListener.com$databricks$spark$sqlgateway$history$SqlGatewayHistorySparkListener$$onSqlStart(SqlGatewayHistorySparkListener.scala:661)\n\tat com.databricks.spark.sqlgateway.history.SqlGatewayHistorySparkListener$$anonfun$onOtherEventDefault$1.applyOrElse(SqlGatewayHistorySparkListener.scala:236)\n\tat com.databricks.spark.sqlgateway.history.SqlGatewayHistorySparkListener$$anonfun$onOtherEventDefault$1.applyOrElse(SqlGatewayHistorySparkListener.scala:224)\n\tat scala.runtime.AbstractPartialFunction.apply(AbstractPartialFunction.scala:35)\n\tat com.databricks.spark.sqlgateway.history.utils.RuntimeVersionBridge$$anonfun$onOtherEvent$1.applyOrElse(RuntimeVersionBridge.scala:209)\n\tat com.databricks.spark.sqlgateway.history.utils.RuntimeVersionBridge$$anonfun$onOtherEvent$1.applyOrElse(RuntimeVersionBridge.scala:209)\n\tat com.databricks.spark.sqlgateway.history.SqlGatewayHistorySparkListener.$anonfun$onOtherEvent$1(SqlGatewayHistorySparkListener.scala:202)\n\tat scala.runtime.java8.JFunction0$mcV$sp.apply(JFunction0$mcV$sp.scala:18)\n\tat com.databricks.spark.util.FrameProfiler$.$anonfun$record$1(FrameProfiler.scala:95)\n\tat com.databricks.spark.util.FrameProfilerExporter$.maybeExportFrameProfiler(FrameProfilerExporter.scala:153)\n\tat com.databricks.spark.util.FrameProfiler$.record(FrameProfiler.scala:86)\n\tat com.databricks.spark.sqlgateway.history.SqlGatewayHistorySparkListener.onOtherEvent(SqlGatewayHistorySparkListener.scala:202)\n\tat org.apache.spark.scheduler.SparkListenerBus.doPostEvent(SparkListenerBus.scala:108)\n\tat org.apache.spark.scheduler.SparkListenerBus.doPostEvent$(SparkListenerBus.scala:28)\n\tat org.apache.spark.scheduler.AsyncEventQueue.doPostEvent(AsyncEventQueue.scala:46)\n\tat org.apache.spark.scheduler.AsyncEventQueue.doPostEvent(AsyncEventQueue.scala:46)\n\tat org.apache.spark.util.ListenerBus.postToAll(ListenerBus.scala:208)\n\tat org.apache.spark.util.ListenerBus.postToAll$(ListenerBus.scala:172)\n\tat org.apache.spark.scheduler.AsyncEventQueue.super$postToAll(AsyncEventQueue.scala:130)\n\tat org.apache.spark.scheduler.AsyncEventQueue.$anonfun$dispatch$1(AsyncEventQueue.scala:130)\n\tat scala.runtime.java8.JFunction0$mcJ$sp.apply(JFunction0$mcJ$sp.scala:17)\n\tat scala.util.DynamicVariable.withValue(DynamicVariable.scala:59)\n\tat org.apache.spark.scheduler.AsyncEventQueue.org$apache$spark$scheduler$AsyncEventQueue$$dispatch(AsyncEventQueue.scala:116)\n\tat org.apache.spark.scheduler.AsyncEventQueue$$anon$2.$anonfun$run$1(AsyncEventQueue.scala:112)\n\tat org.apache.spark.util.Utils$.tryOrStopSparkContext(Utils.scala:1574)\n\tat org.apache.spark.scheduler.AsyncEventQueue$$anon$2.run(AsyncEventQueue.scala:112)"
       },
       "metadata": {
        "errorSummary": "[UNRESOLVED_COLUMN.WITH_SUGGESTION] A column, variable, or function parameter with name `status` cannot be resolved. Did you mean one of the following? [`nights`, `hotel_id`, `hotel_city`, `hotel_name`, `customer_id`]. SQLSTATE: 42703"
       },
       "removedWidgets": [],
       "sqlProps": {
        "breakingChangeInfo": null,
        "errorClass": "UNRESOLVED_COLUMN.WITH_SUGGESTION",
        "pysparkCallSite": "",
        "pysparkFragment": "",
        "pysparkSummary": null,
        "sqlState": "42703",
        "stackTrace": "org.apache.spark.sql.catalyst.ExtendedAnalysisException\n\tat org.apache.spark.sql.errors.QueryCompilationErrors$.unresolvedAttributeError(QueryCompilationErrors.scala:593)\n\tat org.apache.spark.sql.catalyst.analysis.CheckAnalysis.org$apache$spark$sql$catalyst$analysis$CheckAnalysis$$failUnresolvedAttribute(CheckAnalysis.scala:190)\n\tat org.apache.spark.sql.catalyst.analysis.CheckAnalysis.$anonfun$checkAnalysis0$10(CheckAnalysis.scala:491)\n\tat org.apache.spark.sql.catalyst.analysis.CheckAnalysis.$anonfun$checkAnalysis0$10$adapted(CheckAnalysis.scala:476)\n\tat org.apache.spark.sql.catalyst.trees.TreeNode.foreachUp(TreeNode.scala:311)\n\tat org.apache.spark.sql.catalyst.trees.TreeNode.$anonfun$foreachUp$1(TreeNode.scala:310)\n\tat org.apache.spark.sql.catalyst.trees.TreeNode.$anonfun$foreachUp$1$adapted(TreeNode.scala:310)\n\tat scala.collection.immutable.Vector.foreach(Vector.scala:2125)\n\tat org.apache.spark.sql.catalyst.trees.TreeNode.foreachUp(TreeNode.scala:310)\n\tat org.apache.spark.sql.catalyst.trees.TreeNode.$anonfun$foreachUp$1(TreeNode.scala:310)\n\tat org.apache.spark.sql.catalyst.trees.TreeNode.$anonfun$foreachUp$1$adapted(TreeNode.scala:310)\n\tat scala.collection.immutable.List.foreach(List.scala:334)\n\tat org.apache.spark.sql.catalyst.trees.TreeNode.foreachUp(TreeNode.scala:310)\n\tat org.apache.spark.sql.catalyst.trees.TreeNode.$anonfun$foreachUp$1(TreeNode.scala:310)\n\tat org.apache.spark.sql.catalyst.trees.TreeNode.$anonfun$foreachUp$1$adapted(TreeNode.scala:310)\n\tat scala.collection.immutable.List.foreach(List.scala:334)\n\tat org.apache.spark.sql.catalyst.trees.TreeNode.foreachUp(TreeNode.scala:310)\n\tat org.apache.spark.sql.catalyst.trees.TreeNode.$anonfun$foreachUp$1(TreeNode.scala:310)\n\tat org.apache.spark.sql.catalyst.trees.TreeNode.$anonfun$foreachUp$1$adapted(TreeNode.scala:310)\n\tat scala.collection.immutable.Vector.foreach(Vector.scala:2125)\n\tat org.apache.spark.sql.catalyst.trees.TreeNode.foreachUp(TreeNode.scala:310)\n\tat org.apache.spark.sql.catalyst.analysis.CheckAnalysis.$anonfun$checkAnalysis0$9(CheckAnalysis.scala:476)\n\tat org.apache.spark.sql.catalyst.analysis.CheckAnalysis.$anonfun$checkAnalysis0$9$adapted(CheckAnalysis.scala:476)\n\tat scala.collection.immutable.List.foreach(List.scala:334)\n\tat org.apache.spark.sql.catalyst.analysis.CheckAnalysis.$anonfun$checkAnalysis0$2(CheckAnalysis.scala:476)\n\tat org.apache.spark.sql.catalyst.analysis.CheckAnalysis.$anonfun$checkAnalysis0$2$adapted(CheckAnalysis.scala:318)\n\tat org.apache.spark.sql.catalyst.trees.TreeNode.foreachUp(TreeNode.scala:311)\n\tat org.apache.spark.sql.catalyst.trees.TreeNode.$anonfun$foreachUp$1(TreeNode.scala:310)\n\tat org.apache.spark.sql.catalyst.trees.TreeNode.$anonfun$foreachUp$1$adapted(TreeNode.scala:310)\n\tat scala.collection.immutable.Vector.foreach(Vector.scala:2125)\n\tat org.apache.spark.sql.catalyst.trees.TreeNode.foreachUp(TreeNode.scala:310)\n\tat org.apache.spark.sql.catalyst.analysis.CheckAnalysis.checkAnalysis0(CheckAnalysis.scala:318)\n\tat org.apache.spark.sql.catalyst.analysis.CheckAnalysis.checkAnalysis0$(CheckAnalysis.scala:289)\n\tat org.apache.spark.sql.catalyst.analysis.Analyzer.checkAnalysis0(Analyzer.scala:499)\n\tat org.apache.spark.sql.catalyst.analysis.CheckAnalysis.$anonfun$checkAnalysis$1(CheckAnalysis.scala:274)\n\tat scala.runtime.java8.JFunction0$mcV$sp.apply(JFunction0$mcV$sp.scala:18)\n\tat com.databricks.spark.util.FrameProfiler$.$anonfun$record$1(FrameProfiler.scala:95)\n\tat com.databricks.spark.util.FrameProfilerExporter$.maybeExportFrameProfiler(FrameProfilerExporter.scala:153)\n\tat com.databricks.spark.util.FrameProfiler$.record(FrameProfiler.scala:86)\n\tat org.apache.spark.sql.catalyst.analysis.CheckAnalysis.checkAnalysis(CheckAnalysis.scala:261)\n\tat org.apache.spark.sql.catalyst.analysis.CheckAnalysis.checkAnalysis$(CheckAnalysis.scala:261)\n\tat org.apache.spark.sql.catalyst.analysis.Analyzer.checkAnalysis(Analyzer.scala:499)\n\tat org.apache.spark.sql.catalyst.analysis.resolver.HybridAnalyzer.$anonfun$resolveInFixedPoint$1(HybridAnalyzer.scala:390)\n\tat scala.runtime.java8.JFunction0$mcV$sp.apply(JFunction0$mcV$sp.scala:18)\n\tat org.apache.spark.sql.catalyst.QueryPlanningTracker$.withTracker(QueryPlanningTracker.scala:248)\n\tat org.apache.spark.sql.catalyst.analysis.resolver.HybridAnalyzer.resolveInFixedPoint(HybridAnalyzer.scala:390)\n\tat org.apache.spark.sql.catalyst.analysis.resolver.HybridAnalyzer.$anonfun$apply$1(HybridAnalyzer.scala:98)\n\tat org.apache.spark.sql.catalyst.analysis.resolver.HybridAnalyzer.withTrackedAnalyzerBridgeState(HybridAnalyzer.scala:135)\n\tat org.apache.spark.sql.catalyst.analysis.resolver.HybridAnalyzer.apply(HybridAnalyzer.scala:91)\n\tat org.apache.spark.sql.catalyst.analysis.Analyzer.$anonfun$executeAndCheck$2(Analyzer.scala:555)\n\tat org.apache.spark.sql.catalyst.plans.logical.AnalysisHelper$.markInAnalyzer(AnalysisHelper.scala:425)\n\tat org.apache.spark.sql.catalyst.analysis.Analyzer.$anonfun$executeAndCheck$1(Analyzer.scala:555)\n\tat com.databricks.sql.unity.SAMSnapshotHelper$.visitPlansDuringAnalysis(SAMSnapshotHelper.scala:41)\n\tat org.apache.spark.sql.catalyst.analysis.Analyzer.executeAndCheck(Analyzer.scala:548)\n\tat org.apache.spark.sql.execution.QueryExecution.$anonfun$lazyAnalyzed$3(QueryExecution.scala:327)\n\tat com.databricks.spark.util.FrameProfiler$.$anonfun$record$1(FrameProfiler.scala:95)\n\tat com.databricks.spark.util.FrameProfilerExporter$.maybeExportFrameProfiler(FrameProfilerExporter.scala:153)\n\tat com.databricks.spark.util.FrameProfiler$.record(FrameProfiler.scala:86)\n\tat org.apache.spark.sql.catalyst.QueryPlanningTracker.measurePhase(QueryPlanningTracker.scala:646)\n\tat org.apache.spark.sql.execution.QueryExecution.$anonfun$executePhase$7(QueryExecution.scala:810)\n\tat org.apache.spark.sql.execution.SQLExecution$.$anonfun$withExecutionPhase$1(SQLExecution.scala:155)\n\tat com.databricks.logging.AttributionContext$.$anonfun$withValue$1(AttributionContext.scala:291)\n\tat scala.util.DynamicVariable.withValue(DynamicVariable.scala:59)\n\tat com.databricks.logging.AttributionContext$.withValue(AttributionContext.scala:287)\n\tat com.databricks.util.TracingSpanUtils$.$anonfun$withTracing$4(TracingSpanUtils.scala:235)\n\tat com.databricks.util.TracingSpanUtils$.withTracing(TracingSpanUtils.scala:129)\n\tat com.databricks.util.TracingSpanUtils$.withTracing(TracingSpanUtils.scala:233)\n\tat com.databricks.tracing.TracingUtils$.withTracing(TracingUtils.scala:296)\n\tat com.databricks.spark.util.DatabricksTracingHelper.withSpan(DatabricksSparkTracingHelper.scala:61)\n\tat com.databricks.spark.util.DBRTracing$.withSpan(DBRTracing.scala:47)\n\tat org.apache.spark.sql.execution.SQLExecution$.withExecutionPhase(SQLExecution.scala:136)\n\tat org.apache.spark.sql.execution.QueryExecution.$anonfun$executePhase$6(QueryExecution.scala:810)\n\tat org.apache.spark.sql.execution.QueryExecution$.withInternalError(QueryExecution.scala:1449)\n\tat org.apache.spark.sql.execution.QueryExecution.$anonfun$executePhase$4(QueryExecution.scala:803)\n\tat com.databricks.util.LexicalThreadLocal$Handle.runWith(LexicalThreadLocal.scala:63)\n\tat org.apache.spark.sql.execution.QueryExecution.$anonfun$executePhase$3(QueryExecution.scala:800)\n\tat com.databricks.util.LexicalThreadLocal$Handle.runWith(LexicalThreadLocal.scala:63)\n\tat org.apache.spark.sql.execution.QueryExecution.$anonfun$executePhase$2(QueryExecution.scala:800)\n\tat org.apache.spark.sql.execution.QueryExecution.withQueryExecutionId(QueryExecution.scala:789)\n\tat org.apache.spark.sql.execution.QueryExecution.$anonfun$executePhase$1(QueryExecution.scala:799)\n\tat org.apache.spark.sql.SparkSession.withActive(SparkSession.scala:860)\n\tat org.apache.spark.sql.execution.QueryExecution.executePhase(QueryExecution.scala:798)\n\tat org.apache.spark.sql.execution.QueryExecution.$anonfun$lazyAnalyzed$2(QueryExecution.scala:309)\n\tat com.databricks.sql.util.MemoryTrackerHelper.withMemoryTracking(MemoryTrackerHelper.scala:111)\n\tat org.apache.spark.sql.execution.QueryExecution.$anonfun$lazyAnalyzed$1(QueryExecution.scala:308)\n\tat scala.util.Try$.apply(Try.scala:217)\n\tat org.apache.spark.util.Utils$.doTryWithCallerStacktrace(Utils.scala:1686)\n\tat org.apache.spark.util.LazyTry.tryT$lzycompute(LazyTry.scala:60)\n\tat org.apache.spark.util.LazyTry.tryT(LazyTry.scala:59)\n\tat org.apache.spark.util.LazyTry.get(LazyTry.scala:75)\n\tat org.apache.spark.sql.execution.QueryExecution.analyzed(QueryExecution.scala:369)\n\tat org.apache.spark.sql.execution.QueryExecution.assertAnalyzed(QueryExecution.scala:288)\n\tat org.apache.spark.sql.classic.Dataset$.$anonfun$ofRows$3(Dataset.scala:154)\n\tat org.apache.spark.sql.SparkSession.withActive(SparkSession.scala:860)\n\tat org.apache.spark.sql.classic.SparkSession.$anonfun$withActiveAndFrameProfiler$1(SparkSession.scala:1071)\n\tat com.databricks.spark.util.FrameProfiler$.$anonfun$record$1(FrameProfiler.scala:95)\n\tat com.databricks.spark.util.FrameProfilerExporter$.maybeExportFrameProfiler(FrameProfilerExporter.scala:153)\n\tat com.databricks.spark.util.FrameProfiler$.record(FrameProfiler.scala:86)\n\tat org.apache.spark.sql.classic.SparkSession.withActiveAndFrameProfiler(SparkSession.scala:1071)\n\tat org.apache.spark.sql.classic.Dataset$.ofRows(Dataset.scala:146)\n\tat org.apache.spark.sql.classic.SparkSession.$anonfun$sql$4(SparkSession.scala:850)\n\tat org.apache.spark.sql.SparkSession.withActive(SparkSession.scala:860)\n\tat org.apache.spark.sql.classic.SparkSession.sql(SparkSession.scala:813)\n\tat org.apache.spark.sql.connect.planner.SparkConnectPlanner.executeSQL(SparkConnectPlanner.scala:3500)\n\tat org.apache.spark.sql.connect.planner.SparkConnectPlanner.handleSqlCommand(SparkConnectPlanner.scala:3330)\n\tat org.apache.spark.sql.connect.planner.SparkConnectPlanner.process(SparkConnectPlanner.scala:3207)\n\tat org.apache.spark.sql.connect.execution.ExecuteThreadRunner.handleCommand(ExecuteThreadRunner.scala:385)\n\tat org.apache.spark.util.Utils$.getTryWithCallerStacktrace(Utils.scala:1747)\n\tat org.apache.spark.util.LazyTry.get(LazyTry.scala:75)\n\tat org.apache.spark.sql.execution.QueryExecution.executedPlan(QueryExecution.scala:734)\n\tat com.databricks.spark.sqlgateway.history.SqlGatewayHistorySparkListener.$anonfun$onSqlStart$12(SqlGatewayHistorySparkListener.scala:719)\n\tat scala.Option.map(Option.scala:242)\n\tat com.databricks.spark.sqlgateway.history.SqlGatewayHistorySparkListener.$anonfun$onSqlStart$11(SqlGatewayHistorySparkListener.scala:719)\n\tat scala.Option.foreach(Option.scala:437)\n\tat com.databricks.spark.sqlgateway.history.SqlGatewayHistorySparkListener.$anonfun$onSqlStart$1(SqlGatewayHistorySparkListener.scala:716)\n\tat scala.runtime.java8.JFunction0$mcV$sp.apply(JFunction0$mcV$sp.scala:18)\n\tat com.databricks.spark.util.FrameProfiler$.$anonfun$record$1(FrameProfiler.scala:95)\n\tat com.databricks.spark.util.FrameProfilerExporter$.maybeExportFrameProfiler(FrameProfilerExporter.scala:153)\n\tat com.databricks.spark.util.FrameProfiler$.record(FrameProfiler.scala:86)\n\tat com.databricks.spark.sqlgateway.history.SqlGatewayHistorySparkListener.com$databricks$spark$sqlgateway$history$SqlGatewayHistorySparkListener$$onSqlStart(SqlGatewayHistorySparkListener.scala:661)\n\tat com.databricks.spark.sqlgateway.history.SqlGatewayHistorySparkListener$$anonfun$onOtherEventDefault$1.applyOrElse(SqlGatewayHistorySparkListener.scala:236)\n\tat com.databricks.spark.sqlgateway.history.SqlGatewayHistorySparkListener$$anonfun$onOtherEventDefault$1.applyOrElse(SqlGatewayHistorySparkListener.scala:224)\n\tat scala.runtime.AbstractPartialFunction.apply(AbstractPartialFunction.scala:35)\n\tat com.databricks.spark.sqlgateway.history.utils.RuntimeVersionBridge$$anonfun$onOtherEvent$1.applyOrElse(RuntimeVersionBridge.scala:209)\n\tat com.databricks.spark.sqlgateway.history.utils.RuntimeVersionBridge$$anonfun$onOtherEvent$1.applyOrElse(RuntimeVersionBridge.scala:209)\n\tat com.databricks.spark.sqlgateway.history.SqlGatewayHistorySparkListener.$anonfun$onOtherEvent$1(SqlGatewayHistorySparkListener.scala:202)\n\tat scala.runtime.java8.JFunction0$mcV$sp.apply(JFunction0$mcV$sp.scala:18)\n\tat com.databricks.spark.util.FrameProfiler$.$anonfun$record$1(FrameProfiler.scala:95)\n\tat com.databricks.spark.util.FrameProfilerExporter$.maybeExportFrameProfiler(FrameProfilerExporter.scala:153)\n\tat com.databricks.spark.util.FrameProfiler$.record(FrameProfiler.scala:86)\n\tat com.databricks.spark.sqlgateway.history.SqlGatewayHistorySparkListener.onOtherEvent(SqlGatewayHistorySparkListener.scala:202)\n\tat org.apache.spark.scheduler.SparkListenerBus.doPostEvent(SparkListenerBus.scala:108)\n\tat org.apache.spark.scheduler.SparkListenerBus.doPostEvent$(SparkListenerBus.scala:28)\n\tat org.apache.spark.scheduler.AsyncEventQueue.doPostEvent(AsyncEventQueue.scala:46)\n\tat org.apache.spark.scheduler.AsyncEventQueue.doPostEvent(AsyncEventQueue.scala:46)\n\tat org.apache.spark.util.ListenerBus.postToAll(ListenerBus.scala:208)\n\tat org.apache.spark.util.ListenerBus.postToAll$(ListenerBus.scala:172)\n\tat org.apache.spark.scheduler.AsyncEventQueue.super$postToAll(AsyncEventQueue.scala:130)\n\tat org.apache.spark.scheduler.AsyncEventQueue.$anonfun$dispatch$1(AsyncEventQueue.scala:130)\n\tat scala.runtime.java8.JFunction0$mcJ$sp.apply(JFunction0$mcJ$sp.scala:17)\n\tat scala.util.DynamicVariable.withValue(DynamicVariable.scala:59)\n\tat org.apache.spark.scheduler.AsyncEventQueue.org$apache$spark$scheduler$AsyncEventQueue$$dispatch(AsyncEventQueue.scala:116)\n\tat org.apache.spark.scheduler.AsyncEventQueue$$anon$2.$anonfun$run$1(AsyncEventQueue.scala:112)\n\tat org.apache.spark.util.Utils$.tryOrStopSparkContext(Utils.scala:1574)\n\tat org.apache.spark.scheduler.AsyncEventQueue$$anon$2.run(AsyncEventQueue.scala:112)",
        "startIndex": 86,
        "stopIndex": 91
       },
       "stackFrames": [
        "\u001B[0;31m---------------------------------------------------------------------------\u001B[0m",
        "\u001B[0;31mAnalysisException\u001B[0m                         Traceback (most recent call last)",
        "File \u001B[0;32m<command-5283314428433290>, line 1\u001B[0m\n\u001B[0;32m----> 1\u001B[0m get_ipython()\u001B[38;5;241m.\u001B[39mrun_cell_magic(\u001B[38;5;124m'\u001B[39m\u001B[38;5;124msql\u001B[39m\u001B[38;5;124m'\u001B[39m, \u001B[38;5;124m'\u001B[39m\u001B[38;5;124m'\u001B[39m, \u001B[38;5;124m\"\u001B[39m\u001B[38;5;124m-- Hotels with Highest Cancellation Rates\u001B[39m\u001B[38;5;130;01m\\n\u001B[39;00m\u001B[38;5;124mSELECT \u001B[39m\u001B[38;5;130;01m\\n\u001B[39;00m\u001B[38;5;124m    hotel_name,\u001B[39m\u001B[38;5;130;01m\\n\u001B[39;00m\u001B[38;5;124m    COUNT(CASE WHEN status = \u001B[39m\u001B[38;5;124m'\u001B[39m\u001B[38;5;124mCancelled\u001B[39m\u001B[38;5;124m'\u001B[39m\u001B[38;5;124m THEN 1 END) AS cancelled_count,\u001B[39m\u001B[38;5;130;01m\\n\u001B[39;00m\u001B[38;5;124m    COUNT(*) AS total_bookings,\u001B[39m\u001B[38;5;130;01m\\n\u001B[39;00m\u001B[38;5;124m    (COUNT(CASE WHEN status = \u001B[39m\u001B[38;5;124m'\u001B[39m\u001B[38;5;124mCancelled\u001B[39m\u001B[38;5;124m'\u001B[39m\u001B[38;5;124m THEN 1 END) * 100.0 / COUNT(*)) AS cancellation_rate\u001B[39m\u001B[38;5;130;01m\\n\u001B[39;00m\u001B[38;5;124mFROM dlt_demo.default.bookings_dataset\u001B[39m\u001B[38;5;130;01m\\n\u001B[39;00m\u001B[38;5;124mGROUP BY hotel_name\u001B[39m\u001B[38;5;130;01m\\n\u001B[39;00m\u001B[38;5;124mORDER BY cancellation_rate DESC;\u001B[39m\u001B[38;5;130;01m\\n\u001B[39;00m\u001B[38;5;124m\"\u001B[39m)\n",
        "File \u001B[0;32m/databricks/python/lib/python3.11/site-packages/IPython/core/interactiveshell.py:2541\u001B[0m, in \u001B[0;36mInteractiveShell.run_cell_magic\u001B[0;34m(self, magic_name, line, cell)\u001B[0m\n\u001B[1;32m   2539\u001B[0m \u001B[38;5;28;01mwith\u001B[39;00m \u001B[38;5;28mself\u001B[39m\u001B[38;5;241m.\u001B[39mbuiltin_trap:\n\u001B[1;32m   2540\u001B[0m     args \u001B[38;5;241m=\u001B[39m (magic_arg_s, cell)\n\u001B[0;32m-> 2541\u001B[0m     result \u001B[38;5;241m=\u001B[39m fn(\u001B[38;5;241m*\u001B[39margs, \u001B[38;5;241m*\u001B[39m\u001B[38;5;241m*\u001B[39mkwargs)\n\u001B[1;32m   2543\u001B[0m \u001B[38;5;66;03m# The code below prevents the output from being displayed\u001B[39;00m\n\u001B[1;32m   2544\u001B[0m \u001B[38;5;66;03m# when using magics with decorator @output_can_be_silenced\u001B[39;00m\n\u001B[1;32m   2545\u001B[0m \u001B[38;5;66;03m# when the last Python token in the expression is a ';'.\u001B[39;00m\n\u001B[1;32m   2546\u001B[0m \u001B[38;5;28;01mif\u001B[39;00m \u001B[38;5;28mgetattr\u001B[39m(fn, magic\u001B[38;5;241m.\u001B[39mMAGIC_OUTPUT_CAN_BE_SILENCED, \u001B[38;5;28;01mFalse\u001B[39;00m):\n",
        "File \u001B[0;32m/databricks/python_shell/lib/dbruntime/sql_magic/sql_magic.py:147\u001B[0m, in \u001B[0;36mSqlMagic.sql\u001B[0;34m(self, line, cell)\u001B[0m\n\u001B[1;32m    143\u001B[0m     \u001B[38;5;28;01mraise\u001B[39;00m \u001B[38;5;167;01mException\u001B[39;00m(\n\u001B[1;32m    144\u001B[0m         \u001B[38;5;124m\"\u001B[39m\u001B[38;5;124mCannot run \u001B[39m\u001B[38;5;132;01m%s\u001B[39;00m\u001B[38;5;124mql command because spark connect initialization failed and no stacktrace was available.\u001B[39m\u001B[38;5;124m\"\u001B[39m\n\u001B[1;32m    145\u001B[0m     )\n\u001B[1;32m    146\u001B[0m \u001B[38;5;28;01mif\u001B[39;00m \u001B[38;5;28mself\u001B[39m\u001B[38;5;241m.\u001B[39muse_py4j:\n\u001B[0;32m--> 147\u001B[0m     \u001B[38;5;28;01mreturn\u001B[39;00m \u001B[38;5;28mself\u001B[39m\u001B[38;5;241m.\u001B[39mexecute_via_py4j(cell)\n\u001B[1;32m    149\u001B[0m \u001B[38;5;28;01mreturn\u001B[39;00m \u001B[38;5;28mself\u001B[39m\u001B[38;5;241m.\u001B[39mexecute_via_sql_comm_handler(cell)\n",
        "File \u001B[0;32m/databricks/python_shell/lib/dbruntime/sql_magic/sql_magic.py:231\u001B[0m, in \u001B[0;36mSqlMagic.execute_via_py4j\u001B[0;34m(self, cell)\u001B[0m\n\u001B[1;32m    228\u001B[0m \u001B[38;5;28;01mexcept\u001B[39;00m \u001B[38;5;167;01mBaseException\u001B[39;00m \u001B[38;5;28;01mas\u001B[39;00m e:\n\u001B[1;32m    229\u001B[0m     \u001B[38;5;28mself\u001B[39m\u001B[38;5;241m.\u001B[39mdriver_activity_logger\u001B[38;5;241m.\u001B[39mlogExecuteCommandEvent(\u001B[38;5;124m\"\u001B[39m\u001B[38;5;124mSQL_MAGIC_PY4J_FAILED\u001B[39m\u001B[38;5;124m\"\u001B[39m,\n\u001B[1;32m    230\u001B[0m                                                        json\u001B[38;5;241m.\u001B[39mdumps(get_debug_info(e)))\n\u001B[0;32m--> 231\u001B[0m     \u001B[38;5;28;01mraise\u001B[39;00m e\n\u001B[1;32m    232\u001B[0m \u001B[38;5;28mself\u001B[39m\u001B[38;5;241m.\u001B[39mdriver_activity_logger\u001B[38;5;241m.\u001B[39mlogExecuteCommandEvent(\u001B[38;5;124m\"\u001B[39m\u001B[38;5;124mSQL_MAGIC_PY4J_SUCCEEDED\u001B[39m\u001B[38;5;124m\"\u001B[39m)\n\u001B[1;32m    233\u001B[0m \u001B[38;5;28;01mreturn\u001B[39;00m result\n",
        "File \u001B[0;32m/databricks/python_shell/lib/dbruntime/sql_magic/sql_magic.py:227\u001B[0m, in \u001B[0;36mSqlMagic.execute_via_py4j\u001B[0;34m(self, cell)\u001B[0m\n\u001B[1;32m    225\u001B[0m         \u001B[38;5;28mprint\u001B[39m(\u001B[38;5;124mf\u001B[39m\u001B[38;5;124m\"\u001B[39m\u001B[38;5;124mExecuting subquery: \u001B[39m\u001B[38;5;132;01m{\u001B[39;00mquery_text\u001B[38;5;132;01m}\u001B[39;00m\u001B[38;5;124m.\u001B[39m\u001B[38;5;124m\"\u001B[39m, file\u001B[38;5;241m=\u001B[39msys\u001B[38;5;241m.\u001B[39m__stdout__)  \u001B[38;5;66;03m# type: ignore\u001B[39;00m\n\u001B[1;32m    226\u001B[0m         sql_directive \u001B[38;5;241m=\u001B[39m \u001B[38;5;28mself\u001B[39m\u001B[38;5;241m.\u001B[39mentry_point\u001B[38;5;241m.\u001B[39mgetSqlDirective(query_text)\n\u001B[0;32m--> 227\u001B[0m         result \u001B[38;5;241m=\u001B[39m \u001B[38;5;28mself\u001B[39m\u001B[38;5;241m.\u001B[39mhandle_sql_directive(sql_directive, i \u001B[38;5;241m==\u001B[39m number_of_sub_queries \u001B[38;5;241m-\u001B[39m \u001B[38;5;241m1\u001B[39m)\n\u001B[1;32m    228\u001B[0m \u001B[38;5;28;01mexcept\u001B[39;00m \u001B[38;5;167;01mBaseException\u001B[39;00m \u001B[38;5;28;01mas\u001B[39;00m e:\n\u001B[1;32m    229\u001B[0m     \u001B[38;5;28mself\u001B[39m\u001B[38;5;241m.\u001B[39mdriver_activity_logger\u001B[38;5;241m.\u001B[39mlogExecuteCommandEvent(\u001B[38;5;124m\"\u001B[39m\u001B[38;5;124mSQL_MAGIC_PY4J_FAILED\u001B[39m\u001B[38;5;124m\"\u001B[39m,\n\u001B[1;32m    230\u001B[0m                                                        json\u001B[38;5;241m.\u001B[39mdumps(get_debug_info(e)))\n",
        "File \u001B[0;32m/databricks/python_shell/lib/dbruntime/sql_magic/sql_magic.py:249\u001B[0m, in \u001B[0;36mSqlMagic.handle_sql_directive\u001B[0;34m(self, sql_directive, is_last_query)\u001B[0m\n\u001B[1;32m    247\u001B[0m     df \u001B[38;5;241m=\u001B[39m \u001B[38;5;28mself\u001B[39m\u001B[38;5;241m.\u001B[39mget_query_request_result(\u001B[38;5;124mf\u001B[39m\u001B[38;5;124m\"\u001B[39m\u001B[38;5;124mSELECT * FROM \u001B[39m\u001B[38;5;132;01m{\u001B[39;00mtable_name\u001B[38;5;132;01m}\u001B[39;00m\u001B[38;5;124m\"\u001B[39m)\n\u001B[1;32m    248\u001B[0m \u001B[38;5;28;01melif\u001B[39;00m directive_name \u001B[38;5;241m==\u001B[39m \u001B[38;5;124m\"\u001B[39m\u001B[38;5;124mNoDirective\u001B[39m\u001B[38;5;124m\"\u001B[39m:\n\u001B[0;32m--> 249\u001B[0m     df \u001B[38;5;241m=\u001B[39m \u001B[38;5;28mself\u001B[39m\u001B[38;5;241m.\u001B[39mget_query_request_result(sql_directive\u001B[38;5;241m.\u001B[39msql())\n\u001B[1;32m    250\u001B[0m     \u001B[38;5;28;01mif\u001B[39;00m df \u001B[38;5;129;01mis\u001B[39;00m \u001B[38;5;28;01mNone\u001B[39;00m \u001B[38;5;129;01mor\u001B[39;00m \u001B[38;5;28mlen\u001B[39m(df\u001B[38;5;241m.\u001B[39mschema) \u001B[38;5;241m==\u001B[39m \u001B[38;5;241m0\u001B[39m:\n\u001B[1;32m    251\u001B[0m         \u001B[38;5;66;03m# E.g. \"create or replace temp view abc as select 1\" gets us here and we should not return a result in this case.\u001B[39;00m\n\u001B[1;32m    252\u001B[0m         \u001B[38;5;28;01mreturn\u001B[39;00m \u001B[38;5;28;01mNone\u001B[39;00m\n",
        "File \u001B[0;32m/databricks/python_shell/lib/dbruntime/sql_magic/sql_magic.py:124\u001B[0m, in \u001B[0;36mSqlMagic.get_query_request_result\u001B[0;34m(self, query)\u001B[0m\n\u001B[1;32m    122\u001B[0m \u001B[38;5;28;01mif\u001B[39;00m \u001B[38;5;28mlen\u001B[39m(widget_bindings \u001B[38;5;241m:=\u001B[39m \u001B[38;5;28mself\u001B[39m\u001B[38;5;241m.\u001B[39mdbutils\u001B[38;5;241m.\u001B[39mwidgets\u001B[38;5;241m.\u001B[39mgetAll()) \u001B[38;5;241m>\u001B[39m \u001B[38;5;241m0\u001B[39m:\n\u001B[1;32m    123\u001B[0m     \u001B[38;5;28mself\u001B[39m\u001B[38;5;241m.\u001B[39mdriver_activity_logger\u001B[38;5;241m.\u001B[39mlogExecuteCommandEvent(\u001B[38;5;124m\"\u001B[39m\u001B[38;5;124mPARAM_SYNTAX_USAGE\u001B[39m\u001B[38;5;124m\"\u001B[39m)\n\u001B[0;32m--> 124\u001B[0m df \u001B[38;5;241m=\u001B[39m \u001B[38;5;28mself\u001B[39m\u001B[38;5;241m.\u001B[39masserting_spark\u001B[38;5;241m.\u001B[39msql(query, widget_bindings)\n\u001B[1;32m    125\u001B[0m \u001B[38;5;28;01mreturn\u001B[39;00m df\n",
        "File \u001B[0;32m/databricks/python/lib/python3.11/site-packages/pyspark/sql/connect/session.py:736\u001B[0m, in \u001B[0;36mSparkSession.sql\u001B[0;34m(self, sqlQuery, args, **kwargs)\u001B[0m\n\u001B[1;32m    733\u001B[0m         _views\u001B[38;5;241m.\u001B[39mappend(SubqueryAlias(df\u001B[38;5;241m.\u001B[39m_plan, name))\n\u001B[1;32m    735\u001B[0m cmd \u001B[38;5;241m=\u001B[39m SQL(sqlQuery, _args, _named_args, _views)\n\u001B[0;32m--> 736\u001B[0m data, properties, ei \u001B[38;5;241m=\u001B[39m \u001B[38;5;28mself\u001B[39m\u001B[38;5;241m.\u001B[39mclient\u001B[38;5;241m.\u001B[39mexecute_command(cmd\u001B[38;5;241m.\u001B[39mcommand(\u001B[38;5;28mself\u001B[39m\u001B[38;5;241m.\u001B[39m_client))\n\u001B[1;32m    737\u001B[0m \u001B[38;5;28;01mif\u001B[39;00m \u001B[38;5;124m\"\u001B[39m\u001B[38;5;124msql_command_result\u001B[39m\u001B[38;5;124m\"\u001B[39m \u001B[38;5;129;01min\u001B[39;00m properties:\n\u001B[1;32m    738\u001B[0m     df \u001B[38;5;241m=\u001B[39m DataFrame(CachedRelation(properties[\u001B[38;5;124m\"\u001B[39m\u001B[38;5;124msql_command_result\u001B[39m\u001B[38;5;124m\"\u001B[39m]), \u001B[38;5;28mself\u001B[39m)\n",
        "File \u001B[0;32m/databricks/python/lib/python3.11/site-packages/pyspark/sql/connect/client/core.py:1303\u001B[0m, in \u001B[0;36mSparkConnectClient.execute_command\u001B[0;34m(self, command, observations, extra_request_metadata)\u001B[0m\n\u001B[1;32m   1301\u001B[0m     req\u001B[38;5;241m.\u001B[39muser_context\u001B[38;5;241m.\u001B[39muser_id \u001B[38;5;241m=\u001B[39m \u001B[38;5;28mself\u001B[39m\u001B[38;5;241m.\u001B[39m_user_id\n\u001B[1;32m   1302\u001B[0m req\u001B[38;5;241m.\u001B[39mplan\u001B[38;5;241m.\u001B[39mcommand\u001B[38;5;241m.\u001B[39mCopyFrom(command)\n\u001B[0;32m-> 1303\u001B[0m data, _, metrics, observed_metrics, properties \u001B[38;5;241m=\u001B[39m \u001B[38;5;28mself\u001B[39m\u001B[38;5;241m.\u001B[39m_execute_and_fetch(\n\u001B[1;32m   1304\u001B[0m     req, observations \u001B[38;5;129;01mor\u001B[39;00m {}, extra_request_metadata\n\u001B[1;32m   1305\u001B[0m )\n\u001B[1;32m   1306\u001B[0m \u001B[38;5;66;03m# Create a query execution object.\u001B[39;00m\n\u001B[1;32m   1307\u001B[0m ei \u001B[38;5;241m=\u001B[39m ExecutionInfo(metrics, observed_metrics)\n",
        "File \u001B[0;32m/databricks/python/lib/python3.11/site-packages/pyspark/sql/connect/client/core.py:1761\u001B[0m, in \u001B[0;36mSparkConnectClient._execute_and_fetch\u001B[0;34m(self, req, observations, extra_request_metadata, self_destruct)\u001B[0m\n\u001B[1;32m   1758\u001B[0m properties: Dict[\u001B[38;5;28mstr\u001B[39m, Any] \u001B[38;5;241m=\u001B[39m {}\n\u001B[1;32m   1760\u001B[0m \u001B[38;5;28;01mwith\u001B[39;00m Progress(handlers\u001B[38;5;241m=\u001B[39m\u001B[38;5;28mself\u001B[39m\u001B[38;5;241m.\u001B[39m_progress_handlers, operation_id\u001B[38;5;241m=\u001B[39mreq\u001B[38;5;241m.\u001B[39moperation_id) \u001B[38;5;28;01mas\u001B[39;00m progress:\n\u001B[0;32m-> 1761\u001B[0m     \u001B[38;5;28;01mfor\u001B[39;00m response \u001B[38;5;129;01min\u001B[39;00m \u001B[38;5;28mself\u001B[39m\u001B[38;5;241m.\u001B[39m_execute_and_fetch_as_iterator(\n\u001B[1;32m   1762\u001B[0m         req, observations, extra_request_metadata \u001B[38;5;129;01mor\u001B[39;00m [], progress\u001B[38;5;241m=\u001B[39mprogress\n\u001B[1;32m   1763\u001B[0m     ):\n\u001B[1;32m   1764\u001B[0m         \u001B[38;5;28;01mif\u001B[39;00m \u001B[38;5;28misinstance\u001B[39m(response, StructType):\n\u001B[1;32m   1765\u001B[0m             schema \u001B[38;5;241m=\u001B[39m response\n",
        "File \u001B[0;32m/databricks/python/lib/python3.11/site-packages/pyspark/sql/connect/client/core.py:1737\u001B[0m, in \u001B[0;36mSparkConnectClient._execute_and_fetch_as_iterator\u001B[0;34m(self, req, observations, extra_request_metadata, progress)\u001B[0m\n\u001B[1;32m   1735\u001B[0m     \u001B[38;5;28;01mraise\u001B[39;00m kb\n\u001B[1;32m   1736\u001B[0m \u001B[38;5;28;01mexcept\u001B[39;00m \u001B[38;5;167;01mException\u001B[39;00m \u001B[38;5;28;01mas\u001B[39;00m error:\n\u001B[0;32m-> 1737\u001B[0m     \u001B[38;5;28mself\u001B[39m\u001B[38;5;241m.\u001B[39m_handle_error(error)\n",
        "File \u001B[0;32m/databricks/python/lib/python3.11/site-packages/pyspark/sql/connect/client/core.py:2053\u001B[0m, in \u001B[0;36mSparkConnectClient._handle_error\u001B[0;34m(self, error)\u001B[0m\n\u001B[1;32m   2051\u001B[0m \u001B[38;5;28mself\u001B[39m\u001B[38;5;241m.\u001B[39mthread_local\u001B[38;5;241m.\u001B[39minside_error_handling \u001B[38;5;241m=\u001B[39m \u001B[38;5;28;01mTrue\u001B[39;00m\n\u001B[1;32m   2052\u001B[0m \u001B[38;5;28;01mif\u001B[39;00m \u001B[38;5;28misinstance\u001B[39m(error, grpc\u001B[38;5;241m.\u001B[39mRpcError):\n\u001B[0;32m-> 2053\u001B[0m     \u001B[38;5;28mself\u001B[39m\u001B[38;5;241m.\u001B[39m_handle_rpc_error(error)\n\u001B[1;32m   2054\u001B[0m \u001B[38;5;28;01melif\u001B[39;00m \u001B[38;5;28misinstance\u001B[39m(error, \u001B[38;5;167;01mValueError\u001B[39;00m):\n\u001B[1;32m   2055\u001B[0m     \u001B[38;5;28;01mif\u001B[39;00m \u001B[38;5;124m\"\u001B[39m\u001B[38;5;124mCannot invoke RPC\u001B[39m\u001B[38;5;124m\"\u001B[39m \u001B[38;5;129;01min\u001B[39;00m \u001B[38;5;28mstr\u001B[39m(error) \u001B[38;5;129;01mand\u001B[39;00m \u001B[38;5;124m\"\u001B[39m\u001B[38;5;124mclosed\u001B[39m\u001B[38;5;124m\"\u001B[39m \u001B[38;5;129;01min\u001B[39;00m \u001B[38;5;28mstr\u001B[39m(error):\n",
        "File \u001B[0;32m/databricks/python/lib/python3.11/site-packages/pyspark/sql/connect/client/core.py:2132\u001B[0m, in \u001B[0;36mSparkConnectClient._handle_rpc_error\u001B[0;34m(self, rpc_error)\u001B[0m\n\u001B[1;32m   2128\u001B[0m             d\u001B[38;5;241m.\u001B[39mUnpack(info)\n\u001B[1;32m   2130\u001B[0m             \u001B[38;5;28mself\u001B[39m\u001B[38;5;241m.\u001B[39m_handle_rpc_error_with_error_info(status, info)  \u001B[38;5;66;03m# EDGE\u001B[39;00m\n\u001B[0;32m-> 2132\u001B[0m             \u001B[38;5;28;01mraise\u001B[39;00m convert_exception(\n\u001B[1;32m   2133\u001B[0m                 info,\n\u001B[1;32m   2134\u001B[0m                 status\u001B[38;5;241m.\u001B[39mmessage,\n\u001B[1;32m   2135\u001B[0m                 \u001B[38;5;28mself\u001B[39m\u001B[38;5;241m.\u001B[39m_fetch_enriched_error(info),\n\u001B[1;32m   2136\u001B[0m                 \u001B[38;5;28mself\u001B[39m\u001B[38;5;241m.\u001B[39m_display_server_stack_trace(),\n\u001B[1;32m   2137\u001B[0m             ) \u001B[38;5;28;01mfrom\u001B[39;00m \u001B[38;5;28;01mNone\u001B[39;00m\n\u001B[1;32m   2139\u001B[0m     \u001B[38;5;28;01mraise\u001B[39;00m SparkConnectGrpcException(\n\u001B[1;32m   2140\u001B[0m         message\u001B[38;5;241m=\u001B[39mstatus\u001B[38;5;241m.\u001B[39mmessage,\n\u001B[1;32m   2141\u001B[0m         sql_state\u001B[38;5;241m=\u001B[39mSparkConnectGrpcException\u001B[38;5;241m.\u001B[39mCLIENT_UNEXPECTED_MISSING_SQL_STATE,  \u001B[38;5;66;03m# EDGE\u001B[39;00m\n\u001B[1;32m   2142\u001B[0m     ) \u001B[38;5;28;01mfrom\u001B[39;00m \u001B[38;5;28;01mNone\u001B[39;00m\n\u001B[1;32m   2143\u001B[0m \u001B[38;5;28;01melse\u001B[39;00m:\n",
        "\u001B[0;31mAnalysisException\u001B[0m: [UNRESOLVED_COLUMN.WITH_SUGGESTION] A column, variable, or function parameter with name `status` cannot be resolved. Did you mean one of the following? [`nights`, `hotel_id`, `hotel_city`, `hotel_name`, `customer_id`]. SQLSTATE: 42703; line 4 pos 20;\n'Sort ['cancellation_rate DESC NULLS LAST], true\n+- 'Aggregate [hotel_name#12684], [hotel_name#12684, 'COUNT(CASE WHEN ('status = Cancelled) THEN 1 END) AS cancelled_count#12667, count(1) AS total_bookings#12668L, (('COUNT(CASE WHEN ('status = Cancelled) THEN 1 END) * 100.0) / count(1)) AS cancellation_rate#12669]\n   +- SubqueryAlias dlt_demo.default.bookings_dataset\n      +- Relation dlt_demo.default.bookings_dataset[customer_id#12680,customer_name#12681,customer_city#12682,hotel_id#12683,hotel_name#12684,hotel_city#12685,booking_date#12686,nights#12687,price_per_night#12688,total_amount#12689] parquet\n\n\nJVM stacktrace:\norg.apache.spark.sql.catalyst.ExtendedAnalysisException\n\tat org.apache.spark.sql.errors.QueryCompilationErrors$.unresolvedAttributeError(QueryCompilationErrors.scala:593)\n\tat org.apache.spark.sql.catalyst.analysis.CheckAnalysis.org$apache$spark$sql$catalyst$analysis$CheckAnalysis$$failUnresolvedAttribute(CheckAnalysis.scala:190)\n\tat org.apache.spark.sql.catalyst.analysis.CheckAnalysis.$anonfun$checkAnalysis0$10(CheckAnalysis.scala:491)\n\tat org.apache.spark.sql.catalyst.analysis.CheckAnalysis.$anonfun$checkAnalysis0$10$adapted(CheckAnalysis.scala:476)\n\tat org.apache.spark.sql.catalyst.trees.TreeNode.foreachUp(TreeNode.scala:311)\n\tat org.apache.spark.sql.catalyst.trees.TreeNode.$anonfun$foreachUp$1(TreeNode.scala:310)\n\tat org.apache.spark.sql.catalyst.trees.TreeNode.$anonfun$foreachUp$1$adapted(TreeNode.scala:310)\n\tat scala.collection.immutable.Vector.foreach(Vector.scala:2125)\n\tat org.apache.spark.sql.catalyst.trees.TreeNode.foreachUp(TreeNode.scala:310)\n\tat org.apache.spark.sql.catalyst.trees.TreeNode.$anonfun$foreachUp$1(TreeNode.scala:310)\n\tat org.apache.spark.sql.catalyst.trees.TreeNode.$anonfun$foreachUp$1$adapted(TreeNode.scala:310)\n\tat scala.collection.immutable.List.foreach(List.scala:334)\n\tat org.apache.spark.sql.catalyst.trees.TreeNode.foreachUp(TreeNode.scala:310)\n\tat org.apache.spark.sql.catalyst.trees.TreeNode.$anonfun$foreachUp$1(TreeNode.scala:310)\n\tat org.apache.spark.sql.catalyst.trees.TreeNode.$anonfun$foreachUp$1$adapted(TreeNode.scala:310)\n\tat scala.collection.immutable.List.foreach(List.scala:334)\n\tat org.apache.spark.sql.catalyst.trees.TreeNode.foreachUp(TreeNode.scala:310)\n\tat org.apache.spark.sql.catalyst.trees.TreeNode.$anonfun$foreachUp$1(TreeNode.scala:310)\n\tat org.apache.spark.sql.catalyst.trees.TreeNode.$anonfun$foreachUp$1$adapted(TreeNode.scala:310)\n\tat scala.collection.immutable.Vector.foreach(Vector.scala:2125)\n\tat org.apache.spark.sql.catalyst.trees.TreeNode.foreachUp(TreeNode.scala:310)\n\tat org.apache.spark.sql.catalyst.analysis.CheckAnalysis.$anonfun$checkAnalysis0$9(CheckAnalysis.scala:476)\n\tat org.apache.spark.sql.catalyst.analysis.CheckAnalysis.$anonfun$checkAnalysis0$9$adapted(CheckAnalysis.scala:476)\n\tat scala.collection.immutable.List.foreach(List.scala:334)\n\tat org.apache.spark.sql.catalyst.analysis.CheckAnalysis.$anonfun$checkAnalysis0$2(CheckAnalysis.scala:476)\n\tat org.apache.spark.sql.catalyst.analysis.CheckAnalysis.$anonfun$checkAnalysis0$2$adapted(CheckAnalysis.scala:318)\n\tat org.apache.spark.sql.catalyst.trees.TreeNode.foreachUp(TreeNode.scala:311)\n\tat org.apache.spark.sql.catalyst.trees.TreeNode.$anonfun$foreachUp$1(TreeNode.scala:310)\n\tat org.apache.spark.sql.catalyst.trees.TreeNode.$anonfun$foreachUp$1$adapted(TreeNode.scala:310)\n\tat scala.collection.immutable.Vector.foreach(Vector.scala:2125)\n\tat org.apache.spark.sql.catalyst.trees.TreeNode.foreachUp(TreeNode.scala:310)\n\tat org.apache.spark.sql.catalyst.analysis.CheckAnalysis.checkAnalysis0(CheckAnalysis.scala:318)\n\tat org.apache.spark.sql.catalyst.analysis.CheckAnalysis.checkAnalysis0$(CheckAnalysis.scala:289)\n\tat org.apache.spark.sql.catalyst.analysis.Analyzer.checkAnalysis0(Analyzer.scala:499)\n\tat org.apache.spark.sql.catalyst.analysis.CheckAnalysis.$anonfun$checkAnalysis$1(CheckAnalysis.scala:274)\n\tat scala.runtime.java8.JFunction0$mcV$sp.apply(JFunction0$mcV$sp.scala:18)\n\tat com.databricks.spark.util.FrameProfiler$.$anonfun$record$1(FrameProfiler.scala:95)\n\tat com.databricks.spark.util.FrameProfilerExporter$.maybeExportFrameProfiler(FrameProfilerExporter.scala:153)\n\tat com.databricks.spark.util.FrameProfiler$.record(FrameProfiler.scala:86)\n\tat org.apache.spark.sql.catalyst.analysis.CheckAnalysis.checkAnalysis(CheckAnalysis.scala:261)\n\tat org.apache.spark.sql.catalyst.analysis.CheckAnalysis.checkAnalysis$(CheckAnalysis.scala:261)\n\tat org.apache.spark.sql.catalyst.analysis.Analyzer.checkAnalysis(Analyzer.scala:499)\n\tat org.apache.spark.sql.catalyst.analysis.resolver.HybridAnalyzer.$anonfun$resolveInFixedPoint$1(HybridAnalyzer.scala:390)\n\tat scala.runtime.java8.JFunction0$mcV$sp.apply(JFunction0$mcV$sp.scala:18)\n\tat org.apache.spark.sql.catalyst.QueryPlanningTracker$.withTracker(QueryPlanningTracker.scala:248)\n\tat org.apache.spark.sql.catalyst.analysis.resolver.HybridAnalyzer.resolveInFixedPoint(HybridAnalyzer.scala:390)\n\tat org.apache.spark.sql.catalyst.analysis.resolver.HybridAnalyzer.$anonfun$apply$1(HybridAnalyzer.scala:98)\n\tat org.apache.spark.sql.catalyst.analysis.resolver.HybridAnalyzer.withTrackedAnalyzerBridgeState(HybridAnalyzer.scala:135)\n\tat org.apache.spark.sql.catalyst.analysis.resolver.HybridAnalyzer.apply(HybridAnalyzer.scala:91)\n\tat org.apache.spark.sql.catalyst.analysis.Analyzer.$anonfun$executeAndCheck$2(Analyzer.scala:555)\n\tat org.apache.spark.sql.catalyst.plans.logical.AnalysisHelper$.markInAnalyzer(AnalysisHelper.scala:425)\n\tat org.apache.spark.sql.catalyst.analysis.Analyzer.$anonfun$executeAndCheck$1(Analyzer.scala:555)\n\tat com.databricks.sql.unity.SAMSnapshotHelper$.visitPlansDuringAnalysis(SAMSnapshotHelper.scala:41)\n\tat org.apache.spark.sql.catalyst.analysis.Analyzer.executeAndCheck(Analyzer.scala:548)\n\tat org.apache.spark.sql.execution.QueryExecution.$anonfun$lazyAnalyzed$3(QueryExecution.scala:327)\n\tat com.databricks.spark.util.FrameProfiler$.$anonfun$record$1(FrameProfiler.scala:95)\n\tat com.databricks.spark.util.FrameProfilerExporter$.maybeExportFrameProfiler(FrameProfilerExporter.scala:153)\n\tat com.databricks.spark.util.FrameProfiler$.record(FrameProfiler.scala:86)\n\tat org.apache.spark.sql.catalyst.QueryPlanningTracker.measurePhase(QueryPlanningTracker.scala:646)\n\tat org.apache.spark.sql.execution.QueryExecution.$anonfun$executePhase$7(QueryExecution.scala:810)\n\tat org.apache.spark.sql.execution.SQLExecution$.$anonfun$withExecutionPhase$1(SQLExecution.scala:155)\n\tat com.databricks.logging.AttributionContext$.$anonfun$withValue$1(AttributionContext.scala:291)\n\tat scala.util.DynamicVariable.withValue(DynamicVariable.scala:59)\n\tat com.databricks.logging.AttributionContext$.withValue(AttributionContext.scala:287)\n\tat com.databricks.util.TracingSpanUtils$.$anonfun$withTracing$4(TracingSpanUtils.scala:235)\n\tat com.databricks.util.TracingSpanUtils$.withTracing(TracingSpanUtils.scala:129)\n\tat com.databricks.util.TracingSpanUtils$.withTracing(TracingSpanUtils.scala:233)\n\tat com.databricks.tracing.TracingUtils$.withTracing(TracingUtils.scala:296)\n\tat com.databricks.spark.util.DatabricksTracingHelper.withSpan(DatabricksSparkTracingHelper.scala:61)\n\tat com.databricks.spark.util.DBRTracing$.withSpan(DBRTracing.scala:47)\n\tat org.apache.spark.sql.execution.SQLExecution$.withExecutionPhase(SQLExecution.scala:136)\n\tat org.apache.spark.sql.execution.QueryExecution.$anonfun$executePhase$6(QueryExecution.scala:810)\n\tat org.apache.spark.sql.execution.QueryExecution$.withInternalError(QueryExecution.scala:1449)\n\tat org.apache.spark.sql.execution.QueryExecution.$anonfun$executePhase$4(QueryExecution.scala:803)\n\tat com.databricks.util.LexicalThreadLocal$Handle.runWith(LexicalThreadLocal.scala:63)\n\tat org.apache.spark.sql.execution.QueryExecution.$anonfun$executePhase$3(QueryExecution.scala:800)\n\tat com.databricks.util.LexicalThreadLocal$Handle.runWith(LexicalThreadLocal.scala:63)\n\tat org.apache.spark.sql.execution.QueryExecution.$anonfun$executePhase$2(QueryExecution.scala:800)\n\tat org.apache.spark.sql.execution.QueryExecution.withQueryExecutionId(QueryExecution.scala:789)\n\tat org.apache.spark.sql.execution.QueryExecution.$anonfun$executePhase$1(QueryExecution.scala:799)\n\tat org.apache.spark.sql.SparkSession.withActive(SparkSession.scala:860)\n\tat org.apache.spark.sql.execution.QueryExecution.executePhase(QueryExecution.scala:798)\n\tat org.apache.spark.sql.execution.QueryExecution.$anonfun$lazyAnalyzed$2(QueryExecution.scala:309)\n\tat com.databricks.sql.util.MemoryTrackerHelper.withMemoryTracking(MemoryTrackerHelper.scala:111)\n\tat org.apache.spark.sql.execution.QueryExecution.$anonfun$lazyAnalyzed$1(QueryExecution.scala:308)\n\tat scala.util.Try$.apply(Try.scala:217)\n\tat org.apache.spark.util.Utils$.doTryWithCallerStacktrace(Utils.scala:1686)\n\tat org.apache.spark.util.LazyTry.tryT$lzycompute(LazyTry.scala:60)\n\tat org.apache.spark.util.LazyTry.tryT(LazyTry.scala:59)\n\tat org.apache.spark.util.LazyTry.get(LazyTry.scala:75)\n\tat org.apache.spark.sql.execution.QueryExecution.analyzed(QueryExecution.scala:369)\n\tat org.apache.spark.sql.execution.QueryExecution.assertAnalyzed(QueryExecution.scala:288)\n\tat org.apache.spark.sql.classic.Dataset$.$anonfun$ofRows$3(Dataset.scala:154)\n\tat org.apache.spark.sql.SparkSession.withActive(SparkSession.scala:860)\n\tat org.apache.spark.sql.classic.SparkSession.$anonfun$withActiveAndFrameProfiler$1(SparkSession.scala:1071)\n\tat com.databricks.spark.util.FrameProfiler$.$anonfun$record$1(FrameProfiler.scala:95)\n\tat com.databricks.spark.util.FrameProfilerExporter$.maybeExportFrameProfiler(FrameProfilerExporter.scala:153)\n\tat com.databricks.spark.util.FrameProfiler$.record(FrameProfiler.scala:86)\n\tat org.apache.spark.sql.classic.SparkSession.withActiveAndFrameProfiler(SparkSession.scala:1071)\n\tat org.apache.spark.sql.classic.Dataset$.ofRows(Dataset.scala:146)\n\tat org.apache.spark.sql.classic.SparkSession.$anonfun$sql$4(SparkSession.scala:850)\n\tat org.apache.spark.sql.SparkSession.withActive(SparkSession.scala:860)\n\tat org.apache.spark.sql.classic.SparkSession.sql(SparkSession.scala:813)\n\tat org.apache.spark.sql.connect.planner.SparkConnectPlanner.executeSQL(SparkConnectPlanner.scala:3500)\n\tat org.apache.spark.sql.connect.planner.SparkConnectPlanner.handleSqlCommand(SparkConnectPlanner.scala:3330)\n\tat org.apache.spark.sql.connect.planner.SparkConnectPlanner.process(SparkConnectPlanner.scala:3207)\n\tat org.apache.spark.sql.connect.execution.ExecuteThreadRunner.handleCommand(ExecuteThreadRunner.scala:385)\n\tat org.apache.spark.util.Utils$.getTryWithCallerStacktrace(Utils.scala:1747)\n\tat org.apache.spark.util.LazyTry.get(LazyTry.scala:75)\n\tat org.apache.spark.sql.execution.QueryExecution.executedPlan(QueryExecution.scala:734)\n\tat com.databricks.spark.sqlgateway.history.SqlGatewayHistorySparkListener.$anonfun$onSqlStart$12(SqlGatewayHistorySparkListener.scala:719)\n\tat scala.Option.map(Option.scala:242)\n\tat com.databricks.spark.sqlgateway.history.SqlGatewayHistorySparkListener.$anonfun$onSqlStart$11(SqlGatewayHistorySparkListener.scala:719)\n\tat scala.Option.foreach(Option.scala:437)\n\tat com.databricks.spark.sqlgateway.history.SqlGatewayHistorySparkListener.$anonfun$onSqlStart$1(SqlGatewayHistorySparkListener.scala:716)\n\tat scala.runtime.java8.JFunction0$mcV$sp.apply(JFunction0$mcV$sp.scala:18)\n\tat com.databricks.spark.util.FrameProfiler$.$anonfun$record$1(FrameProfiler.scala:95)\n\tat com.databricks.spark.util.FrameProfilerExporter$.maybeExportFrameProfiler(FrameProfilerExporter.scala:153)\n\tat com.databricks.spark.util.FrameProfiler$.record(FrameProfiler.scala:86)\n\tat com.databricks.spark.sqlgateway.history.SqlGatewayHistorySparkListener.com$databricks$spark$sqlgateway$history$SqlGatewayHistorySparkListener$$onSqlStart(SqlGatewayHistorySparkListener.scala:661)\n\tat com.databricks.spark.sqlgateway.history.SqlGatewayHistorySparkListener$$anonfun$onOtherEventDefault$1.applyOrElse(SqlGatewayHistorySparkListener.scala:236)\n\tat com.databricks.spark.sqlgateway.history.SqlGatewayHistorySparkListener$$anonfun$onOtherEventDefault$1.applyOrElse(SqlGatewayHistorySparkListener.scala:224)\n\tat scala.runtime.AbstractPartialFunction.apply(AbstractPartialFunction.scala:35)\n\tat com.databricks.spark.sqlgateway.history.utils.RuntimeVersionBridge$$anonfun$onOtherEvent$1.applyOrElse(RuntimeVersionBridge.scala:209)\n\tat com.databricks.spark.sqlgateway.history.utils.RuntimeVersionBridge$$anonfun$onOtherEvent$1.applyOrElse(RuntimeVersionBridge.scala:209)\n\tat com.databricks.spark.sqlgateway.history.SqlGatewayHistorySparkListener.$anonfun$onOtherEvent$1(SqlGatewayHistorySparkListener.scala:202)\n\tat scala.runtime.java8.JFunction0$mcV$sp.apply(JFunction0$mcV$sp.scala:18)\n\tat com.databricks.spark.util.FrameProfiler$.$anonfun$record$1(FrameProfiler.scala:95)\n\tat com.databricks.spark.util.FrameProfilerExporter$.maybeExportFrameProfiler(FrameProfilerExporter.scala:153)\n\tat com.databricks.spark.util.FrameProfiler$.record(FrameProfiler.scala:86)\n\tat com.databricks.spark.sqlgateway.history.SqlGatewayHistorySparkListener.onOtherEvent(SqlGatewayHistorySparkListener.scala:202)\n\tat org.apache.spark.scheduler.SparkListenerBus.doPostEvent(SparkListenerBus.scala:108)\n\tat org.apache.spark.scheduler.SparkListenerBus.doPostEvent$(SparkListenerBus.scala:28)\n\tat org.apache.spark.scheduler.AsyncEventQueue.doPostEvent(AsyncEventQueue.scala:46)\n\tat org.apache.spark.scheduler.AsyncEventQueue.doPostEvent(AsyncEventQueue.scala:46)\n\tat org.apache.spark.util.ListenerBus.postToAll(ListenerBus.scala:208)\n\tat org.apache.spark.util.ListenerBus.postToAll$(ListenerBus.scala:172)\n\tat org.apache.spark.scheduler.AsyncEventQueue.super$postToAll(AsyncEventQueue.scala:130)\n\tat org.apache.spark.scheduler.AsyncEventQueue.$anonfun$dispatch$1(AsyncEventQueue.scala:130)\n\tat scala.runtime.java8.JFunction0$mcJ$sp.apply(JFunction0$mcJ$sp.scala:17)\n\tat scala.util.DynamicVariable.withValue(DynamicVariable.scala:59)\n\tat org.apache.spark.scheduler.AsyncEventQueue.org$apache$spark$scheduler$AsyncEventQueue$$dispatch(AsyncEventQueue.scala:116)\n\tat org.apache.spark.scheduler.AsyncEventQueue$$anon$2.$anonfun$run$1(AsyncEventQueue.scala:112)\n\tat org.apache.spark.util.Utils$.tryOrStopSparkContext(Utils.scala:1574)\n\tat org.apache.spark.scheduler.AsyncEventQueue$$anon$2.run(AsyncEventQueue.scala:112)"
       ],
       "type": "baseError"
      }
     },
     "output_type": "display_data"
    }
   ],
   "source": [
    "%sql\n",
    "-- Hotels with Highest Cancellation Rates\n",
    "SELECT \n",
    "    hotel_name,\n",
    "    COUNT(CASE WHEN status = 'Cancelled' THEN 1 END) AS cancelled_count,\n",
    "    COUNT(*) AS total_bookings,\n",
    "    (COUNT(CASE WHEN status = 'Cancelled' THEN 1 END) * 100.0 / COUNT(*)) AS cancellation_rate\n",
    "FROM dlt_demo.default.bookings_dataset\n",
    "GROUP BY hotel_name\n",
    "ORDER BY cancellation_rate DESC;\n"
   ]
  },
  {
   "cell_type": "code",
   "execution_count": 0,
   "metadata": {
    "application/vnd.databricks.v1+cell": {
     "cellMetadata": {
      "byteLimit": 2048000,
      "implicitDf": true,
      "rowLimit": 10000
     },
     "inputWidgets": {},
     "nuid": "954a5f65-a900-47f9-8296-f3ee6ccc1996",
     "showTitle": false,
     "tableResultSettingsMap": {},
     "title": ""
    }
   },
   "outputs": [
    {
     "output_type": "display_data",
     "data": {
      "text/html": [
       "<style scoped>\n",
       "  .table-result-container {\n",
       "    max-height: 300px;\n",
       "    overflow: auto;\n",
       "  }\n",
       "  table, th, td {\n",
       "    border: 1px solid black;\n",
       "    border-collapse: collapse;\n",
       "  }\n",
       "  th, td {\n",
       "    padding: 5px;\n",
       "  }\n",
       "  th {\n",
       "    text-align: left;\n",
       "  }\n",
       "</style><div class='table-result-container'><table class='table-result'><thead style='background-color: white'><tr><th>hotel_city</th><th>total_revenue</th></tr></thead><tbody><tr><td>Mumbai</td><td>367046</td></tr><tr><td>Delhi</td><td>324409</td></tr><tr><td>Kolkata</td><td>193126</td></tr><tr><td>Pune</td><td>175996</td></tr><tr><td>Bangalore</td><td>160296</td></tr><tr><td>Chennai</td><td>154612</td></tr><tr><td>Hyderabad</td><td>69928</td></tr></tbody></table></div>"
      ]
     },
     "metadata": {
      "application/vnd.databricks.v1+output": {
       "addedWidgets": {},
       "aggData": [],
       "aggError": "",
       "aggOverflow": false,
       "aggSchema": [],
       "aggSeriesLimitReached": false,
       "aggType": "",
       "arguments": {},
       "columnCustomDisplayInfos": {},
       "data": [
        [
         "Mumbai",
         367046
        ],
        [
         "Delhi",
         324409
        ],
        [
         "Kolkata",
         193126
        ],
        [
         "Pune",
         175996
        ],
        [
         "Bangalore",
         160296
        ],
        [
         "Chennai",
         154612
        ],
        [
         "Hyderabad",
         69928
        ]
       ],
       "datasetInfos": [
        {
         "name": "_sqldf",
         "schema": {
          "fields": [
           {
            "metadata": {},
            "name": "hotel_city",
            "nullable": true,
            "type": "string"
           },
           {
            "metadata": {},
            "name": "total_revenue",
            "nullable": true,
            "type": "long"
           }
          ],
          "type": "struct"
         },
         "tableIdentifier": null,
         "typeStr": "pyspark.sql.connect.dataframe.DataFrame"
        }
       ],
       "dbfsResultPath": null,
       "isJsonSchema": true,
       "metadata": {
        "createTempViewForImplicitDf": true,
        "dataframeName": "_sqldf",
        "executionCount": 10
       },
       "overflow": false,
       "plotOptions": {
        "customPlotOptions": {},
        "displayType": "table",
        "pivotAggregation": null,
        "pivotColumns": null,
        "xColumns": null,
        "yColumns": null
       },
       "removedWidgets": [],
       "schema": [
        {
         "metadata": "{}",
         "name": "hotel_city",
         "type": "\"string\""
        },
        {
         "metadata": "{}",
         "name": "total_revenue",
         "type": "\"long\""
        }
       ],
       "type": "table"
      }
     },
     "output_type": "display_data"
    },
    {
     "output_type": "display_data",
     "data": {
      "text/plain": [
       "Databricks visualization. Run in Databricks to view."
      ]
     },
     "metadata": {
      "application/vnd.databricks.v1.subcommand+json": {
       "baseErrorDetails": null,
       "bindings": {},
       "collapsed": false,
       "command": "%sql WITH q AS (SELECT hotel_city, SUM(total_amount) AS total_revenue\nFROM dlt_demo.default.bookings_dataset\nGROUP BY hotel_city\nORDER BY total_revenue DESC) SELECT `hotel_city`,SUM(`total_revenue`) `column_5c5eb624414` FROM q GROUP BY `hotel_city`",
       "commandTitle": "Visualization 1",
       "commandType": "auto",
       "commandVersion": 0,
       "commentThread": [],
       "commentsVisible": false,
       "contentSha256Hex": null,
       "customPlotOptions": {
        "redashChart": [
         {
          "key": "type",
          "value": "CHART"
         },
         {
          "key": "options",
          "value": {
           "alignYAxesAtZero": true,
           "coefficient": 1,
           "columnConfigurationMap": {
            "x": {
             "column": "hotel_city",
             "id": "column_5c5eb624413"
            },
            "y": [
             {
              "column": "total_revenue",
              "id": "column_5c5eb624414",
              "transform": "SUM"
             }
            ]
           },
           "dateTimeFormat": "DD/MM/YYYY HH:mm",
           "direction": {
            "type": "counterclockwise"
           },
           "error_y": {
            "type": "data",
            "visible": true
           },
           "globalSeriesType": "column",
           "legend": {
            "traceorder": "normal"
           },
           "missingValuesAsZero": true,
           "numberFormat": "0,0.[00000]",
           "percentFormat": "0[.]00%",
           "series": {
            "error_y": {
             "type": "data",
             "visible": true
            },
            "stacking": null
           },
           "seriesOptions": {
            "column_5c5eb624414": {
             "name": "total_revenue",
             "type": "column",
             "yAxis": 0
            }
           },
           "showDataLabels": false,
           "sizemode": "diameter",
           "sortX": true,
           "sortY": true,
           "swappedAxes": false,
           "textFormat": "",
           "useAggregationsUi": true,
           "valuesOptions": {},
           "version": 2,
           "xAxis": {
            "labels": {
             "enabled": true
            },
            "type": "-"
           },
           "yAxis": [
            {
             "type": "-"
            },
            {
             "opposite": true,
             "type": "-"
            }
           ]
          }
         }
        ]
       },
       "datasetPreviewNameToCmdIdMap": {},
       "diffDeletes": [],
       "diffInserts": [],
       "displayType": "redashChart",
       "error": null,
       "errorDetails": null,
       "errorSummary": null,
       "errorTraceType": null,
       "finishTime": 0,
       "globalVars": {},
       "guid": "",
       "height": "auto",
       "hideCommandCode": false,
       "hideCommandResult": false,
       "iPythonMetadata": null,
       "inputWidgets": {},
       "isLockedInExamMode": false,
       "latestUser": "a user",
       "latestUserId": null,
       "listResultMetadata": null,
       "metadata": {},
       "nuid": "6a154f7c-1ad5-40d5-9fa4-8dfba6ba72f0",
       "origId": 0,
       "parentHierarchy": [],
       "pivotAggregation": null,
       "pivotColumns": null,
       "position": 4.0,
       "resultDbfsErrorMessage": null,
       "resultDbfsStatus": "INLINED_IN_TREE",
       "results": null,
       "showCommandTitle": false,
       "startTime": 0,
       "state": "input",
       "streamStates": {},
       "subcommandOptions": {
        "queryPlan": {
         "groups": [
          {
           "column": "hotel_city",
           "type": "column"
          }
         ],
         "selects": [
          {
           "column": "hotel_city",
           "type": "column"
          },
          {
           "alias": "column_5c5eb624414",
           "args": [
            {
             "column": "total_revenue",
             "type": "column"
            }
           ],
           "function": "SUM",
           "type": "function"
          }
         ]
        }
       },
       "submitTime": 0,
       "subtype": "tableResultSubCmd.visualization",
       "tableResultIndex": 0,
       "tableResultSettingsMap": {},
       "useConsistentColors": false,
       "version": "CommandV1",
       "width": "auto",
       "workflows": [],
       "xColumns": null,
       "yColumns": null
      }
     },
     "output_type": "display_data"
    }
   ],
   "source": [
    "%sql\n",
    "-- Example 1: Total Revenue by City\n",
    "SELECT hotel_city, SUM(total_amount) AS total_revenue\n",
    "FROM dlt_demo.default.bookings_dataset\n",
    "GROUP BY hotel_city\n",
    "ORDER BY total_revenue DESC;|"
   ]
  },
  {
   "cell_type": "code",
   "execution_count": 0,
   "metadata": {
    "application/vnd.databricks.v1+cell": {
     "cellMetadata": {
      "byteLimit": 2048000,
      "implicitDf": true,
      "rowLimit": 10000
     },
     "inputWidgets": {},
     "nuid": "a2e4eba7-b833-4274-ad8b-1d7fad52bf2d",
     "showTitle": false,
     "tableResultSettingsMap": {},
     "title": ""
    }
   },
   "outputs": [
    {
     "output_type": "display_data",
     "data": {
      "text/html": [
       "<style scoped>\n",
       "  .table-result-container {\n",
       "    max-height: 300px;\n",
       "    overflow: auto;\n",
       "  }\n",
       "  table, th, td {\n",
       "    border: 1px solid black;\n",
       "    border-collapse: collapse;\n",
       "  }\n",
       "  th, td {\n",
       "    padding: 5px;\n",
       "  }\n",
       "  th {\n",
       "    text-align: left;\n",
       "  }\n",
       "</style><div class='table-result-container'><table class='table-result'><thead style='background-color: white'><tr><th>hotel_city</th><th>avg_stay_duration</th></tr></thead><tbody><tr><td>Pune</td><td>4.63</td></tr><tr><td>Mumbai</td><td>4.57</td></tr><tr><td>Delhi</td><td>4.25</td></tr><tr><td>Bangalore</td><td>3.71</td></tr><tr><td>Hyderabad</td><td>3.5</td></tr><tr><td>Chennai</td><td>3.22</td></tr><tr><td>Kolkata</td><td>3.08</td></tr></tbody></table></div>"
      ]
     },
     "metadata": {
      "application/vnd.databricks.v1+output": {
       "addedWidgets": {},
       "aggData": [],
       "aggError": "",
       "aggOverflow": false,
       "aggSchema": [],
       "aggSeriesLimitReached": false,
       "aggType": "",
       "arguments": {},
       "columnCustomDisplayInfos": {},
       "data": [
        [
         "Pune",
         4.63
        ],
        [
         "Mumbai",
         4.57
        ],
        [
         "Delhi",
         4.25
        ],
        [
         "Bangalore",
         3.71
        ],
        [
         "Hyderabad",
         3.5
        ],
        [
         "Chennai",
         3.22
        ],
        [
         "Kolkata",
         3.08
        ]
       ],
       "datasetInfos": [
        {
         "name": "_sqldf",
         "schema": {
          "fields": [
           {
            "metadata": {},
            "name": "hotel_city",
            "nullable": true,
            "type": "string"
           },
           {
            "metadata": {},
            "name": "avg_stay_duration",
            "nullable": true,
            "type": "double"
           }
          ],
          "type": "struct"
         },
         "tableIdentifier": null,
         "typeStr": "pyspark.sql.connect.dataframe.DataFrame"
        }
       ],
       "dbfsResultPath": null,
       "isJsonSchema": true,
       "metadata": {
        "createTempViewForImplicitDf": true,
        "dataframeName": "_sqldf",
        "executionCount": 19
       },
       "overflow": false,
       "plotOptions": {
        "customPlotOptions": {},
        "displayType": "table",
        "pivotAggregation": null,
        "pivotColumns": null,
        "xColumns": null,
        "yColumns": null
       },
       "removedWidgets": [],
       "schema": [
        {
         "metadata": "{}",
         "name": "hotel_city",
         "type": "\"string\""
        },
        {
         "metadata": "{}",
         "name": "avg_stay_duration",
         "type": "\"double\""
        }
       ],
       "type": "table"
      }
     },
     "output_type": "display_data"
    },
    {
     "output_type": "display_data",
     "data": {
      "text/plain": [
       "Databricks visualization. Run in Databricks to view."
      ]
     },
     "metadata": {
      "application/vnd.databricks.v1.subcommand+json": {
       "baseErrorDetails": null,
       "bindings": {},
       "collapsed": false,
       "command": "%sql WITH q AS (SELECT hotel_city,\n       ROUND(AVG(nights), 2) AS avg_stay_duration\nFROM dlt_demo.default.bookings_dataset\nGROUP BY hotel_city\nORDER BY avg_stay_duration DESC) SELECT `hotel_city`,SUM(`avg_stay_duration`) `column_5c5eb624418` FROM q GROUP BY `hotel_city`",
       "commandTitle": "Visualization 1",
       "commandType": "auto",
       "commandVersion": 0,
       "commentThread": [],
       "commentsVisible": false,
       "contentSha256Hex": null,
       "customPlotOptions": {
        "redashChart": [
         {
          "key": "type",
          "value": "CHART"
         },
         {
          "key": "options",
          "value": {
           "alignYAxesAtZero": true,
           "coefficient": 1,
           "columnConfigurationMap": {
            "x": {
             "column": "hotel_city",
             "id": "column_5c5eb624417"
            },
            "y": [
             {
              "column": "avg_stay_duration",
              "id": "column_5c5eb624418",
              "transform": "SUM"
             }
            ]
           },
           "dateTimeFormat": "DD/MM/YYYY HH:mm",
           "direction": {
            "type": "counterclockwise"
           },
           "error_y": {
            "type": "data",
            "visible": true
           },
           "globalSeriesType": "column",
           "legend": {
            "traceorder": "normal"
           },
           "missingValuesAsZero": true,
           "numberFormat": "0,0.[00000]",
           "percentFormat": "0[.]00%",
           "series": {
            "error_y": {
             "type": "data",
             "visible": true
            },
            "stacking": null
           },
           "seriesOptions": {
            "column_5c5eb624418": {
             "name": "avg_stay_duration",
             "yAxis": 0
            }
           },
           "showDataLabels": false,
           "sizemode": "diameter",
           "sortX": true,
           "sortY": true,
           "swappedAxes": true,
           "textFormat": "",
           "useAggregationsUi": true,
           "valuesOptions": {},
           "version": 2,
           "xAxis": {
            "labels": {
             "enabled": true
            },
            "type": "-"
           },
           "yAxis": [
            {
             "type": "-"
            },
            {
             "opposite": true,
             "type": "-"
            }
           ]
          }
         }
        ]
       },
       "datasetPreviewNameToCmdIdMap": {},
       "diffDeletes": [],
       "diffInserts": [],
       "displayType": "redashChart",
       "error": null,
       "errorDetails": null,
       "errorSummary": null,
       "errorTraceType": null,
       "finishTime": 0,
       "globalVars": {},
       "guid": "",
       "height": "auto",
       "hideCommandCode": false,
       "hideCommandResult": false,
       "iPythonMetadata": null,
       "inputWidgets": {},
       "isLockedInExamMode": false,
       "latestUser": "a user",
       "latestUserId": null,
       "listResultMetadata": null,
       "metadata": {},
       "nuid": "2d966d21-a385-4126-bf53-26184fd72826",
       "origId": 0,
       "parentHierarchy": [],
       "pivotAggregation": null,
       "pivotColumns": null,
       "position": 5.0,
       "resultDbfsErrorMessage": null,
       "resultDbfsStatus": "INLINED_IN_TREE",
       "results": null,
       "showCommandTitle": false,
       "startTime": 0,
       "state": "input",
       "streamStates": {},
       "subcommandOptions": {
        "queryPlan": {
         "groups": [
          {
           "column": "hotel_city",
           "type": "column"
          }
         ],
         "selects": [
          {
           "column": "hotel_city",
           "type": "column"
          },
          {
           "alias": "column_5c5eb624418",
           "args": [
            {
             "column": "avg_stay_duration",
             "type": "column"
            }
           ],
           "function": "SUM",
           "type": "function"
          }
         ]
        }
       },
       "submitTime": 0,
       "subtype": "tableResultSubCmd.visualization",
       "tableResultIndex": 0,
       "tableResultSettingsMap": {},
       "useConsistentColors": false,
       "version": "CommandV1",
       "width": "auto",
       "workflows": [],
       "xColumns": null,
       "yColumns": null
      }
     },
     "output_type": "display_data"
    }
   ],
   "source": [
    "%sql\n",
    "-- Average Stay Duration by Hotel Location\n",
    "SELECT hotel_city,\n",
    "       ROUND(AVG(nights), 2) AS avg_stay_duration\n",
    "FROM dlt_demo.default.bookings_dataset\n",
    "GROUP BY hotel_city\n",
    "ORDER BY avg_stay_duration DESC;\n",
    "\n"
   ]
  },
  {
   "cell_type": "code",
   "execution_count": 0,
   "metadata": {
    "application/vnd.databricks.v1+cell": {
     "cellMetadata": {
      "byteLimit": 2048000,
      "implicitDf": true,
      "rowLimit": 10000
     },
     "inputWidgets": {},
     "nuid": "4b147f18-ad98-442f-bbad-26815aceab45",
     "showTitle": false,
     "tableResultSettingsMap": {},
     "title": ""
    }
   },
   "outputs": [
    {
     "output_type": "display_data",
     "data": {
      "text/html": [
       "<style scoped>\n",
       "  .table-result-container {\n",
       "    max-height: 300px;\n",
       "    overflow: auto;\n",
       "  }\n",
       "  table, th, td {\n",
       "    border: 1px solid black;\n",
       "    border-collapse: collapse;\n",
       "  }\n",
       "  th, td {\n",
       "    padding: 5px;\n",
       "  }\n",
       "  th {\n",
       "    text-align: left;\n",
       "  }\n",
       "</style><div class='table-result-container'><table class='table-result'><thead style='background-color: white'><tr><th>customer_id</th><th>customer_name</th><th>customer_city</th><th>hotel_id</th><th>hotel_name</th><th>hotel_city</th><th>booking_id</th><th>booking_date</th><th>stay_duration</th><th>amount_spent</th><th>status</th><th>rating</th></tr></thead><tbody><tr><td>C001</td><td>Amit Sharma</td><td>Delhi</td><td>H001</td><td>Grand Palace</td><td>Delhi</td><td>B001</td><td>2025-01-05</td><td>3</td><td>15000</td><td>Booked</td><td>5.0</td></tr><tr><td>C002</td><td>Neha Gupta</td><td>Mumbai</td><td>H002</td><td>Sea Breeze</td><td>Mumbai</td><td>B002</td><td>2025-01-06</td><td>2</td><td>7000</td><td>Cancelled</td><td>null</td></tr><tr><td>C003</td><td>Ravi Kumar</td><td>Bangalore</td><td>H003</td><td>City Inn</td><td>Bangalore</td><td>B003</td><td>2025-02-10</td><td>4</td><td>18000</td><td>Booked</td><td>4.0</td></tr><tr><td>C004</td><td>Simran Kaur</td><td>Chandigarh</td><td>H004</td><td>Mountain View</td><td>Manali</td><td>B004</td><td>2025-02-12</td><td>5</td><td>25000</td><td>Booked</td><td>5.0</td></tr><tr><td>C005</td><td>Arjun Mehta</td><td>Jaipur</td><td>H005</td><td>Desert Oasis</td><td>Jaipur</td><td>B005</td><td>2025-02-15</td><td>2</td><td>6000</td><td>Cancelled</td><td>null</td></tr><tr><td>C006</td><td>Pooja Singh</td><td>Delhi</td><td>H001</td><td>Grand Palace</td><td>Delhi</td><td>B006</td><td>2025-03-03</td><td>3</td><td>15600</td><td>Booked</td><td>4.0</td></tr><tr><td>C007</td><td>Manish Yadav</td><td>Mumbai</td><td>H002</td><td>Sea Breeze</td><td>Mumbai</td><td>B007</td><td>2025-03-04</td><td>4</td><td>21200</td><td>Booked</td><td>5.0</td></tr><tr><td>C008</td><td>Shweta Verma</td><td>Bangalore</td><td>H003</td><td>City Inn</td><td>Bangalore</td><td>B008</td><td>2025-03-07</td><td>2</td><td>6600</td><td>Booked</td><td>3.0</td></tr><tr><td>C009</td><td>Vikram Rao</td><td>Hyderabad</td><td>H004</td><td>Mountain View</td><td>Manali</td><td>B009</td><td>2025-03-08</td><td>3</td><td>14400</td><td>Booked</td><td>4.0</td></tr><tr><td>C010</td><td>Anjali Patel</td><td>Ahmedabad</td><td>H005</td><td>Desert Oasis</td><td>Jaipur</td><td>B010</td><td>2025-03-10</td><td>4</td><td>13200</td><td>Cancelled</td><td>null</td></tr><tr><td>C011</td><td>Rahul Nair</td><td>Kochi</td><td>H001</td><td>Grand Palace</td><td>Delhi</td><td>B011</td><td>2025-04-02</td><td>2</td><td>10600</td><td>Booked</td><td>4.0</td></tr><tr><td>C012</td><td>Isha Kapoor</td><td>Pune</td><td>H002</td><td>Sea Breeze</td><td>Mumbai</td><td>B012</td><td>2025-04-05</td><td>3</td><td>15300</td><td>Booked</td><td>5.0</td></tr><tr><td>C013</td><td>Saurabh Joshi</td><td>Delhi</td><td>H003</td><td>City Inn</td><td>Bangalore</td><td>B013</td><td>2025-04-07</td><td>4</td><td>18800</td><td>Cancelled</td><td>null</td></tr><tr><td>C014</td><td>Kritika Arora</td><td>Mumbai</td><td>H004</td><td>Mountain View</td><td>Manali</td><td>B014</td><td>2025-04-08</td><td>5</td><td>35000</td><td>Booked</td><td>5.0</td></tr><tr><td>C015</td><td>Aditya Jain</td><td>Bhopal</td><td>H005</td><td>Desert Oasis</td><td>Jaipur</td><td>B015</td><td>2025-04-10</td><td>3</td><td>9000</td><td>Booked</td><td>3.0</td></tr><tr><td>C016</td><td>Ritika Malhotra</td><td>Delhi</td><td>H001</td><td>Grand Palace</td><td>Delhi</td><td>B016</td><td>2025-05-01</td><td>4</td><td>22000</td><td>Booked</td><td>5.0</td></tr><tr><td>C017</td><td>Abhishek Singh</td><td>Mumbai</td><td>H002</td><td>Sea Breeze</td><td>Mumbai</td><td>B017</td><td>2025-05-03</td><td>2</td><td>6800</td><td>Cancelled</td><td>null</td></tr><tr><td>C018</td><td>Meena Reddy</td><td>Hyderabad</td><td>H003</td><td>City Inn</td><td>Bangalore</td><td>B018</td><td>2025-05-05</td><td>3</td><td>9600</td><td>Booked</td><td>4.0</td></tr><tr><td>C019</td><td>Ankit Thakur</td><td>Chandigarh</td><td>H004</td><td>Mountain View</td><td>Manali</td><td>B019</td><td>2025-05-07</td><td>4</td><td>20000</td><td>Booked</td><td>5.0</td></tr><tr><td>C020</td><td>Sneha Desai</td><td>Surat</td><td>H005</td><td>Desert Oasis</td><td>Jaipur</td><td>B020</td><td>2025-05-09</td><td>2</td><td>6200</td><td>Booked</td><td>4.0</td></tr><tr><td>C021</td><td>Arnav Sharma</td><td>Delhi</td><td>H001</td><td>Grand Palace</td><td>Delhi</td><td>B021</td><td>2025-06-02</td><td>3</td><td>16200</td><td>Booked</td><td>4.0</td></tr><tr><td>C022</td><td>Payal Ghosh</td><td>Kolkata</td><td>H002</td><td>Sea Breeze</td><td>Mumbai</td><td>B022</td><td>2025-06-04</td><td>4</td><td>27200</td><td>Booked</td><td>5.0</td></tr><tr><td>C023</td><td>Karan Kapoor</td><td>Lucknow</td><td>H003</td><td>City Inn</td><td>Bangalore</td><td>B023</td><td>2025-06-06</td><td>2</td><td>6000</td><td>Cancelled</td><td>null</td></tr><tr><td>C024</td><td>Tanya Bansal</td><td>Indore</td><td>H004</td><td>Mountain View</td><td>Manali</td><td>B024</td><td>2025-06-07</td><td>3</td><td>15000</td><td>Booked</td><td>5.0</td></tr><tr><td>C025</td><td>Devendra Rao</td><td>Hyderabad</td><td>H005</td><td>Desert Oasis</td><td>Jaipur</td><td>B025</td><td>2025-06-09</td><td>4</td><td>16000</td><td>Booked</td><td>4.0</td></tr><tr><td>C026</td><td>Roshni Das</td><td>Kolkata</td><td>H001</td><td>Grand Palace</td><td>Delhi</td><td>B026</td><td>2025-07-01</td><td>2</td><td>10800</td><td>Booked</td><td>4.0</td></tr><tr><td>C027</td><td>Siddharth Joshi</td><td>Delhi</td><td>H002</td><td>Sea Breeze</td><td>Mumbai</td><td>B027</td><td>2025-07-02</td><td>3</td><td>15300</td><td>Cancelled</td><td>null</td></tr><tr><td>C028</td><td>Monika Chauhan</td><td>Pune</td><td>H003</td><td>City Inn</td><td>Bangalore</td><td>B028</td><td>2025-07-04</td><td>5</td><td>30000</td><td>Booked</td><td>5.0</td></tr><tr><td>C029</td><td>Nitin Arora</td><td>Mumbai</td><td>H004</td><td>Mountain View</td><td>Manali</td><td>B029</td><td>2025-07-06</td><td>2</td><td>10500</td><td>Booked</td><td>3.0</td></tr><tr><td>C030</td><td>Priyanka Rathi</td><td>Bangalore</td><td>H005</td><td>Desert Oasis</td><td>Jaipur</td><td>B030</td><td>2025-07-08</td><td>3</td><td>9600</td><td>Booked</td><td>4.0</td></tr><tr><td>C031</td><td>Ashutosh Verma</td><td>Delhi</td><td>H001</td><td>Grand Palace</td><td>Delhi</td><td>B031</td><td>2025-08-01</td><td>4</td><td>22000</td><td>Booked</td><td>5.0</td></tr><tr><td>C032</td><td>Kajal Mishra</td><td>Mumbai</td><td>H002</td><td>Sea Breeze</td><td>Mumbai</td><td>B032</td><td>2025-08-02</td><td>2</td><td>7000</td><td>Booked</td><td>4.0</td></tr><tr><td>C033</td><td>Raghav Khanna</td><td>Pune</td><td>H003</td><td>City Inn</td><td>Bangalore</td><td>B033</td><td>2025-08-04</td><td>3</td><td>9300</td><td>Cancelled</td><td>null</td></tr><tr><td>C034</td><td>Divya Sharma</td><td>Delhi</td><td>H004</td><td>Mountain View</td><td>Manali</td><td>B034</td><td>2025-08-06</td><td>4</td><td>19200</td><td>Booked</td><td>5.0</td></tr><tr><td>C035</td><td>Varun Nair</td><td>Kochi</td><td>H005</td><td>Desert Oasis</td><td>Jaipur</td><td>B035</td><td>2025-08-08</td><td>5</td><td>25000</td><td>Booked</td><td>5.0</td></tr><tr><td>C036</td><td>Anushka Jain</td><td>Mumbai</td><td>H001</td><td>Grand Palace</td><td>Delhi</td><td>B036</td><td>2025-09-01</td><td>3</td><td>16500</td><td>Booked</td><td>4.0</td></tr><tr><td>C037</td><td>Rohit Sen</td><td>Kolkata</td><td>H002</td><td>Sea Breeze</td><td>Mumbai</td><td>B037</td><td>2025-09-02</td><td>4</td><td>20800</td><td>Booked</td><td>5.0</td></tr><tr><td>C038</td><td>Harshita Patel</td><td>Ahmedabad</td><td>H003</td><td>City Inn</td><td>Bangalore</td><td>B038</td><td>2025-09-03</td><td>2</td><td>6200</td><td>Cancelled</td><td>null</td></tr><tr><td>C039</td><td>Deepak Malhotra</td><td>Delhi</td><td>H004</td><td>Mountain View</td><td>Manali</td><td>B039</td><td>2025-09-05</td><td>3</td><td>15000</td><td>Booked</td><td>4.0</td></tr><tr><td>C040</td><td>Sonia Gill</td><td>Lucknow</td><td>H005</td><td>Desert Oasis</td><td>Jaipur</td><td>B040</td><td>2025-09-07</td><td>4</td><td>18000</td><td>Booked</td><td>5.0</td></tr><tr><td>C041</td><td>Yash Agarwal</td><td>Delhi</td><td>H001</td><td>Grand Palace</td><td>Delhi</td><td>B041</td><td>2025-10-01</td><td>2</td><td>11000</td><td>Booked</td><td>4.0</td></tr><tr><td>C042</td><td>Shalini Deshmukh</td><td>Pune</td><td>H002</td><td>Sea Breeze</td><td>Mumbai</td><td>B042</td><td>2025-10-03</td><td>3</td><td>15900</td><td>Cancelled</td><td>null</td></tr><tr><td>C043</td><td>Naveen Kumar</td><td>Mumbai</td><td>H003</td><td>City Inn</td><td>Bangalore</td><td>B043</td><td>2025-10-05</td><td>4</td><td>19200</td><td>Booked</td><td>5.0</td></tr><tr><td>C044</td><td>Priya Thakur</td><td>Indore</td><td>H004</td><td>Mountain View</td><td>Manali</td><td>B044</td><td>2025-10-07</td><td>5</td><td>25000</td><td>Booked</td><td>5.0</td></tr><tr><td>C045</td><td>Rajat Bansal</td><td>Delhi</td><td>H005</td><td>Desert Oasis</td><td>Jaipur</td><td>B045</td><td>2025-10-08</td><td>3</td><td>9600</td><td>Booked</td><td>4.0</td></tr><tr><td>C046</td><td>Sanya Kapoor</td><td>Jaipur</td><td>H001</td><td>Grand Palace</td><td>Delhi</td><td>B046</td><td>2025-11-01</td><td>4</td><td>22000</td><td>Booked</td><td>5.0</td></tr><tr><td>C047</td><td>Akash Mehta</td><td>Bangalore</td><td>H002</td><td>Sea Breeze</td><td>Mumbai</td><td>B047</td><td>2025-11-03</td><td>2</td><td>7000</td><td>Booked</td><td>3.0</td></tr><tr><td>C048</td><td>Tarun Joshi</td><td>Delhi</td><td>H003</td><td>City Inn</td><td>Bangalore</td><td>B048</td><td>2025-11-05</td><td>3</td><td>9600</td><td>Cancelled</td><td>null</td></tr><tr><td>C049</td><td>Pallavi Sinha</td><td>Kolkata</td><td>H004</td><td>Mountain View</td><td>Manali</td><td>B049</td><td>2025-11-07</td><td>2</td><td>10000</td><td>Booked</td><td>4.0</td></tr><tr><td>C050</td><td>Samar Khan</td><td>Delhi</td><td>H005</td><td>Desert Oasis</td><td>Jaipur</td><td>B050</td><td>2025-11-09</td><td>5</td><td>24000</td><td>Booked</td><td>5.0</td></tr></tbody></table></div>"
      ]
     },
     "metadata": {
      "application/vnd.databricks.v1+output": {
       "addedWidgets": {},
       "aggData": [],
       "aggError": "",
       "aggOverflow": false,
       "aggSchema": [],
       "aggSeriesLimitReached": false,
       "aggType": "",
       "arguments": {},
       "columnCustomDisplayInfos": {},
       "data": [
        [
         "C001",
         "Amit Sharma",
         "Delhi",
         "H001",
         "Grand Palace",
         "Delhi",
         "B001",
         "2025-01-05",
         3,
         15000,
         "Booked",
         5.0
        ],
        [
         "C002",
         "Neha Gupta",
         "Mumbai",
         "H002",
         "Sea Breeze",
         "Mumbai",
         "B002",
         "2025-01-06",
         2,
         7000,
         "Cancelled",
         null
        ],
        [
         "C003",
         "Ravi Kumar",
         "Bangalore",
         "H003",
         "City Inn",
         "Bangalore",
         "B003",
         "2025-02-10",
         4,
         18000,
         "Booked",
         4.0
        ],
        [
         "C004",
         "Simran Kaur",
         "Chandigarh",
         "H004",
         "Mountain View",
         "Manali",
         "B004",
         "2025-02-12",
         5,
         25000,
         "Booked",
         5.0
        ],
        [
         "C005",
         "Arjun Mehta",
         "Jaipur",
         "H005",
         "Desert Oasis",
         "Jaipur",
         "B005",
         "2025-02-15",
         2,
         6000,
         "Cancelled",
         null
        ],
        [
         "C006",
         "Pooja Singh",
         "Delhi",
         "H001",
         "Grand Palace",
         "Delhi",
         "B006",
         "2025-03-03",
         3,
         15600,
         "Booked",
         4.0
        ],
        [
         "C007",
         "Manish Yadav",
         "Mumbai",
         "H002",
         "Sea Breeze",
         "Mumbai",
         "B007",
         "2025-03-04",
         4,
         21200,
         "Booked",
         5.0
        ],
        [
         "C008",
         "Shweta Verma",
         "Bangalore",
         "H003",
         "City Inn",
         "Bangalore",
         "B008",
         "2025-03-07",
         2,
         6600,
         "Booked",
         3.0
        ],
        [
         "C009",
         "Vikram Rao",
         "Hyderabad",
         "H004",
         "Mountain View",
         "Manali",
         "B009",
         "2025-03-08",
         3,
         14400,
         "Booked",
         4.0
        ],
        [
         "C010",
         "Anjali Patel",
         "Ahmedabad",
         "H005",
         "Desert Oasis",
         "Jaipur",
         "B010",
         "2025-03-10",
         4,
         13200,
         "Cancelled",
         null
        ],
        [
         "C011",
         "Rahul Nair",
         "Kochi",
         "H001",
         "Grand Palace",
         "Delhi",
         "B011",
         "2025-04-02",
         2,
         10600,
         "Booked",
         4.0
        ],
        [
         "C012",
         "Isha Kapoor",
         "Pune",
         "H002",
         "Sea Breeze",
         "Mumbai",
         "B012",
         "2025-04-05",
         3,
         15300,
         "Booked",
         5.0
        ],
        [
         "C013",
         "Saurabh Joshi",
         "Delhi",
         "H003",
         "City Inn",
         "Bangalore",
         "B013",
         "2025-04-07",
         4,
         18800,
         "Cancelled",
         null
        ],
        [
         "C014",
         "Kritika Arora",
         "Mumbai",
         "H004",
         "Mountain View",
         "Manali",
         "B014",
         "2025-04-08",
         5,
         35000,
         "Booked",
         5.0
        ],
        [
         "C015",
         "Aditya Jain",
         "Bhopal",
         "H005",
         "Desert Oasis",
         "Jaipur",
         "B015",
         "2025-04-10",
         3,
         9000,
         "Booked",
         3.0
        ],
        [
         "C016",
         "Ritika Malhotra",
         "Delhi",
         "H001",
         "Grand Palace",
         "Delhi",
         "B016",
         "2025-05-01",
         4,
         22000,
         "Booked",
         5.0
        ],
        [
         "C017",
         "Abhishek Singh",
         "Mumbai",
         "H002",
         "Sea Breeze",
         "Mumbai",
         "B017",
         "2025-05-03",
         2,
         6800,
         "Cancelled",
         null
        ],
        [
         "C018",
         "Meena Reddy",
         "Hyderabad",
         "H003",
         "City Inn",
         "Bangalore",
         "B018",
         "2025-05-05",
         3,
         9600,
         "Booked",
         4.0
        ],
        [
         "C019",
         "Ankit Thakur",
         "Chandigarh",
         "H004",
         "Mountain View",
         "Manali",
         "B019",
         "2025-05-07",
         4,
         20000,
         "Booked",
         5.0
        ],
        [
         "C020",
         "Sneha Desai",
         "Surat",
         "H005",
         "Desert Oasis",
         "Jaipur",
         "B020",
         "2025-05-09",
         2,
         6200,
         "Booked",
         4.0
        ],
        [
         "C021",
         "Arnav Sharma",
         "Delhi",
         "H001",
         "Grand Palace",
         "Delhi",
         "B021",
         "2025-06-02",
         3,
         16200,
         "Booked",
         4.0
        ],
        [
         "C022",
         "Payal Ghosh",
         "Kolkata",
         "H002",
         "Sea Breeze",
         "Mumbai",
         "B022",
         "2025-06-04",
         4,
         27200,
         "Booked",
         5.0
        ],
        [
         "C023",
         "Karan Kapoor",
         "Lucknow",
         "H003",
         "City Inn",
         "Bangalore",
         "B023",
         "2025-06-06",
         2,
         6000,
         "Cancelled",
         null
        ],
        [
         "C024",
         "Tanya Bansal",
         "Indore",
         "H004",
         "Mountain View",
         "Manali",
         "B024",
         "2025-06-07",
         3,
         15000,
         "Booked",
         5.0
        ],
        [
         "C025",
         "Devendra Rao",
         "Hyderabad",
         "H005",
         "Desert Oasis",
         "Jaipur",
         "B025",
         "2025-06-09",
         4,
         16000,
         "Booked",
         4.0
        ],
        [
         "C026",
         "Roshni Das",
         "Kolkata",
         "H001",
         "Grand Palace",
         "Delhi",
         "B026",
         "2025-07-01",
         2,
         10800,
         "Booked",
         4.0
        ],
        [
         "C027",
         "Siddharth Joshi",
         "Delhi",
         "H002",
         "Sea Breeze",
         "Mumbai",
         "B027",
         "2025-07-02",
         3,
         15300,
         "Cancelled",
         null
        ],
        [
         "C028",
         "Monika Chauhan",
         "Pune",
         "H003",
         "City Inn",
         "Bangalore",
         "B028",
         "2025-07-04",
         5,
         30000,
         "Booked",
         5.0
        ],
        [
         "C029",
         "Nitin Arora",
         "Mumbai",
         "H004",
         "Mountain View",
         "Manali",
         "B029",
         "2025-07-06",
         2,
         10500,
         "Booked",
         3.0
        ],
        [
         "C030",
         "Priyanka Rathi",
         "Bangalore",
         "H005",
         "Desert Oasis",
         "Jaipur",
         "B030",
         "2025-07-08",
         3,
         9600,
         "Booked",
         4.0
        ],
        [
         "C031",
         "Ashutosh Verma",
         "Delhi",
         "H001",
         "Grand Palace",
         "Delhi",
         "B031",
         "2025-08-01",
         4,
         22000,
         "Booked",
         5.0
        ],
        [
         "C032",
         "Kajal Mishra",
         "Mumbai",
         "H002",
         "Sea Breeze",
         "Mumbai",
         "B032",
         "2025-08-02",
         2,
         7000,
         "Booked",
         4.0
        ],
        [
         "C033",
         "Raghav Khanna",
         "Pune",
         "H003",
         "City Inn",
         "Bangalore",
         "B033",
         "2025-08-04",
         3,
         9300,
         "Cancelled",
         null
        ],
        [
         "C034",
         "Divya Sharma",
         "Delhi",
         "H004",
         "Mountain View",
         "Manali",
         "B034",
         "2025-08-06",
         4,
         19200,
         "Booked",
         5.0
        ],
        [
         "C035",
         "Varun Nair",
         "Kochi",
         "H005",
         "Desert Oasis",
         "Jaipur",
         "B035",
         "2025-08-08",
         5,
         25000,
         "Booked",
         5.0
        ],
        [
         "C036",
         "Anushka Jain",
         "Mumbai",
         "H001",
         "Grand Palace",
         "Delhi",
         "B036",
         "2025-09-01",
         3,
         16500,
         "Booked",
         4.0
        ],
        [
         "C037",
         "Rohit Sen",
         "Kolkata",
         "H002",
         "Sea Breeze",
         "Mumbai",
         "B037",
         "2025-09-02",
         4,
         20800,
         "Booked",
         5.0
        ],
        [
         "C038",
         "Harshita Patel",
         "Ahmedabad",
         "H003",
         "City Inn",
         "Bangalore",
         "B038",
         "2025-09-03",
         2,
         6200,
         "Cancelled",
         null
        ],
        [
         "C039",
         "Deepak Malhotra",
         "Delhi",
         "H004",
         "Mountain View",
         "Manali",
         "B039",
         "2025-09-05",
         3,
         15000,
         "Booked",
         4.0
        ],
        [
         "C040",
         "Sonia Gill",
         "Lucknow",
         "H005",
         "Desert Oasis",
         "Jaipur",
         "B040",
         "2025-09-07",
         4,
         18000,
         "Booked",
         5.0
        ],
        [
         "C041",
         "Yash Agarwal",
         "Delhi",
         "H001",
         "Grand Palace",
         "Delhi",
         "B041",
         "2025-10-01",
         2,
         11000,
         "Booked",
         4.0
        ],
        [
         "C042",
         "Shalini Deshmukh",
         "Pune",
         "H002",
         "Sea Breeze",
         "Mumbai",
         "B042",
         "2025-10-03",
         3,
         15900,
         "Cancelled",
         null
        ],
        [
         "C043",
         "Naveen Kumar",
         "Mumbai",
         "H003",
         "City Inn",
         "Bangalore",
         "B043",
         "2025-10-05",
         4,
         19200,
         "Booked",
         5.0
        ],
        [
         "C044",
         "Priya Thakur",
         "Indore",
         "H004",
         "Mountain View",
         "Manali",
         "B044",
         "2025-10-07",
         5,
         25000,
         "Booked",
         5.0
        ],
        [
         "C045",
         "Rajat Bansal",
         "Delhi",
         "H005",
         "Desert Oasis",
         "Jaipur",
         "B045",
         "2025-10-08",
         3,
         9600,
         "Booked",
         4.0
        ],
        [
         "C046",
         "Sanya Kapoor",
         "Jaipur",
         "H001",
         "Grand Palace",
         "Delhi",
         "B046",
         "2025-11-01",
         4,
         22000,
         "Booked",
         5.0
        ],
        [
         "C047",
         "Akash Mehta",
         "Bangalore",
         "H002",
         "Sea Breeze",
         "Mumbai",
         "B047",
         "2025-11-03",
         2,
         7000,
         "Booked",
         3.0
        ],
        [
         "C048",
         "Tarun Joshi",
         "Delhi",
         "H003",
         "City Inn",
         "Bangalore",
         "B048",
         "2025-11-05",
         3,
         9600,
         "Cancelled",
         null
        ],
        [
         "C049",
         "Pallavi Sinha",
         "Kolkata",
         "H004",
         "Mountain View",
         "Manali",
         "B049",
         "2025-11-07",
         2,
         10000,
         "Booked",
         4.0
        ],
        [
         "C050",
         "Samar Khan",
         "Delhi",
         "H005",
         "Desert Oasis",
         "Jaipur",
         "B050",
         "2025-11-09",
         5,
         24000,
         "Booked",
         5.0
        ]
       ],
       "datasetInfos": [
        {
         "name": "_sqldf",
         "schema": {
          "fields": [
           {
            "metadata": {},
            "name": "customer_id",
            "nullable": true,
            "type": "string"
           },
           {
            "metadata": {},
            "name": "customer_name",
            "nullable": true,
            "type": "string"
           },
           {
            "metadata": {},
            "name": "customer_city",
            "nullable": true,
            "type": "string"
           },
           {
            "metadata": {},
            "name": "hotel_id",
            "nullable": true,
            "type": "string"
           },
           {
            "metadata": {},
            "name": "hotel_name",
            "nullable": true,
            "type": "string"
           },
           {
            "metadata": {},
            "name": "hotel_city",
            "nullable": true,
            "type": "string"
           },
           {
            "metadata": {},
            "name": "booking_id",
            "nullable": true,
            "type": "string"
           },
           {
            "metadata": {
             "__detected_date_formats": "yyyy-M-d"
            },
            "name": "booking_date",
            "nullable": true,
            "type": "date"
           },
           {
            "metadata": {},
            "name": "stay_duration",
            "nullable": true,
            "type": "integer"
           },
           {
            "metadata": {},
            "name": "amount_spent",
            "nullable": true,
            "type": "integer"
           },
           {
            "metadata": {},
            "name": "status",
            "nullable": true,
            "type": "string"
           },
           {
            "metadata": {},
            "name": "rating",
            "nullable": true,
            "type": "double"
           }
          ],
          "type": "struct"
         },
         "tableIdentifier": null,
         "typeStr": "pyspark.sql.connect.dataframe.DataFrame"
        }
       ],
       "dbfsResultPath": null,
       "isJsonSchema": true,
       "metadata": {
        "createTempViewForImplicitDf": true,
        "dataframeName": "_sqldf",
        "executionCount": 23
       },
       "overflow": false,
       "plotOptions": {
        "customPlotOptions": {},
        "displayType": "table",
        "pivotAggregation": null,
        "pivotColumns": null,
        "xColumns": null,
        "yColumns": null
       },
       "removedWidgets": [],
       "schema": [
        {
         "metadata": "{}",
         "name": "customer_id",
         "type": "\"string\""
        },
        {
         "metadata": "{}",
         "name": "customer_name",
         "type": "\"string\""
        },
        {
         "metadata": "{}",
         "name": "customer_city",
         "type": "\"string\""
        },
        {
         "metadata": "{}",
         "name": "hotel_id",
         "type": "\"string\""
        },
        {
         "metadata": "{}",
         "name": "hotel_name",
         "type": "\"string\""
        },
        {
         "metadata": "{}",
         "name": "hotel_city",
         "type": "\"string\""
        },
        {
         "metadata": "{}",
         "name": "booking_id",
         "type": "\"string\""
        },
        {
         "metadata": "{\"__detected_date_formats\": \"yyyy-M-d\"}",
         "name": "booking_date",
         "type": "\"date\""
        },
        {
         "metadata": "{}",
         "name": "stay_duration",
         "type": "\"integer\""
        },
        {
         "metadata": "{}",
         "name": "amount_spent",
         "type": "\"integer\""
        },
        {
         "metadata": "{}",
         "name": "status",
         "type": "\"string\""
        },
        {
         "metadata": "{}",
         "name": "rating",
         "type": "\"double\""
        }
       ],
       "type": "table"
      }
     },
     "output_type": "display_data"
    }
   ],
   "source": [
    "%sql\n",
    "SELECT * FROM `dlt_demo`.`default`.`hotel_bookings_full`;"
   ]
  },
  {
   "cell_type": "code",
   "execution_count": 0,
   "metadata": {
    "application/vnd.databricks.v1+cell": {
     "cellMetadata": {
      "byteLimit": 2048000,
      "implicitDf": true,
      "rowLimit": 10000
     },
     "inputWidgets": {},
     "nuid": "5cea7799-ced7-478f-91f9-80d1441387cb",
     "showTitle": false,
     "tableResultSettingsMap": {},
     "title": ""
    }
   },
   "outputs": [
    {
     "output_type": "display_data",
     "data": {
      "text/html": [
       "<style scoped>\n",
       "  .table-result-container {\n",
       "    max-height: 300px;\n",
       "    overflow: auto;\n",
       "  }\n",
       "  table, th, td {\n",
       "    border: 1px solid black;\n",
       "    border-collapse: collapse;\n",
       "  }\n",
       "  th, td {\n",
       "    padding: 5px;\n",
       "  }\n",
       "  th {\n",
       "    text-align: left;\n",
       "  }\n",
       "</style><div class='table-result-container'><table class='table-result'><thead style='background-color: white'><tr><th>customer_id</th><th>customer_name</th><th>customer_city</th><th>hotel_id</th><th>hotel_name</th><th>hotel_city</th><th>booking_id</th><th>booking_date</th><th>stay_duration</th><th>amount_spent</th><th>status</th><th>rating</th></tr></thead><tbody><tr><td>C001</td><td>Amit Sharma</td><td>Delhi</td><td>H001</td><td>Grand Palace</td><td>Delhi</td><td>B001</td><td>2025-01-05</td><td>3</td><td>15000</td><td>Booked</td><td>5.0</td></tr><tr><td>C002</td><td>Neha Gupta</td><td>Mumbai</td><td>H002</td><td>Sea Breeze</td><td>Mumbai</td><td>B002</td><td>2025-01-06</td><td>2</td><td>7000</td><td>Cancelled</td><td>null</td></tr><tr><td>C003</td><td>Ravi Kumar</td><td>Bangalore</td><td>H003</td><td>City Inn</td><td>Bangalore</td><td>B003</td><td>2025-02-10</td><td>4</td><td>18000</td><td>Booked</td><td>4.0</td></tr><tr><td>C004</td><td>Simran Kaur</td><td>Chandigarh</td><td>H004</td><td>Mountain View</td><td>Manali</td><td>B004</td><td>2025-02-12</td><td>5</td><td>25000</td><td>Booked</td><td>5.0</td></tr><tr><td>C005</td><td>Arjun Mehta</td><td>Jaipur</td><td>H005</td><td>Desert Oasis</td><td>Jaipur</td><td>B005</td><td>2025-02-15</td><td>2</td><td>6000</td><td>Cancelled</td><td>null</td></tr><tr><td>C006</td><td>Pooja Singh</td><td>Delhi</td><td>H001</td><td>Grand Palace</td><td>Delhi</td><td>B006</td><td>2025-03-03</td><td>3</td><td>15600</td><td>Booked</td><td>4.0</td></tr><tr><td>C007</td><td>Manish Yadav</td><td>Mumbai</td><td>H002</td><td>Sea Breeze</td><td>Mumbai</td><td>B007</td><td>2025-03-04</td><td>4</td><td>21200</td><td>Booked</td><td>5.0</td></tr><tr><td>C008</td><td>Shweta Verma</td><td>Bangalore</td><td>H003</td><td>City Inn</td><td>Bangalore</td><td>B008</td><td>2025-03-07</td><td>2</td><td>6600</td><td>Booked</td><td>3.0</td></tr><tr><td>C009</td><td>Vikram Rao</td><td>Hyderabad</td><td>H004</td><td>Mountain View</td><td>Manali</td><td>B009</td><td>2025-03-08</td><td>3</td><td>14400</td><td>Booked</td><td>4.0</td></tr><tr><td>C010</td><td>Anjali Patel</td><td>Ahmedabad</td><td>H005</td><td>Desert Oasis</td><td>Jaipur</td><td>B010</td><td>2025-03-10</td><td>4</td><td>13200</td><td>Cancelled</td><td>null</td></tr><tr><td>C011</td><td>Rahul Nair</td><td>Kochi</td><td>H001</td><td>Grand Palace</td><td>Delhi</td><td>B011</td><td>2025-04-02</td><td>2</td><td>10600</td><td>Booked</td><td>4.0</td></tr><tr><td>C012</td><td>Isha Kapoor</td><td>Pune</td><td>H002</td><td>Sea Breeze</td><td>Mumbai</td><td>B012</td><td>2025-04-05</td><td>3</td><td>15300</td><td>Booked</td><td>5.0</td></tr><tr><td>C013</td><td>Saurabh Joshi</td><td>Delhi</td><td>H003</td><td>City Inn</td><td>Bangalore</td><td>B013</td><td>2025-04-07</td><td>4</td><td>18800</td><td>Cancelled</td><td>null</td></tr><tr><td>C014</td><td>Kritika Arora</td><td>Mumbai</td><td>H004</td><td>Mountain View</td><td>Manali</td><td>B014</td><td>2025-04-08</td><td>5</td><td>35000</td><td>Booked</td><td>5.0</td></tr><tr><td>C015</td><td>Aditya Jain</td><td>Bhopal</td><td>H005</td><td>Desert Oasis</td><td>Jaipur</td><td>B015</td><td>2025-04-10</td><td>3</td><td>9000</td><td>Booked</td><td>3.0</td></tr><tr><td>C016</td><td>Ritika Malhotra</td><td>Delhi</td><td>H001</td><td>Grand Palace</td><td>Delhi</td><td>B016</td><td>2025-05-01</td><td>4</td><td>22000</td><td>Booked</td><td>5.0</td></tr><tr><td>C017</td><td>Abhishek Singh</td><td>Mumbai</td><td>H002</td><td>Sea Breeze</td><td>Mumbai</td><td>B017</td><td>2025-05-03</td><td>2</td><td>6800</td><td>Cancelled</td><td>null</td></tr><tr><td>C018</td><td>Meena Reddy</td><td>Hyderabad</td><td>H003</td><td>City Inn</td><td>Bangalore</td><td>B018</td><td>2025-05-05</td><td>3</td><td>9600</td><td>Booked</td><td>4.0</td></tr><tr><td>C019</td><td>Ankit Thakur</td><td>Chandigarh</td><td>H004</td><td>Mountain View</td><td>Manali</td><td>B019</td><td>2025-05-07</td><td>4</td><td>20000</td><td>Booked</td><td>5.0</td></tr><tr><td>C020</td><td>Sneha Desai</td><td>Surat</td><td>H005</td><td>Desert Oasis</td><td>Jaipur</td><td>B020</td><td>2025-05-09</td><td>2</td><td>6200</td><td>Booked</td><td>4.0</td></tr></tbody></table></div>"
      ]
     },
     "metadata": {
      "application/vnd.databricks.v1+output": {
       "addedWidgets": {},
       "aggData": [],
       "aggError": "",
       "aggOverflow": false,
       "aggSchema": [],
       "aggSeriesLimitReached": false,
       "aggType": "",
       "arguments": {},
       "columnCustomDisplayInfos": {},
       "data": [
        [
         "C001",
         "Amit Sharma",
         "Delhi",
         "H001",
         "Grand Palace",
         "Delhi",
         "B001",
         "2025-01-05",
         3,
         15000,
         "Booked",
         5.0
        ],
        [
         "C002",
         "Neha Gupta",
         "Mumbai",
         "H002",
         "Sea Breeze",
         "Mumbai",
         "B002",
         "2025-01-06",
         2,
         7000,
         "Cancelled",
         null
        ],
        [
         "C003",
         "Ravi Kumar",
         "Bangalore",
         "H003",
         "City Inn",
         "Bangalore",
         "B003",
         "2025-02-10",
         4,
         18000,
         "Booked",
         4.0
        ],
        [
         "C004",
         "Simran Kaur",
         "Chandigarh",
         "H004",
         "Mountain View",
         "Manali",
         "B004",
         "2025-02-12",
         5,
         25000,
         "Booked",
         5.0
        ],
        [
         "C005",
         "Arjun Mehta",
         "Jaipur",
         "H005",
         "Desert Oasis",
         "Jaipur",
         "B005",
         "2025-02-15",
         2,
         6000,
         "Cancelled",
         null
        ],
        [
         "C006",
         "Pooja Singh",
         "Delhi",
         "H001",
         "Grand Palace",
         "Delhi",
         "B006",
         "2025-03-03",
         3,
         15600,
         "Booked",
         4.0
        ],
        [
         "C007",
         "Manish Yadav",
         "Mumbai",
         "H002",
         "Sea Breeze",
         "Mumbai",
         "B007",
         "2025-03-04",
         4,
         21200,
         "Booked",
         5.0
        ],
        [
         "C008",
         "Shweta Verma",
         "Bangalore",
         "H003",
         "City Inn",
         "Bangalore",
         "B008",
         "2025-03-07",
         2,
         6600,
         "Booked",
         3.0
        ],
        [
         "C009",
         "Vikram Rao",
         "Hyderabad",
         "H004",
         "Mountain View",
         "Manali",
         "B009",
         "2025-03-08",
         3,
         14400,
         "Booked",
         4.0
        ],
        [
         "C010",
         "Anjali Patel",
         "Ahmedabad",
         "H005",
         "Desert Oasis",
         "Jaipur",
         "B010",
         "2025-03-10",
         4,
         13200,
         "Cancelled",
         null
        ],
        [
         "C011",
         "Rahul Nair",
         "Kochi",
         "H001",
         "Grand Palace",
         "Delhi",
         "B011",
         "2025-04-02",
         2,
         10600,
         "Booked",
         4.0
        ],
        [
         "C012",
         "Isha Kapoor",
         "Pune",
         "H002",
         "Sea Breeze",
         "Mumbai",
         "B012",
         "2025-04-05",
         3,
         15300,
         "Booked",
         5.0
        ],
        [
         "C013",
         "Saurabh Joshi",
         "Delhi",
         "H003",
         "City Inn",
         "Bangalore",
         "B013",
         "2025-04-07",
         4,
         18800,
         "Cancelled",
         null
        ],
        [
         "C014",
         "Kritika Arora",
         "Mumbai",
         "H004",
         "Mountain View",
         "Manali",
         "B014",
         "2025-04-08",
         5,
         35000,
         "Booked",
         5.0
        ],
        [
         "C015",
         "Aditya Jain",
         "Bhopal",
         "H005",
         "Desert Oasis",
         "Jaipur",
         "B015",
         "2025-04-10",
         3,
         9000,
         "Booked",
         3.0
        ],
        [
         "C016",
         "Ritika Malhotra",
         "Delhi",
         "H001",
         "Grand Palace",
         "Delhi",
         "B016",
         "2025-05-01",
         4,
         22000,
         "Booked",
         5.0
        ],
        [
         "C017",
         "Abhishek Singh",
         "Mumbai",
         "H002",
         "Sea Breeze",
         "Mumbai",
         "B017",
         "2025-05-03",
         2,
         6800,
         "Cancelled",
         null
        ],
        [
         "C018",
         "Meena Reddy",
         "Hyderabad",
         "H003",
         "City Inn",
         "Bangalore",
         "B018",
         "2025-05-05",
         3,
         9600,
         "Booked",
         4.0
        ],
        [
         "C019",
         "Ankit Thakur",
         "Chandigarh",
         "H004",
         "Mountain View",
         "Manali",
         "B019",
         "2025-05-07",
         4,
         20000,
         "Booked",
         5.0
        ],
        [
         "C020",
         "Sneha Desai",
         "Surat",
         "H005",
         "Desert Oasis",
         "Jaipur",
         "B020",
         "2025-05-09",
         2,
         6200,
         "Booked",
         4.0
        ]
       ],
       "datasetInfos": [
        {
         "name": "_sqldf",
         "schema": {
          "fields": [
           {
            "metadata": {},
            "name": "customer_id",
            "nullable": true,
            "type": "string"
           },
           {
            "metadata": {},
            "name": "customer_name",
            "nullable": true,
            "type": "string"
           },
           {
            "metadata": {},
            "name": "customer_city",
            "nullable": true,
            "type": "string"
           },
           {
            "metadata": {},
            "name": "hotel_id",
            "nullable": true,
            "type": "string"
           },
           {
            "metadata": {},
            "name": "hotel_name",
            "nullable": true,
            "type": "string"
           },
           {
            "metadata": {},
            "name": "hotel_city",
            "nullable": true,
            "type": "string"
           },
           {
            "metadata": {},
            "name": "booking_id",
            "nullable": true,
            "type": "string"
           },
           {
            "metadata": {
             "__detected_date_formats": "yyyy-M-d"
            },
            "name": "booking_date",
            "nullable": true,
            "type": "date"
           },
           {
            "metadata": {},
            "name": "stay_duration",
            "nullable": true,
            "type": "integer"
           },
           {
            "metadata": {},
            "name": "amount_spent",
            "nullable": true,
            "type": "integer"
           },
           {
            "metadata": {},
            "name": "status",
            "nullable": true,
            "type": "string"
           },
           {
            "metadata": {},
            "name": "rating",
            "nullable": true,
            "type": "double"
           }
          ],
          "type": "struct"
         },
         "tableIdentifier": null,
         "typeStr": "pyspark.sql.connect.dataframe.DataFrame"
        }
       ],
       "dbfsResultPath": null,
       "isJsonSchema": true,
       "metadata": {
        "createTempViewForImplicitDf": true,
        "dataframeName": "_sqldf",
        "executionCount": 25
       },
       "overflow": false,
       "plotOptions": {
        "customPlotOptions": {},
        "displayType": "table",
        "pivotAggregation": null,
        "pivotColumns": null,
        "xColumns": null,
        "yColumns": null
       },
       "removedWidgets": [],
       "schema": [
        {
         "metadata": "{}",
         "name": "customer_id",
         "type": "\"string\""
        },
        {
         "metadata": "{}",
         "name": "customer_name",
         "type": "\"string\""
        },
        {
         "metadata": "{}",
         "name": "customer_city",
         "type": "\"string\""
        },
        {
         "metadata": "{}",
         "name": "hotel_id",
         "type": "\"string\""
        },
        {
         "metadata": "{}",
         "name": "hotel_name",
         "type": "\"string\""
        },
        {
         "metadata": "{}",
         "name": "hotel_city",
         "type": "\"string\""
        },
        {
         "metadata": "{}",
         "name": "booking_id",
         "type": "\"string\""
        },
        {
         "metadata": "{\"__detected_date_formats\": \"yyyy-M-d\"}",
         "name": "booking_date",
         "type": "\"date\""
        },
        {
         "metadata": "{}",
         "name": "stay_duration",
         "type": "\"integer\""
        },
        {
         "metadata": "{}",
         "name": "amount_spent",
         "type": "\"integer\""
        },
        {
         "metadata": "{}",
         "name": "status",
         "type": "\"string\""
        },
        {
         "metadata": "{}",
         "name": "rating",
         "type": "\"double\""
        }
       ],
       "type": "table"
      }
     },
     "output_type": "display_data"
    }
   ],
   "source": [
    "%sql\n",
    "-- Preview Data\n",
    "SELECT * FROM dlt_demo.default.hotel_bookings_full LIMIT 20;"
   ]
  },
  {
   "cell_type": "markdown",
   "metadata": {
    "application/vnd.databricks.v1+cell": {
     "cellMetadata": {},
     "inputWidgets": {},
     "nuid": "b15a29a1-35fa-467f-b22c-b0c0f9a21927",
     "showTitle": false,
     "tableResultSettingsMap": {},
     "title": ""
    }
   },
   "source": [
    "Pyspark COre\n"
   ]
  },
  {
   "cell_type": "code",
   "execution_count": 0,
   "metadata": {
    "application/vnd.databricks.v1+cell": {
     "cellMetadata": {
      "byteLimit": 2048000,
      "rowLimit": 10000
     },
     "inputWidgets": {},
     "nuid": "09625b17-65bc-48d0-9ccc-fc7b2fc657a0",
     "showTitle": false,
     "tableResultSettingsMap": {},
     "title": ""
    }
   },
   "outputs": [
    {
     "output_type": "display_data",
     "data": {
      "text/html": [
       "<style scoped>\n",
       "  .table-result-container {\n",
       "    max-height: 300px;\n",
       "    overflow: auto;\n",
       "  }\n",
       "  table, th, td {\n",
       "    border: 1px solid black;\n",
       "    border-collapse: collapse;\n",
       "  }\n",
       "  th, td {\n",
       "    padding: 5px;\n",
       "  }\n",
       "  th {\n",
       "    text-align: left;\n",
       "  }\n",
       "</style><div class='table-result-container'><table class='table-result'><thead style='background-color: white'><tr><th>customer_id</th><th>customer_name</th><th>customer_city</th><th>hotel_id</th><th>hotel_name</th><th>hotel_city</th><th>booking_date</th><th>nights</th><th>price_per_night</th><th>total_amount</th></tr></thead><tbody><tr><td>C001</td><td>Neha</td><td>Bangalore</td><td>H03</td><td>Hotel Grand</td><td>Mumbai</td><td>2023-05-26</td><td>2</td><td>6329</td><td>12658</td></tr><tr><td>C002</td><td>Neha</td><td>Bangalore</td><td>H01</td><td>Hotel Grand</td><td>Delhi</td><td>2023-11-29</td><td>5</td><td>4568</td><td>22840</td></tr><tr><td>C003</td><td>Amit</td><td>Hyderabad</td><td>H03</td><td>Sunshine Inn</td><td>Chennai</td><td>2023-08-18</td><td>5</td><td>5809</td><td>29045</td></tr><tr><td>C004</td><td>Sunil</td><td>Pune</td><td>H01</td><td>Sunshine Inn</td><td>Chennai</td><td>2023-03-07</td><td>4</td><td>4086</td><td>16344</td></tr><tr><td>C005</td><td>Manoj</td><td>Mumbai</td><td>H03</td><td>Sunshine Inn</td><td>Pune</td><td>2023-08-12</td><td>1</td><td>2136</td><td>2136</td></tr><tr><td>C006</td><td>Ravi</td><td>Pune</td><td>H05</td><td>Sunshine Inn</td><td>Delhi</td><td>2023-11-02</td><td>1</td><td>6470</td><td>6470</td></tr><tr><td>C007</td><td>Kiran</td><td>Chennai</td><td>H02</td><td>City Palace</td><td>Delhi</td><td>2023-09-08</td><td>6</td><td>2676</td><td>16056</td></tr><tr><td>C008</td><td>Amit</td><td>Hyderabad</td><td>H01</td><td>City Palace</td><td>Bangalore</td><td>2023-11-08</td><td>2</td><td>7001</td><td>14002</td></tr><tr><td>C009</td><td>Anita</td><td>Pune</td><td>H05</td><td>Sunshine Inn</td><td>Mumbai</td><td>2023-11-12</td><td>5</td><td>7963</td><td>39815</td></tr><tr><td>C010</td><td>Sunil</td><td>Delhi</td><td>H05</td><td>Sunshine Inn</td><td>Mumbai</td><td>2023-04-07</td><td>6</td><td>5646</td><td>33876</td></tr><tr><td>C011</td><td>Kiran</td><td>Hyderabad</td><td>H05</td><td>Comfort Suites</td><td>Kolkata</td><td>2023-06-15</td><td>1</td><td>7275</td><td>7275</td></tr><tr><td>C012</td><td>Kiran</td><td>Chennai</td><td>H06</td><td>Sea View Resort</td><td>Chennai</td><td>2023-05-30</td><td>2</td><td>7657</td><td>15314</td></tr><tr><td>C013</td><td>Neha</td><td>Hyderabad</td><td>H04</td><td>Sea View Resort</td><td>Kolkata</td><td>2023-10-14</td><td>4</td><td>2388</td><td>9552</td></tr><tr><td>C014</td><td>Priya</td><td>Bangalore</td><td>H04</td><td>Sea View Resort</td><td>Chennai</td><td>2023-04-12</td><td>6</td><td>6307</td><td>37842</td></tr><tr><td>C015</td><td>Anita</td><td>Hyderabad</td><td>H04</td><td>Comfort Suites</td><td>Delhi</td><td>2023-08-18</td><td>5</td><td>6503</td><td>32515</td></tr><tr><td>C016</td><td>Anita</td><td>Mumbai</td><td>H06</td><td>Hotel Grand</td><td>Mumbai</td><td>2023-09-07</td><td>3</td><td>5099</td><td>15297</td></tr><tr><td>C017</td><td>Kiran</td><td>Mumbai</td><td>H03</td><td>City Palace</td><td>Delhi</td><td>2023-12-17</td><td>7</td><td>5223</td><td>36561</td></tr><tr><td>C018</td><td>Neha</td><td>Pune</td><td>H03</td><td>Royal Stay</td><td>Delhi</td><td>2023-09-23</td><td>2</td><td>6791</td><td>13582</td></tr><tr><td>C019</td><td>Sneha</td><td>Bangalore</td><td>H05</td><td>Royal Stay</td><td>Hyderabad</td><td>2023-12-02</td><td>4</td><td>2052</td><td>8208</td></tr><tr><td>C020</td><td>Sneha</td><td>Chennai</td><td>H02</td><td>Comfort Suites</td><td>Pune</td><td>2023-05-01</td><td>2</td><td>3131</td><td>6262</td></tr><tr><td>C021</td><td>Amit</td><td>Chennai</td><td>H04</td><td>Royal Stay</td><td>Kolkata</td><td>2023-06-29</td><td>1</td><td>7285</td><td>7285</td></tr><tr><td>C022</td><td>Amit</td><td>Bangalore</td><td>H02</td><td>Comfort Suites</td><td>Kolkata</td><td>2023-12-31</td><td>6</td><td>7735</td><td>46410</td></tr><tr><td>C023</td><td>Anita</td><td>Chennai</td><td>H06</td><td>Hotel Grand</td><td>Pune</td><td>2023-05-27</td><td>7</td><td>4764</td><td>33348</td></tr><tr><td>C024</td><td>Kiran</td><td>Hyderabad</td><td>H03</td><td>Hotel Grand</td><td>Delhi</td><td>2023-07-24</td><td>4</td><td>2230</td><td>8920</td></tr><tr><td>C025</td><td>Sneha</td><td>Bangalore</td><td>H01</td><td>Comfort Suites</td><td>Delhi</td><td>2023-10-27</td><td>6</td><td>7940</td><td>47640</td></tr><tr><td>C026</td><td>Manoj</td><td>Delhi</td><td>H03</td><td>Hotel Grand</td><td>Delhi</td><td>2023-07-09</td><td>2</td><td>2982</td><td>5964</td></tr><tr><td>C027</td><td>Priya</td><td>Delhi</td><td>H05</td><td>Sunshine Inn</td><td>Mumbai</td><td>2023-04-25</td><td>7</td><td>6133</td><td>42931</td></tr><tr><td>C028</td><td>Priya</td><td>Hyderabad</td><td>H05</td><td>Hotel Grand</td><td>Bangalore</td><td>2023-03-22</td><td>4</td><td>6068</td><td>24272</td></tr><tr><td>C029</td><td>Ravi</td><td>Mumbai</td><td>H03</td><td>City Palace</td><td>Mumbai</td><td>2023-07-21</td><td>7</td><td>4946</td><td>34622</td></tr><tr><td>C030</td><td>Manoj</td><td>Pune</td><td>H02</td><td>Comfort Suites</td><td>Kolkata</td><td>2023-03-20</td><td>7</td><td>4138</td><td>28966</td></tr><tr><td>C031</td><td>Priya</td><td>Kolkata</td><td>H06</td><td>City Palace</td><td>Chennai</td><td>2023-09-10</td><td>1</td><td>7428</td><td>7428</td></tr><tr><td>C032</td><td>Neha</td><td>Kolkata</td><td>H03</td><td>Royal Stay</td><td>Mumbai</td><td>2023-12-10</td><td>3</td><td>4984</td><td>14952</td></tr><tr><td>C033</td><td>Ravi</td><td>Chennai</td><td>H01</td><td>Royal Stay</td><td>Bangalore</td><td>2023-04-11</td><td>3</td><td>5625</td><td>16875</td></tr><tr><td>C034</td><td>Priya</td><td>Hyderabad</td><td>H01</td><td>City Palace</td><td>Pune</td><td>2023-06-16</td><td>6</td><td>4840</td><td>29040</td></tr><tr><td>C035</td><td>Manoj</td><td>Kolkata</td><td>H04</td><td>City Palace</td><td>Delhi</td><td>2023-01-25</td><td>5</td><td>5336</td><td>26680</td></tr><tr><td>C036</td><td>Priya</td><td>Mumbai</td><td>H02</td><td>Hotel Grand</td><td>Bangalore</td><td>2023-11-05</td><td>2</td><td>4536</td><td>9072</td></tr><tr><td>C037</td><td>Amit</td><td>Pune</td><td>H03</td><td>Comfort Suites</td><td>Chennai</td><td>2023-10-13</td><td>3</td><td>6070</td><td>18210</td></tr><tr><td>C038</td><td>Manoj</td><td>Hyderabad</td><td>H04</td><td>Sea View Resort</td><td>Bangalore</td><td>2023-11-28</td><td>5</td><td>3404</td><td>17020</td></tr><tr><td>C039</td><td>Neha</td><td>Hyderabad</td><td>H06</td><td>City Palace</td><td>Delhi</td><td>2023-10-08</td><td>5</td><td>6059</td><td>30295</td></tr><tr><td>C040</td><td>Amit</td><td>Delhi</td><td>H02</td><td>City Palace</td><td>Mumbai</td><td>2023-10-16</td><td>7</td><td>4546</td><td>31822</td></tr><tr><td>C041</td><td>Kiran</td><td>Kolkata</td><td>H06</td><td>Royal Stay</td><td>Hyderabad</td><td>2023-06-26</td><td>1</td><td>5105</td><td>5105</td></tr><tr><td>C042</td><td>Neha</td><td>Bangalore</td><td>H05</td><td>Sea View Resort</td><td>Mumbai</td><td>2023-12-28</td><td>2</td><td>4702</td><td>9404</td></tr><tr><td>C043</td><td>Sneha</td><td>Pune</td><td>H06</td><td>City Palace</td><td>Delhi</td><td>2023-11-10</td><td>1</td><td>3645</td><td>3645</td></tr><tr><td>C044</td><td>Rohit</td><td>Delhi</td><td>H06</td><td>Sunshine Inn</td><td>Hyderabad</td><td>2023-10-25</td><td>7</td><td>6025</td><td>42175</td></tr><tr><td>C045</td><td>Amit</td><td>Bangalore</td><td>H03</td><td>Comfort Suites</td><td>Kolkata</td><td>2023-10-01</td><td>4</td><td>2451</td><td>9804</td></tr><tr><td>C046</td><td>Ravi</td><td>Delhi</td><td>H01</td><td>Hotel Grand</td><td>Delhi</td><td>2023-03-12</td><td>1</td><td>2978</td><td>2978</td></tr><tr><td>C047</td><td>Ravi</td><td>Delhi</td><td>H01</td><td>Sunshine Inn</td><td>Delhi</td><td>2023-02-14</td><td>7</td><td>4573</td><td>32011</td></tr><tr><td>C048</td><td>Sneha</td><td>Kolkata</td><td>H05</td><td>Royal Stay</td><td>Kolkata</td><td>2023-01-14</td><td>5</td><td>6956</td><td>34780</td></tr><tr><td>C049</td><td>Ravi</td><td>Chennai</td><td>H05</td><td>Hotel Grand</td><td>Kolkata</td><td>2023-10-21</td><td>1</td><td>7794</td><td>7794</td></tr><tr><td>C050</td><td>Manoj</td><td>Delhi</td><td>H04</td><td>City Palace</td><td>Mumbai</td><td>2023-04-22</td><td>4</td><td>4077</td><td>16308</td></tr><tr><td>C051</td><td>Amit</td><td>Bangalore</td><td>H02</td><td>Hotel Grand</td><td>Mumbai</td><td>2023-08-10</td><td>6</td><td>7317</td><td>43902</td></tr><tr><td>C052</td><td>Anita</td><td>Pune</td><td>H01</td><td>Hotel Grand</td><td>Kolkata</td><td>2023-08-22</td><td>3</td><td>5207</td><td>15621</td></tr><tr><td>C053</td><td>Sneha</td><td>Kolkata</td><td>H06</td><td>Royal Stay</td><td>Delhi</td><td>2023-09-16</td><td>6</td><td>3762</td><td>22572</td></tr><tr><td>C054</td><td>Rohit</td><td>Bangalore</td><td>H06</td><td>Royal Stay</td><td>Mumbai</td><td>2023-10-24</td><td>1</td><td>2694</td><td>2694</td></tr><tr><td>C055</td><td>Manoj</td><td>Chennai</td><td>H06</td><td>Royal Stay</td><td>Mumbai</td><td>2023-06-24</td><td>6</td><td>5695</td><td>34170</td></tr><tr><td>C056</td><td>Manoj</td><td>Chennai</td><td>H05</td><td>City Palace</td><td>Chennai</td><td>2023-09-10</td><td>6</td><td>3183</td><td>19098</td></tr><tr><td>C057</td><td>Ravi</td><td>Mumbai</td><td>H06</td><td>Comfort Suites</td><td>Chennai</td><td>2023-05-17</td><td>1</td><td>6093</td><td>6093</td></tr><tr><td>C058</td><td>Amit</td><td>Delhi</td><td>H03</td><td>Sea View Resort</td><td>Hyderabad</td><td>2023-11-03</td><td>2</td><td>7220</td><td>14440</td></tr><tr><td>C059</td><td>Manoj</td><td>Chennai</td><td>H02</td><td>Sea View Resort</td><td>Bangalore</td><td>2023-11-02</td><td>3</td><td>7951</td><td>23853</td></tr><tr><td>C060</td><td>Priya</td><td>Hyderabad</td><td>H06</td><td>Hotel Grand</td><td>Kolkata</td><td>2023-03-13</td><td>2</td><td>7414</td><td>14828</td></tr><tr><td>C061</td><td>Priya</td><td>Kolkata</td><td>H01</td><td>Hotel Grand</td><td>Pune</td><td>2023-01-01</td><td>5</td><td>6290</td><td>31450</td></tr><tr><td>C062</td><td>Manoj</td><td>Chennai</td><td>H03</td><td>Hotel Grand</td><td>Mumbai</td><td>2023-03-28</td><td>5</td><td>6919</td><td>34595</td></tr><tr><td>C063</td><td>Rohit</td><td>Pune</td><td>H04</td><td>Comfort Suites</td><td>Kolkata</td><td>2023-11-07</td><td>2</td><td>4049</td><td>8098</td></tr><tr><td>C064</td><td>Kiran</td><td>Pune</td><td>H04</td><td>Sea View Resort</td><td>Bangalore</td><td>2023-04-26</td><td>7</td><td>7886</td><td>55202</td></tr><tr><td>C065</td><td>Ravi</td><td>Chennai</td><td>H02</td><td>Hotel Grand</td><td>Pune</td><td>2023-10-30</td><td>6</td><td>7964</td><td>47784</td></tr><tr><td>C066</td><td>Sunil</td><td>Chennai</td><td>H01</td><td>Sunshine Inn</td><td>Pune</td><td>2023-03-11</td><td>3</td><td>3537</td><td>10611</td></tr><tr><td>C067</td><td>Amit</td><td>Delhi</td><td>H02</td><td>Comfort Suites</td><td>Kolkata</td><td>2023-05-01</td><td>1</td><td>2713</td><td>2713</td></tr><tr><td>C068</td><td>Anita</td><td>Bangalore</td><td>H03</td><td>Sunshine Inn</td><td>Chennai</td><td>2023-12-16</td><td>1</td><td>5238</td><td>5238</td></tr><tr><td>C069</td><td>Kiran</td><td>Bangalore</td><td>H03</td><td>Sunshine Inn</td><td>Delhi</td><td>2023-03-17</td><td>5</td><td>3136</td><td>15680</td></tr><tr><td>C070</td><td>Sunil</td><td>Mumbai</td><td>H06</td><td>Sunshine Inn</td><td>Pune</td><td>2023-05-05</td><td>7</td><td>2195</td><td>15365</td></tr></tbody></table></div>"
      ]
     },
     "metadata": {
      "application/vnd.databricks.v1+output": {
       "addedWidgets": {},
       "aggData": [],
       "aggError": "",
       "aggOverflow": false,
       "aggSchema": [],
       "aggSeriesLimitReached": false,
       "aggType": "",
       "arguments": {},
       "columnCustomDisplayInfos": {},
       "data": [
        [
         "C001",
         "Neha",
         "Bangalore",
         "H03",
         "Hotel Grand",
         "Mumbai",
         "2023-05-26",
         2,
         6329,
         12658
        ],
        [
         "C002",
         "Neha",
         "Bangalore",
         "H01",
         "Hotel Grand",
         "Delhi",
         "2023-11-29",
         5,
         4568,
         22840
        ],
        [
         "C003",
         "Amit",
         "Hyderabad",
         "H03",
         "Sunshine Inn",
         "Chennai",
         "2023-08-18",
         5,
         5809,
         29045
        ],
        [
         "C004",
         "Sunil",
         "Pune",
         "H01",
         "Sunshine Inn",
         "Chennai",
         "2023-03-07",
         4,
         4086,
         16344
        ],
        [
         "C005",
         "Manoj",
         "Mumbai",
         "H03",
         "Sunshine Inn",
         "Pune",
         "2023-08-12",
         1,
         2136,
         2136
        ],
        [
         "C006",
         "Ravi",
         "Pune",
         "H05",
         "Sunshine Inn",
         "Delhi",
         "2023-11-02",
         1,
         6470,
         6470
        ],
        [
         "C007",
         "Kiran",
         "Chennai",
         "H02",
         "City Palace",
         "Delhi",
         "2023-09-08",
         6,
         2676,
         16056
        ],
        [
         "C008",
         "Amit",
         "Hyderabad",
         "H01",
         "City Palace",
         "Bangalore",
         "2023-11-08",
         2,
         7001,
         14002
        ],
        [
         "C009",
         "Anita",
         "Pune",
         "H05",
         "Sunshine Inn",
         "Mumbai",
         "2023-11-12",
         5,
         7963,
         39815
        ],
        [
         "C010",
         "Sunil",
         "Delhi",
         "H05",
         "Sunshine Inn",
         "Mumbai",
         "2023-04-07",
         6,
         5646,
         33876
        ],
        [
         "C011",
         "Kiran",
         "Hyderabad",
         "H05",
         "Comfort Suites",
         "Kolkata",
         "2023-06-15",
         1,
         7275,
         7275
        ],
        [
         "C012",
         "Kiran",
         "Chennai",
         "H06",
         "Sea View Resort",
         "Chennai",
         "2023-05-30",
         2,
         7657,
         15314
        ],
        [
         "C013",
         "Neha",
         "Hyderabad",
         "H04",
         "Sea View Resort",
         "Kolkata",
         "2023-10-14",
         4,
         2388,
         9552
        ],
        [
         "C014",
         "Priya",
         "Bangalore",
         "H04",
         "Sea View Resort",
         "Chennai",
         "2023-04-12",
         6,
         6307,
         37842
        ],
        [
         "C015",
         "Anita",
         "Hyderabad",
         "H04",
         "Comfort Suites",
         "Delhi",
         "2023-08-18",
         5,
         6503,
         32515
        ],
        [
         "C016",
         "Anita",
         "Mumbai",
         "H06",
         "Hotel Grand",
         "Mumbai",
         "2023-09-07",
         3,
         5099,
         15297
        ],
        [
         "C017",
         "Kiran",
         "Mumbai",
         "H03",
         "City Palace",
         "Delhi",
         "2023-12-17",
         7,
         5223,
         36561
        ],
        [
         "C018",
         "Neha",
         "Pune",
         "H03",
         "Royal Stay",
         "Delhi",
         "2023-09-23",
         2,
         6791,
         13582
        ],
        [
         "C019",
         "Sneha",
         "Bangalore",
         "H05",
         "Royal Stay",
         "Hyderabad",
         "2023-12-02",
         4,
         2052,
         8208
        ],
        [
         "C020",
         "Sneha",
         "Chennai",
         "H02",
         "Comfort Suites",
         "Pune",
         "2023-05-01",
         2,
         3131,
         6262
        ],
        [
         "C021",
         "Amit",
         "Chennai",
         "H04",
         "Royal Stay",
         "Kolkata",
         "2023-06-29",
         1,
         7285,
         7285
        ],
        [
         "C022",
         "Amit",
         "Bangalore",
         "H02",
         "Comfort Suites",
         "Kolkata",
         "2023-12-31",
         6,
         7735,
         46410
        ],
        [
         "C023",
         "Anita",
         "Chennai",
         "H06",
         "Hotel Grand",
         "Pune",
         "2023-05-27",
         7,
         4764,
         33348
        ],
        [
         "C024",
         "Kiran",
         "Hyderabad",
         "H03",
         "Hotel Grand",
         "Delhi",
         "2023-07-24",
         4,
         2230,
         8920
        ],
        [
         "C025",
         "Sneha",
         "Bangalore",
         "H01",
         "Comfort Suites",
         "Delhi",
         "2023-10-27",
         6,
         7940,
         47640
        ],
        [
         "C026",
         "Manoj",
         "Delhi",
         "H03",
         "Hotel Grand",
         "Delhi",
         "2023-07-09",
         2,
         2982,
         5964
        ],
        [
         "C027",
         "Priya",
         "Delhi",
         "H05",
         "Sunshine Inn",
         "Mumbai",
         "2023-04-25",
         7,
         6133,
         42931
        ],
        [
         "C028",
         "Priya",
         "Hyderabad",
         "H05",
         "Hotel Grand",
         "Bangalore",
         "2023-03-22",
         4,
         6068,
         24272
        ],
        [
         "C029",
         "Ravi",
         "Mumbai",
         "H03",
         "City Palace",
         "Mumbai",
         "2023-07-21",
         7,
         4946,
         34622
        ],
        [
         "C030",
         "Manoj",
         "Pune",
         "H02",
         "Comfort Suites",
         "Kolkata",
         "2023-03-20",
         7,
         4138,
         28966
        ],
        [
         "C031",
         "Priya",
         "Kolkata",
         "H06",
         "City Palace",
         "Chennai",
         "2023-09-10",
         1,
         7428,
         7428
        ],
        [
         "C032",
         "Neha",
         "Kolkata",
         "H03",
         "Royal Stay",
         "Mumbai",
         "2023-12-10",
         3,
         4984,
         14952
        ],
        [
         "C033",
         "Ravi",
         "Chennai",
         "H01",
         "Royal Stay",
         "Bangalore",
         "2023-04-11",
         3,
         5625,
         16875
        ],
        [
         "C034",
         "Priya",
         "Hyderabad",
         "H01",
         "City Palace",
         "Pune",
         "2023-06-16",
         6,
         4840,
         29040
        ],
        [
         "C035",
         "Manoj",
         "Kolkata",
         "H04",
         "City Palace",
         "Delhi",
         "2023-01-25",
         5,
         5336,
         26680
        ],
        [
         "C036",
         "Priya",
         "Mumbai",
         "H02",
         "Hotel Grand",
         "Bangalore",
         "2023-11-05",
         2,
         4536,
         9072
        ],
        [
         "C037",
         "Amit",
         "Pune",
         "H03",
         "Comfort Suites",
         "Chennai",
         "2023-10-13",
         3,
         6070,
         18210
        ],
        [
         "C038",
         "Manoj",
         "Hyderabad",
         "H04",
         "Sea View Resort",
         "Bangalore",
         "2023-11-28",
         5,
         3404,
         17020
        ],
        [
         "C039",
         "Neha",
         "Hyderabad",
         "H06",
         "City Palace",
         "Delhi",
         "2023-10-08",
         5,
         6059,
         30295
        ],
        [
         "C040",
         "Amit",
         "Delhi",
         "H02",
         "City Palace",
         "Mumbai",
         "2023-10-16",
         7,
         4546,
         31822
        ],
        [
         "C041",
         "Kiran",
         "Kolkata",
         "H06",
         "Royal Stay",
         "Hyderabad",
         "2023-06-26",
         1,
         5105,
         5105
        ],
        [
         "C042",
         "Neha",
         "Bangalore",
         "H05",
         "Sea View Resort",
         "Mumbai",
         "2023-12-28",
         2,
         4702,
         9404
        ],
        [
         "C043",
         "Sneha",
         "Pune",
         "H06",
         "City Palace",
         "Delhi",
         "2023-11-10",
         1,
         3645,
         3645
        ],
        [
         "C044",
         "Rohit",
         "Delhi",
         "H06",
         "Sunshine Inn",
         "Hyderabad",
         "2023-10-25",
         7,
         6025,
         42175
        ],
        [
         "C045",
         "Amit",
         "Bangalore",
         "H03",
         "Comfort Suites",
         "Kolkata",
         "2023-10-01",
         4,
         2451,
         9804
        ],
        [
         "C046",
         "Ravi",
         "Delhi",
         "H01",
         "Hotel Grand",
         "Delhi",
         "2023-03-12",
         1,
         2978,
         2978
        ],
        [
         "C047",
         "Ravi",
         "Delhi",
         "H01",
         "Sunshine Inn",
         "Delhi",
         "2023-02-14",
         7,
         4573,
         32011
        ],
        [
         "C048",
         "Sneha",
         "Kolkata",
         "H05",
         "Royal Stay",
         "Kolkata",
         "2023-01-14",
         5,
         6956,
         34780
        ],
        [
         "C049",
         "Ravi",
         "Chennai",
         "H05",
         "Hotel Grand",
         "Kolkata",
         "2023-10-21",
         1,
         7794,
         7794
        ],
        [
         "C050",
         "Manoj",
         "Delhi",
         "H04",
         "City Palace",
         "Mumbai",
         "2023-04-22",
         4,
         4077,
         16308
        ],
        [
         "C051",
         "Amit",
         "Bangalore",
         "H02",
         "Hotel Grand",
         "Mumbai",
         "2023-08-10",
         6,
         7317,
         43902
        ],
        [
         "C052",
         "Anita",
         "Pune",
         "H01",
         "Hotel Grand",
         "Kolkata",
         "2023-08-22",
         3,
         5207,
         15621
        ],
        [
         "C053",
         "Sneha",
         "Kolkata",
         "H06",
         "Royal Stay",
         "Delhi",
         "2023-09-16",
         6,
         3762,
         22572
        ],
        [
         "C054",
         "Rohit",
         "Bangalore",
         "H06",
         "Royal Stay",
         "Mumbai",
         "2023-10-24",
         1,
         2694,
         2694
        ],
        [
         "C055",
         "Manoj",
         "Chennai",
         "H06",
         "Royal Stay",
         "Mumbai",
         "2023-06-24",
         6,
         5695,
         34170
        ],
        [
         "C056",
         "Manoj",
         "Chennai",
         "H05",
         "City Palace",
         "Chennai",
         "2023-09-10",
         6,
         3183,
         19098
        ],
        [
         "C057",
         "Ravi",
         "Mumbai",
         "H06",
         "Comfort Suites",
         "Chennai",
         "2023-05-17",
         1,
         6093,
         6093
        ],
        [
         "C058",
         "Amit",
         "Delhi",
         "H03",
         "Sea View Resort",
         "Hyderabad",
         "2023-11-03",
         2,
         7220,
         14440
        ],
        [
         "C059",
         "Manoj",
         "Chennai",
         "H02",
         "Sea View Resort",
         "Bangalore",
         "2023-11-02",
         3,
         7951,
         23853
        ],
        [
         "C060",
         "Priya",
         "Hyderabad",
         "H06",
         "Hotel Grand",
         "Kolkata",
         "2023-03-13",
         2,
         7414,
         14828
        ],
        [
         "C061",
         "Priya",
         "Kolkata",
         "H01",
         "Hotel Grand",
         "Pune",
         "2023-01-01",
         5,
         6290,
         31450
        ],
        [
         "C062",
         "Manoj",
         "Chennai",
         "H03",
         "Hotel Grand",
         "Mumbai",
         "2023-03-28",
         5,
         6919,
         34595
        ],
        [
         "C063",
         "Rohit",
         "Pune",
         "H04",
         "Comfort Suites",
         "Kolkata",
         "2023-11-07",
         2,
         4049,
         8098
        ],
        [
         "C064",
         "Kiran",
         "Pune",
         "H04",
         "Sea View Resort",
         "Bangalore",
         "2023-04-26",
         7,
         7886,
         55202
        ],
        [
         "C065",
         "Ravi",
         "Chennai",
         "H02",
         "Hotel Grand",
         "Pune",
         "2023-10-30",
         6,
         7964,
         47784
        ],
        [
         "C066",
         "Sunil",
         "Chennai",
         "H01",
         "Sunshine Inn",
         "Pune",
         "2023-03-11",
         3,
         3537,
         10611
        ],
        [
         "C067",
         "Amit",
         "Delhi",
         "H02",
         "Comfort Suites",
         "Kolkata",
         "2023-05-01",
         1,
         2713,
         2713
        ],
        [
         "C068",
         "Anita",
         "Bangalore",
         "H03",
         "Sunshine Inn",
         "Chennai",
         "2023-12-16",
         1,
         5238,
         5238
        ],
        [
         "C069",
         "Kiran",
         "Bangalore",
         "H03",
         "Sunshine Inn",
         "Delhi",
         "2023-03-17",
         5,
         3136,
         15680
        ],
        [
         "C070",
         "Sunil",
         "Mumbai",
         "H06",
         "Sunshine Inn",
         "Pune",
         "2023-05-05",
         7,
         2195,
         15365
        ]
       ],
       "datasetInfos": [],
       "dbfsResultPath": null,
       "isJsonSchema": true,
       "metadata": {},
       "overflow": false,
       "plotOptions": {
        "customPlotOptions": {},
        "displayType": "table",
        "pivotAggregation": null,
        "pivotColumns": null,
        "xColumns": null,
        "yColumns": null
       },
       "removedWidgets": [],
       "schema": [
        {
         "metadata": "{}",
         "name": "customer_id",
         "type": "\"string\""
        },
        {
         "metadata": "{}",
         "name": "customer_name",
         "type": "\"string\""
        },
        {
         "metadata": "{}",
         "name": "customer_city",
         "type": "\"string\""
        },
        {
         "metadata": "{}",
         "name": "hotel_id",
         "type": "\"string\""
        },
        {
         "metadata": "{}",
         "name": "hotel_name",
         "type": "\"string\""
        },
        {
         "metadata": "{}",
         "name": "hotel_city",
         "type": "\"string\""
        },
        {
         "metadata": "{\"__detected_date_formats\": \"yyyy-M-d\"}",
         "name": "booking_date",
         "type": "\"date\""
        },
        {
         "metadata": "{}",
         "name": "nights",
         "type": "\"integer\""
        },
        {
         "metadata": "{}",
         "name": "price_per_night",
         "type": "\"integer\""
        },
        {
         "metadata": "{}",
         "name": "total_amount",
         "type": "\"integer\""
        }
       ],
       "type": "table"
      }
     },
     "output_type": "display_data"
    }
   ],
   "source": [
    "df = spark.table(\"dlt_demo.default.bookings_dataset\")\n",
    "display(df)"
   ]
  },
  {
   "cell_type": "code",
   "execution_count": 0,
   "metadata": {
    "application/vnd.databricks.v1+cell": {
     "cellMetadata": {
      "byteLimit": 2048000,
      "rowLimit": 10000
     },
     "inputWidgets": {},
     "nuid": "07f92512-07e1-4b39-af28-82447ad44fb8",
     "showTitle": false,
     "tableResultSettingsMap": {},
     "title": ""
    }
   },
   "outputs": [
    {
     "output_type": "stream",
     "name": "stdout",
     "output_type": "stream",
     "text": [
      "+---------------+-------------+\n|     hotel_name|total_revenue|\n+---------------+-------------+\n|    Hotel Grand|       331323|\n|   Sunshine Inn|       291697|\n|    City Palace|       265557|\n| Comfort Suites|       213986|\n|Sea View Resort|       182627|\n|     Royal Stay|       160223|\n+---------------+-------------+\n\n"
     ]
    }
   ],
   "source": [
    "from pyspark.sql.functions import sum as _sum, col\n",
    "\n",
    "# Total Revenue per Hotel\n",
    "revenue_per_hotel = df.groupBy(\"hotel_name\") \\\n",
    "    .agg(_sum(\"total_amount\").alias(\"total_revenue\")) \\\n",
    "    .orderBy(col(\"total_revenue\").desc())\n",
    "\n",
    "revenue_per_hotel.show()"
   ]
  },
  {
   "cell_type": "code",
   "execution_count": 0,
   "metadata": {
    "application/vnd.databricks.v1+cell": {
     "cellMetadata": {
      "byteLimit": 2048000,
      "rowLimit": 10000
     },
     "inputWidgets": {},
     "nuid": "01f92568-8a37-42af-857e-31f48e69f45e",
     "showTitle": false,
     "tableResultSettingsMap": {},
     "title": ""
    }
   },
   "outputs": [
    {
     "output_type": "display_data",
     "data": {
      "text/html": [
       "<style scoped>\n",
       "  .table-result-container {\n",
       "    max-height: 300px;\n",
       "    overflow: auto;\n",
       "  }\n",
       "  table, th, td {\n",
       "    border: 1px solid black;\n",
       "    border-collapse: collapse;\n",
       "  }\n",
       "  th, td {\n",
       "    padding: 5px;\n",
       "  }\n",
       "  th {\n",
       "    text-align: left;\n",
       "  }\n",
       "</style><div class='table-result-container'><table class='table-result'><thead style='background-color: white'><tr><th>hotel_city</th><th>avg_stay_duration</th></tr></thead><tbody><tr><td>Pune</td><td>4.63</td></tr><tr><td>Mumbai</td><td>4.57</td></tr><tr><td>Delhi</td><td>4.25</td></tr><tr><td>Bangalore</td><td>3.71</td></tr><tr><td>Hyderabad</td><td>3.5</td></tr><tr><td>Chennai</td><td>3.22</td></tr><tr><td>Kolkata</td><td>3.08</td></tr></tbody></table></div>"
      ]
     },
     "metadata": {
      "application/vnd.databricks.v1+output": {
       "addedWidgets": {},
       "aggData": [],
       "aggError": "",
       "aggOverflow": false,
       "aggSchema": [],
       "aggSeriesLimitReached": false,
       "aggType": "",
       "arguments": {},
       "columnCustomDisplayInfos": {},
       "data": [
        [
         "Pune",
         4.63
        ],
        [
         "Mumbai",
         4.57
        ],
        [
         "Delhi",
         4.25
        ],
        [
         "Bangalore",
         3.71
        ],
        [
         "Hyderabad",
         3.5
        ],
        [
         "Chennai",
         3.22
        ],
        [
         "Kolkata",
         3.08
        ]
       ],
       "datasetInfos": [],
       "dbfsResultPath": null,
       "isJsonSchema": true,
       "metadata": {},
       "overflow": false,
       "plotOptions": {
        "customPlotOptions": {},
        "displayType": "table",
        "pivotAggregation": null,
        "pivotColumns": null,
        "xColumns": null,
        "yColumns": null
       },
       "removedWidgets": [],
       "schema": [
        {
         "metadata": "{}",
         "name": "hotel_city",
         "type": "\"string\""
        },
        {
         "metadata": "{}",
         "name": "avg_stay_duration",
         "type": "\"double\""
        }
       ],
       "type": "table"
      }
     },
     "output_type": "display_data"
    },
    {
     "output_type": "display_data",
     "data": {
      "text/plain": [
       "Databricks visualization. Run in Databricks to view."
      ]
     },
     "metadata": {
      "application/vnd.databricks.v1.subcommand+json": {
       "baseErrorDetails": null,
       "bindings": {},
       "collapsed": false,
       "command": "%python\n__backend_agg_display_orig = display\n__backend_agg_dfs = []\ndef __backend_agg_display_new(df):\n    __backend_agg_df_modules = [\"pandas.core.frame\", \"databricks.koalas.frame\", \"pyspark.sql.dataframe\", \"pyspark.pandas.frame\", \"pyspark.sql.connect.dataframe\"]\n    if (type(df).__module__ in __backend_agg_df_modules and type(df).__name__ == 'DataFrame') or isinstance(df, list):\n        __backend_agg_dfs.append(df)\n\ndisplay = __backend_agg_display_new\n\ndef __backend_agg_user_code_fn():\n    import base64\n    exec(base64.standard_b64decode(\"ZnJvbSBweXNwYXJrLnNxbC5mdW5jdGlvbnMgaW1wb3J0IGF2Zywgcm91bmQKCiMgQXZlcmFnZSBzdGF5IGR1cmF0aW9uIGJ5IGNpdHkKYXZnX3N0YXkgPSBkZi5ncm91cEJ5KCJob3RlbF9jaXR5IikgXAogICAgLmFnZyhyb3VuZChhdmcoIm5pZ2h0cyIpLCAyKS5hbGlhcygiYXZnX3N0YXlfZHVyYXRpb24iKSkgXAogICAgLm9yZGVyQnkoImF2Z19zdGF5X2R1cmF0aW9uIiwgYXNjZW5kaW5nPUZhbHNlKQoKZGlzcGxheShhdmdfc3RheSk=\").decode())\n\ntry:\n    # run user code\n    __backend_agg_user_code_fn()\n\n    #reset display function\n    display = __backend_agg_display_orig\n\n    if len(__backend_agg_dfs) > 0:\n        # create a temp view\n        if type(__backend_agg_dfs[0]).__module__ == \"databricks.koalas.frame\":\n            # koalas dataframe\n            __backend_agg_dfs[0].to_spark().createOrReplaceTempView(\"DatabricksView9d7c2ed\")\n        elif type(__backend_agg_dfs[0]).__module__ == \"pandas.core.frame\" or isinstance(__backend_agg_dfs[0], list):\n            # pandas dataframe\n            spark.createDataFrame(__backend_agg_dfs[0]).createOrReplaceTempView(\"DatabricksView9d7c2ed\")\n        else:\n            __backend_agg_dfs[0].createOrReplaceTempView(\"DatabricksView9d7c2ed\")\n        #run backend agg\n        display(spark.sql(\"\"\"WITH q AS (select * from DatabricksView9d7c2ed) SELECT `hotel_city`,SUM(`avg_stay_duration`) `column_5c5eb624422` FROM q GROUP BY `hotel_city`\"\"\"))\n    else:\n        displayHTML(\"dataframe no longer exists. If you're using dataframe.display(), use display(dataframe) instead.\")\n\n\nfinally:\n    spark.sql(\"drop view if exists DatabricksView9d7c2ed\")\n    display = __backend_agg_display_orig\n    del __backend_agg_display_new\n    del __backend_agg_display_orig\n    del __backend_agg_dfs\n    del __backend_agg_user_code_fn\n\n",
       "commandTitle": "Visualization 1",
       "commandType": "auto",
       "commandVersion": 0,
       "commentThread": [],
       "commentsVisible": false,
       "contentSha256Hex": null,
       "customPlotOptions": {
        "redashChart": [
         {
          "key": "type",
          "value": "CHART"
         },
         {
          "key": "options",
          "value": {
           "alignYAxesAtZero": true,
           "coefficient": 1,
           "columnConfigurationMap": {
            "x": {
             "column": "hotel_city",
             "id": "column_5c5eb624421"
            },
            "y": [
             {
              "column": "avg_stay_duration",
              "id": "column_5c5eb624422",
              "transform": "SUM"
             }
            ]
           },
           "dateTimeFormat": "DD/MM/YYYY HH:mm",
           "direction": {
            "type": "counterclockwise"
           },
           "error_y": {
            "type": "data",
            "visible": true
           },
           "globalSeriesType": "pie",
           "legend": {
            "traceorder": "normal"
           },
           "missingValuesAsZero": true,
           "numberFormat": "0,0.[00000]",
           "percentFormat": "0[.]00%",
           "series": {
            "error_y": {
             "type": "data",
             "visible": true
            },
            "stacking": null
           },
           "seriesOptions": {
            "column_5c5eb624422": {
             "name": "avg_stay_duration",
             "type": "pie",
             "yAxis": 0
            }
           },
           "showDataLabels": true,
           "sizemode": "diameter",
           "sortX": true,
           "sortY": true,
           "swappedAxes": false,
           "textFormat": "",
           "useAggregationsUi": true,
           "valuesOptions": {},
           "version": 2,
           "xAxis": {
            "labels": {
             "enabled": true
            },
            "type": "-"
           },
           "yAxis": [
            {
             "type": "-"
            },
            {
             "opposite": true,
             "type": "-"
            }
           ]
          }
         }
        ]
       },
       "datasetPreviewNameToCmdIdMap": {},
       "diffDeletes": [],
       "diffInserts": [],
       "displayType": "redashChart",
       "error": null,
       "errorDetails": null,
       "errorSummary": null,
       "errorTraceType": null,
       "finishTime": 0,
       "globalVars": {},
       "guid": "",
       "height": "auto",
       "hideCommandCode": false,
       "hideCommandResult": false,
       "iPythonMetadata": null,
       "inputWidgets": {},
       "isLockedInExamMode": false,
       "latestUser": "a user",
       "latestUserId": null,
       "listResultMetadata": null,
       "metadata": {},
       "nuid": "1ae94160-2046-43da-8996-41567b16943c",
       "origId": 0,
       "parentHierarchy": [],
       "pivotAggregation": null,
       "pivotColumns": null,
       "position": 12.0,
       "resultDbfsErrorMessage": null,
       "resultDbfsStatus": "INLINED_IN_TREE",
       "results": null,
       "showCommandTitle": false,
       "startTime": 0,
       "state": "input",
       "streamStates": {},
       "subcommandOptions": {
        "queryPlan": {
         "groups": [
          {
           "column": "hotel_city",
           "type": "column"
          }
         ],
         "selects": [
          {
           "column": "hotel_city",
           "type": "column"
          },
          {
           "alias": "column_5c5eb624422",
           "args": [
            {
             "column": "avg_stay_duration",
             "type": "column"
            }
           ],
           "function": "SUM",
           "type": "function"
          }
         ]
        }
       },
       "submitTime": 0,
       "subtype": "tableResultSubCmd.visualization",
       "tableResultIndex": 0,
       "tableResultSettingsMap": {},
       "useConsistentColors": false,
       "version": "CommandV1",
       "width": "auto",
       "workflows": [],
       "xColumns": null,
       "yColumns": null
      }
     },
     "output_type": "display_data"
    }
   ],
   "source": [
    "from pyspark.sql.functions import avg, round\n",
    "\n",
    "# Average stay duration by city\n",
    "avg_stay = df.groupBy(\"hotel_city\") \\\n",
    "    .agg(round(avg(\"nights\"), 2).alias(\"avg_stay_duration\")) \\\n",
    "    .orderBy(\"avg_stay_duration\", ascending=False)\n",
    "\n",
    "display(avg_stay)"
   ]
  }
 ],
 "metadata": {
  "application/vnd.databricks.v1+notebook": {
   "computePreferences": null,
   "dashboards": [
    {
     "elements": [
      {
       "dashboardResultIndex": null,
       "elementNUID": "6a154f7c-1ad5-40d5-9fa4-8dfba6ba72f0",
       "elementType": "command",
       "guid": "7c76da32-c68d-42fd-9f81-35392d024c7d",
       "options": null,
       "position": {
        "height": 6,
        "width": 12,
        "x": 0,
        "y": 0,
        "z": null
       },
       "resultIndex": null
      },
      {
       "dashboardResultIndex": null,
       "elementNUID": "f7d86b43-b58d-4cda-b88e-1266d12b8155",
       "elementType": "command",
       "guid": "7f6653b5-214d-4ac1-ac7e-4ee582de272c",
       "options": null,
       "position": {
        "height": 6,
        "width": 12,
        "x": 0,
        "y": 12,
        "z": null
       },
       "resultIndex": null
      },
      {
       "dashboardResultIndex": null,
       "elementNUID": "f7d86b43-b58d-4cda-b88e-1266d12b8155",
       "elementType": "command",
       "guid": "8385b0da-a571-4f43-aa6d-19cdc35ffc2f",
       "options": null,
       "position": {
        "height": 6,
        "width": 12,
        "x": 0,
        "y": 18,
        "z": null
       },
       "resultIndex": null
      },
      {
       "dashboardResultIndex": null,
       "elementNUID": "6a154f7c-1ad5-40d5-9fa4-8dfba6ba72f0",
       "elementType": "command",
       "guid": "a4418979-f558-4982-a909-6c1e45b918e8",
       "options": null,
       "position": {
        "height": 6,
        "width": 12,
        "x": 0,
        "y": 24,
        "z": null
       },
       "resultIndex": null
      },
      {
       "dashboardResultIndex": null,
       "elementNUID": "6a154f7c-1ad5-40d5-9fa4-8dfba6ba72f0",
       "elementType": "command",
       "guid": "a7c19af1-ef8b-49d1-81d6-1e47f74cd5e4",
       "options": null,
       "position": {
        "height": 6,
        "width": 12,
        "x": 0,
        "y": 30,
        "z": null
       },
       "resultIndex": null
      },
      {
       "dashboardResultIndex": null,
       "elementNUID": "2d966d21-a385-4126-bf53-26184fd72826",
       "elementType": "command",
       "guid": "cb32d374-bc05-43ef-88dc-6e4003e4975e",
       "options": null,
       "position": {
        "height": 6,
        "width": 12,
        "x": 0,
        "y": 36,
        "z": null
       },
       "resultIndex": null
      },
      {
       "dashboardResultIndex": null,
       "elementNUID": "6a154f7c-1ad5-40d5-9fa4-8dfba6ba72f0",
       "elementType": "command",
       "guid": "dd4e7cb0-c923-4af2-a106-6c0f02d76a9b",
       "options": null,
       "position": {
        "height": 6,
        "width": 12,
        "x": 0,
        "y": 42,
        "z": null
       },
       "resultIndex": null
      }
     ],
     "globalVars": {},
     "guid": "",
     "layoutOption": {
      "grid": true,
      "stack": false
     },
     "nuid": "a32dcab1-ddfa-4a31-9203-d4e5514691ae",
     "origId": 5283314428433291,
     "title": "Travel and Tourism Dashboard",
     "version": "DashboardViewV1",
     "width": 1024
    }
   ],
   "environmentMetadata": null,
   "inputWidgetPreferences": null,
   "language": "python",
   "notebookMetadata": {
    "mostRecentlyExecutedCommandWithImplicitDF": {
     "commandId": 5283314428433290,
     "dataframes": [
      "_sqldf"
     ]
    },
    "pythonIndentUnit": 2
   },
   "notebookName": "Travel",
   "widgets": {}
  },
  "language_info": {
   "name": "python"
  }
 },
 "nbformat": 4,
 "nbformat_minor": 0
}